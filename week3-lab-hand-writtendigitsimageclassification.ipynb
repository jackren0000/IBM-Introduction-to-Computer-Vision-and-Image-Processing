{
 "cells": [
  {
   "cell_type": "markdown",
   "id": "da206640",
   "metadata": {
    "papermill": {
     "duration": 0.012205,
     "end_time": "2024-02-27T03:42:09.705492",
     "exception": false,
     "start_time": "2024-02-27T03:42:09.693287",
     "status": "completed"
    },
    "tags": []
   },
   "source": [
    "<p style=\"text-align:center\">\n",
    "    <a href=\"https://skills.network/?utm_medium=Exinfluencer&utm_source=Exinfluencer&utm_content=000026UJ&utm_term=10006555&utm_id=NA-SkillsNetwork-Channel-SkillsNetworkCoursesIBMDeveloperSkillsNetworkCV0101ENCoursera872-2023-01-01\">\n",
    "    <img src=\"https://cf-courses-data.s3.us.cloud-object-storage.appdomain.cloud/assets/logos/SN_web_lightmode.png\" width=\"200\" alt=\"Skills Network Logo\"  />\n",
    "    </a>\n",
    "</p>\n"
   ]
  },
  {
   "cell_type": "markdown",
   "id": "cda4642f",
   "metadata": {
    "papermill": {
     "duration": 0.012852,
     "end_time": "2024-02-27T03:42:09.730548",
     "exception": false,
     "start_time": "2024-02-27T03:42:09.717696",
     "status": "completed"
    },
    "tags": []
   },
   "source": [
    "<h1>Digit Classification with Softmax</h1>\n"
   ]
  },
  {
   "cell_type": "markdown",
   "id": "044a0873",
   "metadata": {
    "papermill": {
     "duration": 0.011398,
     "end_time": "2024-02-27T03:42:09.754188",
     "exception": false,
     "start_time": "2024-02-27T03:42:09.742790",
     "status": "completed"
    },
    "tags": []
   },
   "source": [
    "<h2>Objectives</h2>\n",
    "\n",
    "<ul>\n",
    "    <li>Download the Training and Validation MNIST Digit Images</li>\n",
    "    <li>Create a Softmax Classifier using PyTorch</li>\n",
    "    <li>Create a Criterion, Optimizer, and Data Loaders</li>\n",
    "    <li>Create a Data Loader and set the Batch Size</li>\n",
    "    <li>Train a Model</li>\n",
    "    <li>Analyze Results and Model</li>\n",
    "</ul> \n"
   ]
  },
  {
   "cell_type": "markdown",
   "id": "82c20c17",
   "metadata": {
    "papermill": {
     "duration": 0.011092,
     "end_time": "2024-02-27T03:42:09.777707",
     "exception": false,
     "start_time": "2024-02-27T03:42:09.766615",
     "status": "completed"
    },
    "tags": []
   },
   "source": [
    "<h2>Table of Contents</h2>\n",
    "<p>In this lab, you will use a single-layer Softmax Classifier to classify handwritten digits from the MNIST database.</p>\n",
    "\n",
    "<ul>\n",
    "    <li><a href=\"#Makeup_Data\">Make some Data</a></li>\n",
    "    <li><a href=\"#Classifier\">Build a Softmax Classifier</a></li>\n",
    "    <li><a href=\"#Model\">Define Softmax, Criterion Function, Optimizer, and Train the Model</a></li>\n",
    "    <li><a href=\"#Result\">Analyze Results</a></li>\n",
    "</ul>\n",
    "<p>Estimated Time Needed: <strong>25 min</strong></p>\n",
    "\n",
    "<hr>\n"
   ]
  },
  {
   "cell_type": "markdown",
   "id": "68ed9a89",
   "metadata": {
    "papermill": {
     "duration": 0.01177,
     "end_time": "2024-02-27T03:42:09.801614",
     "exception": false,
     "start_time": "2024-02-27T03:42:09.789844",
     "status": "completed"
    },
    "tags": []
   },
   "source": [
    "<h2>Preparation</h2>\n"
   ]
  },
  {
   "cell_type": "markdown",
   "id": "8cb633b2",
   "metadata": {
    "papermill": {
     "duration": 0.011481,
     "end_time": "2024-02-27T03:42:09.825196",
     "exception": false,
     "start_time": "2024-02-27T03:42:09.813715",
     "status": "completed"
    },
    "tags": []
   },
   "source": [
    "We'll need the following libraries\n"
   ]
  },
  {
   "cell_type": "code",
   "execution_count": 1,
   "id": "6b4e98b0",
   "metadata": {
    "execution": {
     "iopub.execute_input": "2024-02-27T03:42:09.851233Z",
     "iopub.status.busy": "2024-02-27T03:42:09.850543Z",
     "iopub.status.idle": "2024-02-27T03:42:09.855569Z",
     "shell.execute_reply": "2024-02-27T03:42:09.854561Z"
    },
    "papermill": {
     "duration": 0.020833,
     "end_time": "2024-02-27T03:42:09.857953",
     "exception": false,
     "start_time": "2024-02-27T03:42:09.837120",
     "status": "completed"
    },
    "tags": []
   },
   "outputs": [],
   "source": [
    "# !pip3 install torch torchvision torchaudio"
   ]
  },
  {
   "cell_type": "code",
   "execution_count": 2,
   "id": "ad5bc62a",
   "metadata": {
    "execution": {
     "iopub.execute_input": "2024-02-27T03:42:09.882985Z",
     "iopub.status.busy": "2024-02-27T03:42:09.882651Z",
     "iopub.status.idle": "2024-02-27T03:42:16.304555Z",
     "shell.execute_reply": "2024-02-27T03:42:16.303310Z"
    },
    "papermill": {
     "duration": 6.437001,
     "end_time": "2024-02-27T03:42:16.306807",
     "exception": false,
     "start_time": "2024-02-27T03:42:09.869806",
     "status": "completed"
    },
    "tags": []
   },
   "outputs": [],
   "source": [
    "# Import the libraries we need for this lab\n",
    "\n",
    "# Using the following line code to install the torchvision library\n",
    "# !conda install -y torchvision\n",
    "\n",
    "# PyTorch Library\n",
    "import torch \n",
    "# PyTorch Neural Network\n",
    "import torch.nn as nn\n",
    "# Allows us to transform data\n",
    "import torchvision.transforms as transforms\n",
    "# Allows us to get the digit dataset\n",
    "import torchvision.datasets as dsets\n",
    "# Creating graphs\n",
    "import matplotlib.pyplot as plt\n",
    "# Allows us to use arrays to manipulate and store data\n",
    "import numpy as np"
   ]
  },
  {
   "cell_type": "markdown",
   "id": "84ecd554",
   "metadata": {
    "papermill": {
     "duration": 0.01187,
     "end_time": "2024-02-27T03:42:16.330313",
     "exception": false,
     "start_time": "2024-02-27T03:42:16.318443",
     "status": "completed"
    },
    "tags": []
   },
   "source": [
    "Use the following function to plot out the parameters of the Softmax function:\n"
   ]
  },
  {
   "cell_type": "code",
   "execution_count": 3,
   "id": "059c82e0",
   "metadata": {
    "execution": {
     "iopub.execute_input": "2024-02-27T03:42:16.356252Z",
     "iopub.status.busy": "2024-02-27T03:42:16.355753Z",
     "iopub.status.idle": "2024-02-27T03:42:16.363104Z",
     "shell.execute_reply": "2024-02-27T03:42:16.361754Z"
    },
    "papermill": {
     "duration": 0.023029,
     "end_time": "2024-02-27T03:42:16.365441",
     "exception": false,
     "start_time": "2024-02-27T03:42:16.342412",
     "status": "completed"
    },
    "tags": []
   },
   "outputs": [],
   "source": [
    "# The function to plot parameters\n",
    "# visualize the weights of a linear layer from a PyTorch model\n",
    "def PlotParameters(model): \n",
    "    # extracts the weights from the model's linear layer\n",
    "    # .data attribute gives you the tensor containing actual values of weights \n",
    "    # and detach from the computational graph\n",
    "    W = model.state_dict()['linear.weight'].data\n",
    "    # find the desired value and convert it to std Python number\n",
    "    w_min = W.min().item()\n",
    "    w_max = W.max().item()\n",
    "    # axes will be a 2D Numpy array\n",
    "    fig, axes = plt.subplots(2, 5)\n",
    "    fig.subplots_adjust(hspace=0.01, wspace=0.1)\n",
    "    for i, ax in enumerate(axes.flat):\n",
    "        if i < 10:\n",
    "            \n",
    "            # Set the label for the sub-plot.\n",
    "            ax.set_xlabel(\"class: {0}\".format(i))\n",
    "\n",
    "            # Plot the image.\n",
    "            # set the ith sample and reshape it to image shape\n",
    "            ax.imshow(W[i, :].view(28, 28), vmin=w_min, vmax=w_max, cmap='seismic')\n",
    "\n",
    "            ax.set_xticks([])\n",
    "            ax.set_yticks([])\n",
    "\n",
    "        # Ensure the plot is shown correctly with multiple plots\n",
    "        # in a single Notebook cell.\n",
    "    plt.show()"
   ]
  },
  {
   "cell_type": "markdown",
   "id": "549cfa3a",
   "metadata": {
    "papermill": {
     "duration": 0.011278,
     "end_time": "2024-02-27T03:42:16.388732",
     "exception": false,
     "start_time": "2024-02-27T03:42:16.377454",
     "status": "completed"
    },
    "tags": []
   },
   "source": [
    "Use the following function to visualize the data: \n"
   ]
  },
  {
   "cell_type": "code",
   "execution_count": 4,
   "id": "010334cf",
   "metadata": {
    "execution": {
     "iopub.execute_input": "2024-02-27T03:42:16.413476Z",
     "iopub.status.busy": "2024-02-27T03:42:16.413073Z",
     "iopub.status.idle": "2024-02-27T03:42:16.418095Z",
     "shell.execute_reply": "2024-02-27T03:42:16.416682Z"
    },
    "papermill": {
     "duration": 0.019645,
     "end_time": "2024-02-27T03:42:16.419873",
     "exception": false,
     "start_time": "2024-02-27T03:42:16.400228",
     "status": "completed"
    },
    "tags": []
   },
   "outputs": [],
   "source": [
    "# Plot the data\n",
    "\n",
    "def show_data(data_sample):\n",
    "    plt.imshow(data_sample[0].numpy().reshape(28, 28), cmap='gray')\n",
    "    plt.title(f'y = {data_sample[1]}')\n",
    "    plt.show()"
   ]
  },
  {
   "cell_type": "markdown",
   "id": "d0d9785d",
   "metadata": {
    "papermill": {
     "duration": 0.011392,
     "end_time": "2024-02-27T03:42:16.443339",
     "exception": false,
     "start_time": "2024-02-27T03:42:16.431947",
     "status": "completed"
    },
    "tags": []
   },
   "source": [
    "<!--Empty Space for separating topics-->\n"
   ]
  },
  {
   "cell_type": "markdown",
   "id": "358743c1",
   "metadata": {
    "papermill": {
     "duration": 0.011407,
     "end_time": "2024-02-27T03:42:16.466239",
     "exception": false,
     "start_time": "2024-02-27T03:42:16.454832",
     "status": "completed"
    },
    "tags": []
   },
   "source": [
    "<h2 id=\"Makeup_Data\">Make Some Data</h2> \n"
   ]
  },
  {
   "cell_type": "markdown",
   "id": "39032f6b",
   "metadata": {
    "papermill": {
     "duration": 0.011967,
     "end_time": "2024-02-27T03:42:16.490977",
     "exception": false,
     "start_time": "2024-02-27T03:42:16.479010",
     "status": "completed"
    },
    "tags": []
   },
   "source": [
    "Load the <em>training</em> dataset by setting the parameters <code>train</code> to <code>True</code> and convert it to a tensor by placing a transform object in the argument <code>transform</code>.\n"
   ]
  },
  {
   "cell_type": "code",
   "execution_count": 5,
   "id": "cef9587c",
   "metadata": {
    "execution": {
     "iopub.execute_input": "2024-02-27T03:42:16.521112Z",
     "iopub.status.busy": "2024-02-27T03:42:16.520266Z",
     "iopub.status.idle": "2024-02-27T03:42:17.547086Z",
     "shell.execute_reply": "2024-02-27T03:42:17.545824Z"
    },
    "papermill": {
     "duration": 1.043947,
     "end_time": "2024-02-27T03:42:17.548912",
     "exception": false,
     "start_time": "2024-02-27T03:42:16.504965",
     "status": "completed"
    },
    "tags": []
   },
   "outputs": [
    {
     "name": "stdout",
     "output_type": "stream",
     "text": [
      "Downloading http://yann.lecun.com/exdb/mnist/train-images-idx3-ubyte.gz\n",
      "Downloading http://yann.lecun.com/exdb/mnist/train-images-idx3-ubyte.gz to ./data/MNIST/raw/train-images-idx3-ubyte.gz\n"
     ]
    },
    {
     "name": "stderr",
     "output_type": "stream",
     "text": [
      "100%|██████████| 9912422/9912422 [00:00<00:00, 231773215.92it/s]"
     ]
    },
    {
     "name": "stdout",
     "output_type": "stream",
     "text": [
      "Extracting ./data/MNIST/raw/train-images-idx3-ubyte.gz to ./data/MNIST/raw\n"
     ]
    },
    {
     "name": "stderr",
     "output_type": "stream",
     "text": [
      "\n"
     ]
    },
    {
     "name": "stdout",
     "output_type": "stream",
     "text": [
      "\n",
      "Downloading http://yann.lecun.com/exdb/mnist/train-labels-idx1-ubyte.gz\n",
      "Downloading http://yann.lecun.com/exdb/mnist/train-labels-idx1-ubyte.gz to ./data/MNIST/raw/train-labels-idx1-ubyte.gz\n"
     ]
    },
    {
     "name": "stderr",
     "output_type": "stream",
     "text": [
      "100%|██████████| 28881/28881 [00:00<00:00, 50642012.47it/s]"
     ]
    },
    {
     "name": "stdout",
     "output_type": "stream",
     "text": [
      "Extracting ./data/MNIST/raw/train-labels-idx1-ubyte.gz to ./data/MNIST/raw\n",
      "\n",
      "Downloading http://yann.lecun.com/exdb/mnist/t10k-images-idx3-ubyte.gz\n"
     ]
    },
    {
     "name": "stderr",
     "output_type": "stream",
     "text": [
      "\n"
     ]
    },
    {
     "name": "stdout",
     "output_type": "stream",
     "text": [
      "Downloading http://yann.lecun.com/exdb/mnist/t10k-images-idx3-ubyte.gz to ./data/MNIST/raw/t10k-images-idx3-ubyte.gz\n"
     ]
    },
    {
     "name": "stderr",
     "output_type": "stream",
     "text": [
      "100%|██████████| 1648877/1648877 [00:00<00:00, 74338045.60it/s]\n"
     ]
    },
    {
     "name": "stdout",
     "output_type": "stream",
     "text": [
      "Extracting ./data/MNIST/raw/t10k-images-idx3-ubyte.gz to ./data/MNIST/raw\n",
      "\n",
      "Downloading http://yann.lecun.com/exdb/mnist/t10k-labels-idx1-ubyte.gz\n",
      "Downloading http://yann.lecun.com/exdb/mnist/t10k-labels-idx1-ubyte.gz to ./data/MNIST/raw/t10k-labels-idx1-ubyte.gz\n"
     ]
    },
    {
     "name": "stderr",
     "output_type": "stream",
     "text": [
      "100%|██████████| 4542/4542 [00:00<00:00, 8935520.06it/s]\n"
     ]
    },
    {
     "name": "stdout",
     "output_type": "stream",
     "text": [
      "Extracting ./data/MNIST/raw/t10k-labels-idx1-ubyte.gz to ./data/MNIST/raw\n",
      "\n",
      "Print the training dataset:\n",
      "  Dataset MNIST\n",
      "    Number of datapoints: 60000\n",
      "    Root location: ./data\n",
      "    Split: Train\n",
      "    StandardTransform\n",
      "Transform: ToTensor()\n"
     ]
    }
   ],
   "source": [
    "# Create and print the training dataset\n",
    "\n",
    "train_dataset = dsets.MNIST(root='./data', train=True, download=True, transform=transforms.ToTensor())\n",
    "print(\"Print the training dataset:\\n \", train_dataset)"
   ]
  },
  {
   "cell_type": "markdown",
   "id": "5bcdd3e5",
   "metadata": {
    "papermill": {
     "duration": 0.012453,
     "end_time": "2024-02-27T03:42:17.574225",
     "exception": false,
     "start_time": "2024-02-27T03:42:17.561772",
     "status": "completed"
    },
    "tags": []
   },
   "source": [
    "Load the <em>testing</em> dataset and convert it to a tensor by placing a transform object in the argument <code>transform</code>.\n"
   ]
  },
  {
   "cell_type": "code",
   "execution_count": 6,
   "id": "5340486f",
   "metadata": {
    "execution": {
     "iopub.execute_input": "2024-02-27T03:42:17.600974Z",
     "iopub.status.busy": "2024-02-27T03:42:17.600602Z",
     "iopub.status.idle": "2024-02-27T03:42:17.651065Z",
     "shell.execute_reply": "2024-02-27T03:42:17.649976Z"
    },
    "papermill": {
     "duration": 0.066516,
     "end_time": "2024-02-27T03:42:17.653362",
     "exception": false,
     "start_time": "2024-02-27T03:42:17.586846",
     "status": "completed"
    },
    "tags": []
   },
   "outputs": [
    {
     "name": "stdout",
     "output_type": "stream",
     "text": [
      "Print the validation dataset:\n",
      "  Dataset MNIST\n",
      "    Number of datapoints: 60000\n",
      "    Root location: ./data\n",
      "    Split: Train\n",
      "    StandardTransform\n",
      "Transform: ToTensor()\n"
     ]
    }
   ],
   "source": [
    "# Create and print the validation dataset\n",
    "\n",
    "validation_dataset = dsets.MNIST(root='./data', download=True, transform=transforms.ToTensor())\n",
    "print(\"Print the validation dataset:\\n \", validation_dataset)"
   ]
  },
  {
   "cell_type": "markdown",
   "id": "ac5e0bb4",
   "metadata": {
    "papermill": {
     "duration": 0.012501,
     "end_time": "2024-02-27T03:42:17.680205",
     "exception": false,
     "start_time": "2024-02-27T03:42:17.667704",
     "status": "completed"
    },
    "tags": []
   },
   "source": [
    "We can access the data by indexing the train_dataset and test_dataset\n"
   ]
  },
  {
   "cell_type": "code",
   "execution_count": 7,
   "id": "74e18a59",
   "metadata": {
    "execution": {
     "iopub.execute_input": "2024-02-27T03:42:17.708619Z",
     "iopub.status.busy": "2024-02-27T03:42:17.708055Z",
     "iopub.status.idle": "2024-02-27T03:42:17.938049Z",
     "shell.execute_reply": "2024-02-27T03:42:17.936893Z"
    },
    "papermill": {
     "duration": 0.247036,
     "end_time": "2024-02-27T03:42:17.940084",
     "exception": false,
     "start_time": "2024-02-27T03:42:17.693048",
     "status": "completed"
    },
    "tags": []
   },
   "outputs": [
    {
     "name": "stdout",
     "output_type": "stream",
     "text": [
      "First Image and Label\n"
     ]
    },
    {
     "data": {
      "image/png": "[encoded data removed]",
      "text/plain": [
       "<Figure size 640x480 with 1 Axes>"
      ]
     },
     "metadata": {},
     "output_type": "display_data"
    }
   ],
   "source": [
    "# Print the first image and label\n",
    "\n",
    "print(\"First Image and Label\")\n",
    "show_data(train_dataset[0])"
   ]
  },
  {
   "cell_type": "markdown",
   "id": "89979c23",
   "metadata": {
    "papermill": {
     "duration": 0.013059,
     "end_time": "2024-02-27T03:42:17.966564",
     "exception": false,
     "start_time": "2024-02-27T03:42:17.953505",
     "status": "completed"
    },
    "tags": []
   },
   "source": [
    "Each element in the rectangular tensor corresponds to a number which represents a pixel intensity, as demonstrated by the following image:\n"
   ]
  },
  {
   "cell_type": "markdown",
   "id": "c6f18dee",
   "metadata": {
    "papermill": {
     "duration": 0.063778,
     "end_time": "2024-02-27T03:42:18.043315",
     "exception": false,
     "start_time": "2024-02-27T03:42:17.979537",
     "status": "completed"
    },
    "tags": []
   },
   "source": [
    "<img src=\"https://s3-api.us-geo.objectstorage.softlayer.net/cf-courses-data/CognitiveClass/DL0110EN/notebook_images%20/chapter3/3.32_image_values.png\" width=\"550\" alt=\"MNIST elements\">\n"
   ]
  },
  {
   "cell_type": "markdown",
   "id": "10e6af94",
   "metadata": {
    "papermill": {
     "duration": 0.013129,
     "end_time": "2024-02-27T03:42:18.069653",
     "exception": false,
     "start_time": "2024-02-27T03:42:18.056524",
     "status": "completed"
    },
    "tags": []
   },
   "source": [
    "In this image, the values are inverted i.e black represents white.\n"
   ]
  },
  {
   "cell_type": "markdown",
   "id": "c99d1e83",
   "metadata": {
    "papermill": {
     "duration": 0.012988,
     "end_time": "2024-02-27T03:42:18.095882",
     "exception": false,
     "start_time": "2024-02-27T03:42:18.082894",
     "status": "completed"
    },
    "tags": []
   },
   "source": [
    "Print out the label of the fourth element:\n"
   ]
  },
  {
   "cell_type": "code",
   "execution_count": 8,
   "id": "9495cff1",
   "metadata": {
    "execution": {
     "iopub.execute_input": "2024-02-27T03:42:18.124796Z",
     "iopub.status.busy": "2024-02-27T03:42:18.124454Z",
     "iopub.status.idle": "2024-02-27T03:42:18.130275Z",
     "shell.execute_reply": "2024-02-27T03:42:18.129409Z"
    },
    "papermill": {
     "duration": 0.022646,
     "end_time": "2024-02-27T03:42:18.132154",
     "exception": false,
     "start_time": "2024-02-27T03:42:18.109508",
     "status": "completed"
    },
    "tags": []
   },
   "outputs": [
    {
     "name": "stdout",
     "output_type": "stream",
     "text": [
      "The label:  1\n"
     ]
    }
   ],
   "source": [
    "# Print the label\n",
    "\n",
    "print(\"The label: \", train_dataset[3][1])"
   ]
  },
  {
   "cell_type": "markdown",
   "id": "a9ef0fc9",
   "metadata": {
    "papermill": {
     "duration": 0.012771,
     "end_time": "2024-02-27T03:42:18.158251",
     "exception": false,
     "start_time": "2024-02-27T03:42:18.145480",
     "status": "completed"
    },
    "tags": []
   },
   "source": [
    "The result shows the number in the image is 1\n"
   ]
  },
  {
   "cell_type": "markdown",
   "id": "afbd4d24",
   "metadata": {
    "papermill": {
     "duration": 0.012843,
     "end_time": "2024-02-27T03:42:18.184085",
     "exception": false,
     "start_time": "2024-02-27T03:42:18.171242",
     "status": "completed"
    },
    "tags": []
   },
   "source": [
    "Plot  the fourth sample:\n"
   ]
  },
  {
   "cell_type": "code",
   "execution_count": 9,
   "id": "37d7a213",
   "metadata": {
    "execution": {
     "iopub.execute_input": "2024-02-27T03:42:18.212160Z",
     "iopub.status.busy": "2024-02-27T03:42:18.211860Z",
     "iopub.status.idle": "2024-02-27T03:42:18.381914Z",
     "shell.execute_reply": "2024-02-27T03:42:18.380450Z"
    },
    "papermill": {
     "duration": 0.186739,
     "end_time": "2024-02-27T03:42:18.384187",
     "exception": false,
     "start_time": "2024-02-27T03:42:18.197448",
     "status": "completed"
    },
    "tags": []
   },
   "outputs": [
    {
     "name": "stdout",
     "output_type": "stream",
     "text": [
      "First Image and Label\n"
     ]
    },
    {
     "data": {
      "image/png": "[encoded data removed]",
      "text/plain": [
       "<Figure size 640x480 with 1 Axes>"
      ]
     },
     "metadata": {},
     "output_type": "display_data"
    }
   ],
   "source": [
    "# Plot the image\n",
    "\n",
    "print(\"First Image and Label\")\n",
    "show_data(train_dataset[3])"
   ]
  },
  {
   "cell_type": "markdown",
   "id": "a16dd224",
   "metadata": {
    "papermill": {
     "duration": 0.013039,
     "end_time": "2024-02-27T03:42:18.410811",
     "exception": false,
     "start_time": "2024-02-27T03:42:18.397772",
     "status": "completed"
    },
    "tags": []
   },
   "source": [
    "You see that it is a 1. Now, plot the third sample:\n"
   ]
  },
  {
   "cell_type": "code",
   "execution_count": 10,
   "id": "73c57969",
   "metadata": {
    "execution": {
     "iopub.execute_input": "2024-02-27T03:42:18.440116Z",
     "iopub.status.busy": "2024-02-27T03:42:18.439302Z",
     "iopub.status.idle": "2024-02-27T03:42:18.588164Z",
     "shell.execute_reply": "2024-02-27T03:42:18.586765Z"
    },
    "papermill": {
     "duration": 0.166002,
     "end_time": "2024-02-27T03:42:18.590740",
     "exception": false,
     "start_time": "2024-02-27T03:42:18.424738",
     "status": "completed"
    },
    "tags": []
   },
   "outputs": [
    {
     "data": {
      "image/png": "[encoded data removed]",
      "text/plain": [
       "<Figure size 640x480 with 1 Axes>"
      ]
     },
     "metadata": {},
     "output_type": "display_data"
    }
   ],
   "source": [
    "# Plot the image\n",
    "\n",
    "show_data(train_dataset[2])"
   ]
  },
  {
   "cell_type": "markdown",
   "id": "6583667c",
   "metadata": {
    "papermill": {
     "duration": 0.014474,
     "end_time": "2024-02-27T03:42:18.619266",
     "exception": false,
     "start_time": "2024-02-27T03:42:18.604792",
     "status": "completed"
    },
    "tags": []
   },
   "source": [
    "<!--Empty Space for separating topics-->\n"
   ]
  },
  {
   "cell_type": "markdown",
   "id": "6c2a3f51",
   "metadata": {
    "papermill": {
     "duration": 0.013489,
     "end_time": "2024-02-27T03:42:18.646685",
     "exception": false,
     "start_time": "2024-02-27T03:42:18.633196",
     "status": "completed"
    },
    "tags": []
   },
   "source": [
    "<h2 id=\"#Classifier\">Build a Softmax Classifer</h2>\n"
   ]
  },
  {
   "cell_type": "markdown",
   "id": "1215268d",
   "metadata": {
    "papermill": {
     "duration": 0.013499,
     "end_time": "2024-02-27T03:42:18.674011",
     "exception": false,
     "start_time": "2024-02-27T03:42:18.660512",
     "status": "completed"
    },
    "tags": []
   },
   "source": [
    "Build a Softmax classifier class: \n"
   ]
  },
  {
   "cell_type": "code",
   "execution_count": 11,
   "id": "6b5e7cc1",
   "metadata": {
    "execution": {
     "iopub.execute_input": "2024-02-27T03:42:18.703611Z",
     "iopub.status.busy": "2024-02-27T03:42:18.703201Z",
     "iopub.status.idle": "2024-02-27T03:42:18.708917Z",
     "shell.execute_reply": "2024-02-27T03:42:18.707902Z"
    },
    "papermill": {
     "duration": 0.022793,
     "end_time": "2024-02-27T03:42:18.710747",
     "exception": false,
     "start_time": "2024-02-27T03:42:18.687954",
     "status": "completed"
    },
    "tags": []
   },
   "outputs": [],
   "source": [
    "# Define softmax classifier class\n",
    "# Inherits nn.Module which is the base class for all neural networks\n",
    "class SoftMax(nn.Module):\n",
    "    \n",
    "    # Constructor\n",
    "    def __init__(self, input_size, output_size):\n",
    "        super().__init__()\n",
    "        # Creates a layer of given input size and output size\n",
    "        self.linear = nn.Linear(input_size, output_size)\n",
    "        \n",
    "    # Prediction\n",
    "    def forward(self, x):\n",
    "        # Runs the x value through the single layers defined above\n",
    "        z = self.linear(x)\n",
    "        return z"
   ]
  },
  {
   "cell_type": "markdown",
   "id": "0649442c",
   "metadata": {
    "papermill": {
     "duration": 0.013437,
     "end_time": "2024-02-27T03:42:18.738375",
     "exception": false,
     "start_time": "2024-02-27T03:42:18.724938",
     "status": "completed"
    },
    "tags": []
   },
   "source": [
    "The Softmax function requires vector inputs. Note that the vector shape is 28x28.\n"
   ]
  },
  {
   "cell_type": "code",
   "execution_count": 12,
   "id": "b0bb2715",
   "metadata": {
    "execution": {
     "iopub.execute_input": "2024-02-27T03:42:18.774181Z",
     "iopub.status.busy": "2024-02-27T03:42:18.773245Z",
     "iopub.status.idle": "2024-02-27T03:42:18.780757Z",
     "shell.execute_reply": "2024-02-27T03:42:18.778848Z"
    },
    "papermill": {
     "duration": 0.025707,
     "end_time": "2024-02-27T03:42:18.782997",
     "exception": false,
     "start_time": "2024-02-27T03:42:18.757290",
     "status": "completed"
    },
    "tags": []
   },
   "outputs": [
    {
     "data": {
      "text/plain": [
       "torch.Size([1, 28, 28])"
      ]
     },
     "execution_count": 12,
     "metadata": {},
     "output_type": "execute_result"
    }
   ],
   "source": [
    "# Print the shape of the training dataset\n",
    "\n",
    "train_dataset[0][0].shape"
   ]
  },
  {
   "cell_type": "markdown",
   "id": "03507d13",
   "metadata": {
    "papermill": {
     "duration": 0.013982,
     "end_time": "2024-02-27T03:42:18.812991",
     "exception": false,
     "start_time": "2024-02-27T03:42:18.799009",
     "status": "completed"
    },
    "tags": []
   },
   "source": [
    "Flatten the tensor as shown in this image: \n"
   ]
  },
  {
   "cell_type": "markdown",
   "id": "4862cfd6",
   "metadata": {
    "papermill": {
     "duration": 0.013917,
     "end_time": "2024-02-27T03:42:18.841741",
     "exception": false,
     "start_time": "2024-02-27T03:42:18.827824",
     "status": "completed"
    },
    "tags": []
   },
   "source": [
    "<img src=\"https://s3-api.us-geo.objectstorage.softlayer.net/cf-courses-data/CognitiveClass/DL0110EN/notebook_images%20/chapter3/3.3.2image_to_vector.gif\" width=\"550\" alt=\"Flattern Image\">\n"
   ]
  },
  {
   "cell_type": "markdown",
   "id": "1766ea2e",
   "metadata": {
    "papermill": {
     "duration": 0.014297,
     "end_time": "2024-02-27T03:42:18.870076",
     "exception": false,
     "start_time": "2024-02-27T03:42:18.855779",
     "status": "completed"
    },
    "tags": []
   },
   "source": [
    "The size of the tensor is now 784.\n"
   ]
  },
  {
   "cell_type": "markdown",
   "id": "e7bcef4a",
   "metadata": {
    "papermill": {
     "duration": 0.014241,
     "end_time": "2024-02-27T03:42:18.899105",
     "exception": false,
     "start_time": "2024-02-27T03:42:18.884864",
     "status": "completed"
    },
    "tags": []
   },
   "source": [
    "<img src=\"https://s3-api.us-geo.objectstorage.softlayer.net/cf-courses-data/CognitiveClass/DL0110EN/notebook_images%20/chapter3/3.3.2Imagetovector2.png\" width=\"550\" alt=\"Flattern Image\">\n"
   ]
  },
  {
   "cell_type": "markdown",
   "id": "0ae678df",
   "metadata": {
    "papermill": {
     "duration": 0.013943,
     "end_time": "2024-02-27T03:42:18.927020",
     "exception": false,
     "start_time": "2024-02-27T03:42:18.913077",
     "status": "completed"
    },
    "tags": []
   },
   "source": [
    "Set the input size and output size: \n"
   ]
  },
  {
   "cell_type": "code",
   "execution_count": 13,
   "id": "51ac5b50",
   "metadata": {
    "execution": {
     "iopub.execute_input": "2024-02-27T03:42:18.958034Z",
     "iopub.status.busy": "2024-02-27T03:42:18.957479Z",
     "iopub.status.idle": "2024-02-27T03:42:18.961701Z",
     "shell.execute_reply": "2024-02-27T03:42:18.960494Z"
    },
    "papermill": {
     "duration": 0.022591,
     "end_time": "2024-02-27T03:42:18.963956",
     "exception": false,
     "start_time": "2024-02-27T03:42:18.941365",
     "status": "completed"
    },
    "tags": []
   },
   "outputs": [],
   "source": [
    "# Set input size and output size\n",
    "\n",
    "input_dim = 28 * 28\n",
    "output_dim = 10"
   ]
  },
  {
   "cell_type": "markdown",
   "id": "a79745d0",
   "metadata": {
    "papermill": {
     "duration": 0.013462,
     "end_time": "2024-02-27T03:42:18.991494",
     "exception": false,
     "start_time": "2024-02-27T03:42:18.978032",
     "status": "completed"
    },
    "tags": []
   },
   "source": [
    "<!--Empty Space for separating topics-->\n"
   ]
  },
  {
   "cell_type": "markdown",
   "id": "398941c7",
   "metadata": {
    "papermill": {
     "duration": 0.01361,
     "end_time": "2024-02-27T03:42:19.019804",
     "exception": false,
     "start_time": "2024-02-27T03:42:19.006194",
     "status": "completed"
    },
    "tags": []
   },
   "source": [
    "<h2 id=\"Model\">Define the Softmax Classifier, Criterion Function, Optimizer, and Train the Model</h2> \n"
   ]
  },
  {
   "cell_type": "code",
   "execution_count": 14,
   "id": "73ba7cd3",
   "metadata": {
    "execution": {
     "iopub.execute_input": "2024-02-27T03:42:19.049338Z",
     "iopub.status.busy": "2024-02-27T03:42:19.049001Z",
     "iopub.status.idle": "2024-02-27T03:42:19.059180Z",
     "shell.execute_reply": "2024-02-27T03:42:19.058606Z"
    },
    "papermill": {
     "duration": 0.027056,
     "end_time": "2024-02-27T03:42:19.060946",
     "exception": false,
     "start_time": "2024-02-27T03:42:19.033890",
     "status": "completed"
    },
    "tags": []
   },
   "outputs": [
    {
     "name": "stdout",
     "output_type": "stream",
     "text": [
      "Print the model:\n",
      "  SoftMax(\n",
      "  (linear): Linear(in_features=784, out_features=10, bias=True)\n",
      ")\n"
     ]
    }
   ],
   "source": [
    "# Create the model\n",
    "# Input dim is 28*28 which is the image converted to a tensor\n",
    "# Output dim is 10 because there are 10 possible digits the image can be\n",
    "model = SoftMax(input_dim, output_dim)\n",
    "print(\"Print the model:\\n \", model)"
   ]
  },
  {
   "cell_type": "markdown",
   "id": "0e7accdf",
   "metadata": {
    "papermill": {
     "duration": 0.014747,
     "end_time": "2024-02-27T03:42:19.090176",
     "exception": false,
     "start_time": "2024-02-27T03:42:19.075429",
     "status": "completed"
    },
    "tags": []
   },
   "source": [
    "View the size of the model parameters: \n"
   ]
  },
  {
   "cell_type": "code",
   "execution_count": 15,
   "id": "f11ef490",
   "metadata": {
    "execution": {
     "iopub.execute_input": "2024-02-27T03:42:19.121259Z",
     "iopub.status.busy": "2024-02-27T03:42:19.120294Z",
     "iopub.status.idle": "2024-02-27T03:42:19.126268Z",
     "shell.execute_reply": "2024-02-27T03:42:19.124729Z"
    },
    "papermill": {
     "duration": 0.024062,
     "end_time": "2024-02-27T03:42:19.128777",
     "exception": false,
     "start_time": "2024-02-27T03:42:19.104715",
     "status": "completed"
    },
    "tags": []
   },
   "outputs": [
    {
     "name": "stdout",
     "output_type": "stream",
     "text": [
      "W:  torch.Size([10, 784])\n",
      "b:  torch.Size([10])\n"
     ]
    }
   ],
   "source": [
    "# Print the parameters\n",
    "# convert model.parameters() iterator into a list\n",
    "print('W: ',list(model.parameters())[0].size())\n",
    "print('b: ',list(model.parameters())[1].size())"
   ]
  },
  {
   "cell_type": "markdown",
   "id": "784172d6",
   "metadata": {
    "papermill": {
     "duration": 0.013708,
     "end_time": "2024-02-27T03:42:19.157118",
     "exception": false,
     "start_time": "2024-02-27T03:42:19.143410",
     "status": "completed"
    },
    "tags": []
   },
   "source": [
    "You can convert the model parameters for each class to a rectangular grid:  \n"
   ]
  },
  {
   "cell_type": "markdown",
   "id": "b2e5b8a0",
   "metadata": {
    "papermill": {
     "duration": 0.01456,
     "end_time": "2024-02-27T03:42:19.186286",
     "exception": false,
     "start_time": "2024-02-27T03:42:19.171726",
     "status": "completed"
    },
    "tags": []
   },
   "source": [
    "<a>     <img src=\"https://s3-api.us-geo.objectstorage.softlayer.net/cf-courses-data/CognitiveClass/DL0110EN/notebook_images%20/chapter3/3.3.2paramaters_to_image.gif\" width=\"550,\" align=\"center\"></a> \n"
   ]
  },
  {
   "cell_type": "markdown",
   "id": "cf21229a",
   "metadata": {
    "papermill": {
     "duration": 0.013793,
     "end_time": "2024-02-27T03:42:19.214132",
     "exception": false,
     "start_time": "2024-02-27T03:42:19.200339",
     "status": "completed"
    },
    "tags": []
   },
   "source": [
    "Plot the model parameters for each class as a square image: \n"
   ]
  },
  {
   "cell_type": "code",
   "execution_count": 16,
   "id": "11be7c03",
   "metadata": {
    "execution": {
     "iopub.execute_input": "2024-02-27T03:42:19.246295Z",
     "iopub.status.busy": "2024-02-27T03:42:19.245701Z",
     "iopub.status.idle": "2024-02-27T03:42:19.624374Z",
     "shell.execute_reply": "2024-02-27T03:42:19.623364Z"
    },
    "papermill": {
     "duration": 0.397601,
     "end_time": "2024-02-27T03:42:19.626350",
     "exception": false,
     "start_time": "2024-02-27T03:42:19.228749",
     "status": "completed"
    },
    "tags": []
   },
   "outputs": [
    {
     "data": {
      "image/png": "[encoded data removed]",
      "text/plain": [
       "<Figure size 640x480 with 10 Axes>"
      ]
     },
     "metadata": {},
     "output_type": "display_data"
    }
   ],
   "source": [
    "# Plot the model parameters for each class\n",
    "# Since the model has not been trained yet the parameters look random\n",
    "\n",
    "PlotParameters(model)"
   ]
  },
  {
   "cell_type": "markdown",
   "id": "82bf56ee",
   "metadata": {
    "papermill": {
     "duration": 0.015255,
     "end_time": "2024-02-27T03:42:19.657230",
     "exception": false,
     "start_time": "2024-02-27T03:42:19.641975",
     "status": "completed"
    },
    "tags": []
   },
   "source": [
    "We can make a prediction\n"
   ]
  },
  {
   "cell_type": "code",
   "execution_count": 17,
   "id": "204a474f",
   "metadata": {
    "execution": {
     "iopub.execute_input": "2024-02-27T03:42:19.688721Z",
     "iopub.status.busy": "2024-02-27T03:42:19.688389Z",
     "iopub.status.idle": "2024-02-27T03:42:19.736504Z",
     "shell.execute_reply": "2024-02-27T03:42:19.735195Z"
    },
    "papermill": {
     "duration": 0.066614,
     "end_time": "2024-02-27T03:42:19.738761",
     "exception": false,
     "start_time": "2024-02-27T03:42:19.672147",
     "status": "completed"
    },
    "tags": []
   },
   "outputs": [
    {
     "name": "stdout",
     "output_type": "stream",
     "text": [
      "torch.Size([1, 28, 28])\n",
      "torch.Size([1, 784])\n"
     ]
    },
    {
     "data": {
      "text/plain": [
       "tensor([[-0.1568,  0.1101,  0.2547,  0.0187, -0.0111,  0.0326, -0.1676, -0.2893,\n",
       "         -0.2336,  0.2292]], grad_fn=<AddmmBackward0>)"
      ]
     },
     "execution_count": 17,
     "metadata": {},
     "output_type": "execute_result"
    }
   ],
   "source": [
    "# First we get the X value of the first image\n",
    "X = train_dataset[0][0]\n",
    "# We can see the shape is 1 by 28 by 28, we need it to be flattened to 1 by 28 * 28 (784)\n",
    "print(X.shape)\n",
    "X = X.view(-1, 28*28)\n",
    "print(X.shape)\n",
    "# Now we can make a prediction, each class has a value, and the higher it is the more confident the model is that it is that digit\n",
    "model(X)"
   ]
  },
  {
   "cell_type": "markdown",
   "id": "f7c0dffa",
   "metadata": {
    "papermill": {
     "duration": 0.014364,
     "end_time": "2024-02-27T03:42:19.768063",
     "exception": false,
     "start_time": "2024-02-27T03:42:19.753699",
     "status": "completed"
    },
    "tags": []
   },
   "source": [
    "Define the learning rate, optimizer, criterion, data loader:\n"
   ]
  },
  {
   "cell_type": "code",
   "execution_count": 18,
   "id": "b73f5f0e",
   "metadata": {
    "execution": {
     "iopub.execute_input": "2024-02-27T03:42:19.800838Z",
     "iopub.status.busy": "2024-02-27T03:42:19.800494Z",
     "iopub.status.idle": "2024-02-27T03:42:19.806933Z",
     "shell.execute_reply": "2024-02-27T03:42:19.805868Z"
    },
    "papermill": {
     "duration": 0.02694,
     "end_time": "2024-02-27T03:42:19.809817",
     "exception": false,
     "start_time": "2024-02-27T03:42:19.782877",
     "status": "completed"
    },
    "tags": []
   },
   "outputs": [],
   "source": [
    "# Define the learning rate, optimizer, criterion, and data loader\n",
    "\n",
    "learning_rate = 0.1\n",
    "# The optimizer will updates the model parameters using the learning rate\n",
    "optimizer = torch.optim.SGD(model.parameters(), lr=learning_rate)\n",
    "# The criterion will measure the loss between the prediction and actual label values\n",
    "# This is where the SoftMax occurs, it is built into the Criterion Cross Entropy Loss\n",
    "criterion = nn.CrossEntropyLoss()\n",
    "# Created a training data loader so we can set the batch size\n",
    "train_loader = torch.utils.data.DataLoader(dataset=train_dataset, batch_size=100)\n",
    "# Created a validation data loader so we can set the batch size\n",
    "validation_loader = torch.utils.data.DataLoader(dataset=validation_dataset, batch_size=5000)"
   ]
  },
  {
   "cell_type": "markdown",
   "id": "24fb01d9",
   "metadata": {
    "papermill": {
     "duration": 0.014846,
     "end_time": "2024-02-27T03:42:19.839886",
     "exception": false,
     "start_time": "2024-02-27T03:42:19.825040",
     "status": "completed"
    },
    "tags": []
   },
   "source": [
    "### How Cross Entropy Loss uses SoftMax\n"
   ]
  },
  {
   "cell_type": "markdown",
   "id": "3792c07a",
   "metadata": {
    "papermill": {
     "duration": 0.015174,
     "end_time": "2024-02-27T03:42:19.869849",
     "exception": false,
     "start_time": "2024-02-27T03:42:19.854675",
     "status": "completed"
    },
    "tags": []
   },
   "source": [
    "We have X which is the X values of the first image and `actual` which is the the digit class the image belongs to. The output `model_output` is the value the model assigns to each class for that image.\n"
   ]
  },
  {
   "cell_type": "code",
   "execution_count": 19,
   "id": "ed3b90d0",
   "metadata": {
    "execution": {
     "iopub.execute_input": "2024-02-27T03:42:19.901611Z",
     "iopub.status.busy": "2024-02-27T03:42:19.901227Z",
     "iopub.status.idle": "2024-02-27T03:42:20.058326Z",
     "shell.execute_reply": "2024-02-27T03:42:20.057002Z"
    },
    "papermill": {
     "duration": 0.175315,
     "end_time": "2024-02-27T03:42:20.060231",
     "exception": false,
     "start_time": "2024-02-27T03:42:19.884916",
     "status": "completed"
    },
    "tags": []
   },
   "outputs": [
    {
     "data": {
      "image/png": "[encoded data removed]",
      "text/plain": [
       "<Figure size 640x480 with 1 Axes>"
      ]
     },
     "metadata": {},
     "output_type": "display_data"
    },
    {
     "name": "stdout",
     "output_type": "stream",
     "text": [
      "Output:  tensor([[-0.1568,  0.1101,  0.2547,  0.0187, -0.0111,  0.0326, -0.1676, -0.2893,\n",
      "         -0.2336,  0.2292]], grad_fn=<AddmmBackward0>)\n",
      "Actual: tensor([5])\n"
     ]
    }
   ],
   "source": [
    "model_output = model(X)\n",
    "actual = torch.tensor([train_dataset[0][1]])\n",
    "\n",
    "show_data(train_dataset[0])\n",
    "print(\"Output: \", model_output)\n",
    "print(\"Actual:\", actual)"
   ]
  },
  {
   "cell_type": "markdown",
   "id": "2b8420e2",
   "metadata": {
    "papermill": {
     "duration": 0.015017,
     "end_time": "2024-02-27T03:42:20.090286",
     "exception": false,
     "start_time": "2024-02-27T03:42:20.075269",
     "status": "completed"
    },
    "tags": []
   },
   "source": [
    "The criterion will take these values and return a loss\n"
   ]
  },
  {
   "cell_type": "code",
   "execution_count": 20,
   "id": "5918f7b2",
   "metadata": {
    "execution": {
     "iopub.execute_input": "2024-02-27T03:42:20.121905Z",
     "iopub.status.busy": "2024-02-27T03:42:20.121493Z",
     "iopub.status.idle": "2024-02-27T03:42:20.138793Z",
     "shell.execute_reply": "2024-02-27T03:42:20.137639Z"
    },
    "papermill": {
     "duration": 0.036512,
     "end_time": "2024-02-27T03:42:20.141658",
     "exception": false,
     "start_time": "2024-02-27T03:42:20.105146",
     "status": "completed"
    },
    "tags": []
   },
   "outputs": [
    {
     "data": {
      "text/plain": [
       "tensor(2.2645, grad_fn=<NllLossBackward0>)"
      ]
     },
     "execution_count": 20,
     "metadata": {},
     "output_type": "execute_result"
    }
   ],
   "source": [
    "criterion(model_output, actual)"
   ]
  },
  {
   "cell_type": "markdown",
   "id": "5bb772c7",
   "metadata": {
    "papermill": {
     "duration": 0.015557,
     "end_time": "2024-02-27T03:42:20.172972",
     "exception": false,
     "start_time": "2024-02-27T03:42:20.157415",
     "status": "completed"
    },
    "tags": []
   },
   "source": [
    "Cross Entropy Loss takes probabilities and we can see that `model_output` are not probabilities, this is where softmax comes in\n"
   ]
  },
  {
   "cell_type": "code",
   "execution_count": 21,
   "id": "52c41632",
   "metadata": {
    "execution": {
     "iopub.execute_input": "2024-02-27T03:42:20.205378Z",
     "iopub.status.busy": "2024-02-27T03:42:20.205044Z",
     "iopub.status.idle": "2024-02-27T03:42:20.212524Z",
     "shell.execute_reply": "2024-02-27T03:42:20.210636Z"
    },
    "papermill": {
     "duration": 0.026716,
     "end_time": "2024-02-27T03:42:20.215179",
     "exception": false,
     "start_time": "2024-02-27T03:42:20.188463",
     "status": "completed"
    },
    "tags": []
   },
   "outputs": [
    {
     "name": "stdout",
     "output_type": "stream",
     "text": [
      "tensor([[0.0860, 0.1122, 0.1297, 0.1024, 0.0994, 0.1039, 0.0850, 0.0753, 0.0796,\n",
      "         0.1264]], grad_fn=<SoftmaxBackward0>)\n"
     ]
    }
   ],
   "source": [
    "# creates a softmax function, apply it to across columns for each row\n",
    "softmax = nn.Softmax(dim=1)\n",
    "probability = softmax(model_output)\n",
    "print(probability)"
   ]
  },
  {
   "cell_type": "markdown",
   "id": "ed5063ed",
   "metadata": {
    "papermill": {
     "duration": 0.015292,
     "end_time": "2024-02-27T03:42:20.247243",
     "exception": false,
     "start_time": "2024-02-27T03:42:20.231951",
     "status": "completed"
    },
    "tags": []
   },
   "source": [
    "Now that we have probabilities, we can just calculate the negative log of the probability of the class that this image belongs to. The image belongs to the target class so we calculate the negative log of the probability at the target index.\n"
   ]
  },
  {
   "cell_type": "code",
   "execution_count": 22,
   "id": "1148491b",
   "metadata": {
    "execution": {
     "iopub.execute_input": "2024-02-27T03:42:20.279736Z",
     "iopub.status.busy": "2024-02-27T03:42:20.279358Z",
     "iopub.status.idle": "2024-02-27T03:42:20.296164Z",
     "shell.execute_reply": "2024-02-27T03:42:20.295134Z"
    },
    "papermill": {
     "duration": 0.035493,
     "end_time": "2024-02-27T03:42:20.298045",
     "exception": false,
     "start_time": "2024-02-27T03:42:20.262552",
     "status": "completed"
    },
    "tags": []
   },
   "outputs": [
    {
     "data": {
      "text/plain": [
       "tensor([2.2645], grad_fn=<MulBackward0>)"
      ]
     },
     "execution_count": 22,
     "metadata": {},
     "output_type": "execute_result"
    }
   ],
   "source": [
    "-1*torch.log(probability[0][actual])"
   ]
  },
  {
   "cell_type": "markdown",
   "id": "c91daa61",
   "metadata": {
    "papermill": {
     "duration": 0.015205,
     "end_time": "2024-02-27T03:42:20.328707",
     "exception": false,
     "start_time": "2024-02-27T03:42:20.313502",
     "status": "completed"
    },
    "tags": []
   },
   "source": [
    "As you can see the result above matches the result of the criterion, this is how Cross Entropy Loss uses Softmax.\n"
   ]
  },
  {
   "cell_type": "markdown",
   "id": "45398a29",
   "metadata": {
    "papermill": {
     "duration": 0.015993,
     "end_time": "2024-02-27T03:42:20.360201",
     "exception": false,
     "start_time": "2024-02-27T03:42:20.344208",
     "status": "completed"
    },
    "tags": []
   },
   "source": [
    "### Train\n"
   ]
  },
  {
   "cell_type": "markdown",
   "id": "629f9f05",
   "metadata": {
    "papermill": {
     "duration": 0.01607,
     "end_time": "2024-02-27T03:42:20.391519",
     "exception": false,
     "start_time": "2024-02-27T03:42:20.375449",
     "status": "completed"
    },
    "tags": []
   },
   "source": [
    "Train the model and determine validation accuracy **(should take a few minutes)**: \n"
   ]
  },
  {
   "cell_type": "code",
   "execution_count": 23,
   "id": "70977b17",
   "metadata": {
    "execution": {
     "iopub.execute_input": "2024-02-27T03:42:20.425924Z",
     "iopub.status.busy": "2024-02-27T03:42:20.425552Z",
     "iopub.status.idle": "2024-02-27T03:44:25.939164Z",
     "shell.execute_reply": "2024-02-27T03:44:25.937543Z"
    },
    "papermill": {
     "duration": 125.534838,
     "end_time": "2024-02-27T03:44:25.942404",
     "exception": false,
     "start_time": "2024-02-27T03:42:20.407566",
     "status": "completed"
    },
    "tags": []
   },
   "outputs": [],
   "source": [
    "# Number of times we train our model useing the training data\n",
    "n_epochs = 10\n",
    "# Lists to keep track of loss and accuracy\n",
    "loss_list = []\n",
    "accuracy_list = []\n",
    "# Size of the validation data\n",
    "N_test = len(validation_dataset)\n",
    "\n",
    "# Function to train the model based on number of epochs\n",
    "def train_model(n_epochs):\n",
    "    # Loops n_epochs times\n",
    "    for epoch in range(n_epochs):\n",
    "        # For each batch in the train loader\n",
    "        for x, y in train_loader:\n",
    "            # Resets the calculated gradient value, this must be done each time as it accumulates if we do not reset\n",
    "            optimizer.zero_grad()\n",
    "            # Makes a prediction based on the image tensor\n",
    "            z = model(x.view(-1, 28 * 28))\n",
    "            # Calculates loss between the model output and actual class\n",
    "            loss = criterion(z, y)\n",
    "            # Calculates the gradient value with respect to each weight and bias\n",
    "            loss.backward()\n",
    "            # Updates the weight and bias according to calculated gradient value\n",
    "            optimizer.step()\n",
    "        \n",
    "        # Each epoch we check how the model performs with data it has not seen which is the validation data, we are not training here\n",
    "        correct = 0\n",
    "        # For each batch in the validation loader\n",
    "        for x_test, y_test in validation_loader:\n",
    "            # Makes prediction based on image tensor\n",
    "            z = model(x_test.view(-1, 28 * 28))\n",
    "            # Finds the class with the higest output\n",
    "            _, yhat = torch.max(z.data, 1)\n",
    "            # Checks if the prediction matches the actual class and increments correct if it does\n",
    "            correct += (yhat == y_test).sum().item()\n",
    "        # Calculates the accuracy by dividing correct by size of validation dataset\n",
    "        accuracy = correct / N_test\n",
    "        # Keeps track loss\n",
    "        loss_list.append(loss.data)\n",
    "        # Keeps track of the accuracy\n",
    "        accuracy_list.append(accuracy)\n",
    "\n",
    "# Function call\n",
    "train_model(n_epochs)"
   ]
  },
  {
   "cell_type": "markdown",
   "id": "acf306dc",
   "metadata": {
    "papermill": {
     "duration": 0.015509,
     "end_time": "2024-02-27T03:44:25.973683",
     "exception": false,
     "start_time": "2024-02-27T03:44:25.958174",
     "status": "completed"
    },
    "tags": []
   },
   "source": [
    "<!--Empty Space for separating topics-->\n"
   ]
  },
  {
   "cell_type": "markdown",
   "id": "5d2c7dd7",
   "metadata": {
    "papermill": {
     "duration": 0.017487,
     "end_time": "2024-02-27T03:44:26.006789",
     "exception": false,
     "start_time": "2024-02-27T03:44:25.989302",
     "status": "completed"
    },
    "tags": []
   },
   "source": [
    "<h2 id=\"Result\">Analyze Results</h2> \n"
   ]
  },
  {
   "cell_type": "markdown",
   "id": "fcef5d63",
   "metadata": {
    "papermill": {
     "duration": 0.0157,
     "end_time": "2024-02-27T03:44:26.038391",
     "exception": false,
     "start_time": "2024-02-27T03:44:26.022691",
     "status": "completed"
    },
    "tags": []
   },
   "source": [
    "Plot the loss and accuracy on the validation data:\n"
   ]
  },
  {
   "cell_type": "code",
   "execution_count": 24,
   "id": "b67b7df1",
   "metadata": {
    "execution": {
     "iopub.execute_input": "2024-02-27T03:44:26.072951Z",
     "iopub.status.busy": "2024-02-27T03:44:26.071722Z",
     "iopub.status.idle": "2024-02-27T03:44:26.334446Z",
     "shell.execute_reply": "2024-02-27T03:44:26.333375Z"
    },
    "papermill": {
     "duration": 0.281899,
     "end_time": "2024-02-27T03:44:26.336341",
     "exception": false,
     "start_time": "2024-02-27T03:44:26.054442",
     "status": "completed"
    },
    "tags": []
   },
   "outputs": [
    {
     "data": {
      "image/png": "[encoded data removed]",
      "text/plain": [
       "<Figure size 640x480 with 2 Axes>"
      ]
     },
     "metadata": {},
     "output_type": "display_data"
    }
   ],
   "source": [
    "# Plot the loss and accuracy\n",
    "\n",
    "fig, ax1 = plt.subplots()\n",
    "color = 'tab:red'\n",
    "ax1.plot(loss_list,color=color)\n",
    "ax1.set_xlabel('epoch',color=color)\n",
    "ax1.set_ylabel('total loss',color=color)\n",
    "ax1.tick_params(axis='y', color=color)\n",
    "    \n",
    "ax2 = ax1.twinx()  \n",
    "color = 'tab:blue'\n",
    "ax2.set_ylabel('accuracy', color=color)  \n",
    "ax2.plot( accuracy_list, color=color)\n",
    "ax2.tick_params(axis='y', color=color)\n",
    "fig.tight_layout()"
   ]
  },
  {
   "cell_type": "markdown",
   "id": "91c5ae4e",
   "metadata": {
    "papermill": {
     "duration": 0.016474,
     "end_time": "2024-02-27T03:44:26.369477",
     "exception": false,
     "start_time": "2024-02-27T03:44:26.353003",
     "status": "completed"
    },
    "tags": []
   },
   "source": [
    "View the results of the parameters for each class after the training. You can see that they look like the corresponding numbers. \n"
   ]
  },
  {
   "cell_type": "code",
   "execution_count": 25,
   "id": "33bfdba8",
   "metadata": {
    "execution": {
     "iopub.execute_input": "2024-02-27T03:44:26.404046Z",
     "iopub.status.busy": "2024-02-27T03:44:26.403664Z",
     "iopub.status.idle": "2024-02-27T03:44:26.912322Z",
     "shell.execute_reply": "2024-02-27T03:44:26.911181Z"
    },
    "papermill": {
     "duration": 0.528445,
     "end_time": "2024-02-27T03:44:26.914215",
     "exception": false,
     "start_time": "2024-02-27T03:44:26.385770",
     "status": "completed"
    },
    "tags": []
   },
   "outputs": [
    {
     "data": {
      "image/png": "[encoded data removed]",
      "text/plain": [
       "<Figure size 640x480 with 10 Axes>"
      ]
     },
     "metadata": {},
     "output_type": "display_data"
    }
   ],
   "source": [
    "# Plot the parameters\n",
    "\n",
    "PlotParameters(model)"
   ]
  },
  {
   "cell_type": "markdown",
   "id": "d504be19",
   "metadata": {
    "papermill": {
     "duration": 0.016613,
     "end_time": "2024-02-27T03:44:26.947812",
     "exception": false,
     "start_time": "2024-02-27T03:44:26.931199",
     "status": "completed"
    },
    "tags": []
   },
   "source": [
    "We Plot the first five misclassified samples and the probability of that class.\n"
   ]
  },
  {
   "cell_type": "code",
   "execution_count": 26,
   "id": "0bf7c97e",
   "metadata": {
    "execution": {
     "iopub.execute_input": "2024-02-27T03:44:26.984214Z",
     "iopub.status.busy": "2024-02-27T03:44:26.983890Z",
     "iopub.status.idle": "2024-02-27T03:44:27.755508Z",
     "shell.execute_reply": "2024-02-27T03:44:27.754511Z"
    },
    "papermill": {
     "duration": 0.791656,
     "end_time": "2024-02-27T03:44:27.757424",
     "exception": false,
     "start_time": "2024-02-27T03:44:26.965768",
     "status": "completed"
    },
    "tags": []
   },
   "outputs": [
    {
     "data": {
      "image/png": "[encoded data removed]",
      "text/plain": [
       "<Figure size 640x480 with 1 Axes>"
      ]
     },
     "metadata": {},
     "output_type": "display_data"
    },
    {
     "name": "stdout",
     "output_type": "stream",
     "text": [
      "yhat: tensor([7])\n",
      "probability of class  0.6893676519393921\n"
     ]
    },
    {
     "data": {
      "image/png": "[encoded data removed]",
      "text/plain": [
       "<Figure size 640x480 with 1 Axes>"
      ]
     },
     "metadata": {},
     "output_type": "display_data"
    },
    {
     "name": "stdout",
     "output_type": "stream",
     "text": [
      "yhat: tensor([7])\n",
      "probability of class  0.720739483833313\n"
     ]
    },
    {
     "data": {
      "image/png": "[encoded data removed]",
      "text/plain": [
       "<Figure size 640x480 with 1 Axes>"
      ]
     },
     "metadata": {},
     "output_type": "display_data"
    },
    {
     "name": "stdout",
     "output_type": "stream",
     "text": [
      "yhat: tensor([5])\n",
      "probability of class  0.7284603714942932\n"
     ]
    },
    {
     "data": {
      "image/png": "[encoded data removed]",
      "text/plain": [
       "<Figure size 640x480 with 1 Axes>"
      ]
     },
     "metadata": {},
     "output_type": "display_data"
    },
    {
     "name": "stdout",
     "output_type": "stream",
     "text": [
      "yhat: tensor([8])\n",
      "probability of class  0.3770791292190552\n"
     ]
    },
    {
     "data": {
      "image/png": "[encoded data removed]",
      "text/plain": [
       "<Figure size 640x480 with 1 Axes>"
      ]
     },
     "metadata": {},
     "output_type": "display_data"
    },
    {
     "name": "stdout",
     "output_type": "stream",
     "text": [
      "yhat: tensor([6])\n",
      "probability of class  0.4796929955482483\n"
     ]
    }
   ],
   "source": [
    "# Plot the misclassified samples\n",
    "Softmax_fn=nn.Softmax(dim=-1)\n",
    "count = 0\n",
    "for x, y in validation_dataset:\n",
    "    z = model(x.reshape(-1, 28 * 28))\n",
    "    _, yhat = torch.max(z, 1)\n",
    "    if yhat != y:\n",
    "        show_data((x, y))\n",
    "        plt.show()\n",
    "        print(\"yhat:\", yhat)\n",
    "        print(\"probability of class \", torch.max(Softmax_fn(z)).item())\n",
    "        count += 1\n",
    "    if count >= 5:\n",
    "        break       "
   ]
  },
  {
   "cell_type": "markdown",
   "id": "a424384b",
   "metadata": {
    "papermill": {
     "duration": 0.017529,
     "end_time": "2024-02-27T03:44:27.792503",
     "exception": false,
     "start_time": "2024-02-27T03:44:27.774974",
     "status": "completed"
    },
    "tags": []
   },
   "source": [
    "<!--Empty Space for separating topics-->\n"
   ]
  },
  {
   "cell_type": "markdown",
   "id": "75ceea6d",
   "metadata": {
    "papermill": {
     "duration": 0.017683,
     "end_time": "2024-02-27T03:44:27.828216",
     "exception": false,
     "start_time": "2024-02-27T03:44:27.810533",
     "status": "completed"
    },
    "tags": []
   },
   "source": [
    "We plot the first five correctly classified samples and the probability of that class. We see the probability is much larger.\n"
   ]
  },
  {
   "cell_type": "code",
   "execution_count": 27,
   "id": "ce6896e6",
   "metadata": {
    "execution": {
     "iopub.execute_input": "2024-02-27T03:44:27.865117Z",
     "iopub.status.busy": "2024-02-27T03:44:27.864792Z",
     "iopub.status.idle": "2024-02-27T03:44:28.630146Z",
     "shell.execute_reply": "2024-02-27T03:44:28.629240Z"
    },
    "papermill": {
     "duration": 0.78625,
     "end_time": "2024-02-27T03:44:28.632180",
     "exception": false,
     "start_time": "2024-02-27T03:44:27.845930",
     "status": "completed"
    },
    "tags": []
   },
   "outputs": [
    {
     "data": {
      "image/png": "[encoded data removed]",
      "text/plain": [
       "<Figure size 640x480 with 1 Axes>"
      ]
     },
     "metadata": {},
     "output_type": "display_data"
    },
    {
     "name": "stdout",
     "output_type": "stream",
     "text": [
      "yhat: tensor([5])\n",
      "probability of class  0.8595935702323914\n"
     ]
    },
    {
     "data": {
      "image/png": "[encoded data removed]",
      "text/plain": [
       "<Figure size 640x480 with 1 Axes>"
      ]
     },
     "metadata": {},
     "output_type": "display_data"
    },
    {
     "name": "stdout",
     "output_type": "stream",
     "text": [
      "yhat: tensor([0])\n",
      "probability of class  0.9996954202651978\n"
     ]
    },
    {
     "data": {
      "image/png": "[encoded data removed]",
      "text/plain": [
       "<Figure size 640x480 with 1 Axes>"
      ]
     },
     "metadata": {},
     "output_type": "display_data"
    },
    {
     "name": "stdout",
     "output_type": "stream",
     "text": [
      "yhat: tensor([4])\n",
      "probability of class  0.8764119744300842\n"
     ]
    },
    {
     "data": {
      "image/png": "[encoded data removed]",
      "text/plain": [
       "<Figure size 640x480 with 1 Axes>"
      ]
     },
     "metadata": {},
     "output_type": "display_data"
    },
    {
     "name": "stdout",
     "output_type": "stream",
     "text": [
      "yhat: tensor([1])\n",
      "probability of class  0.9650270938873291\n"
     ]
    },
    {
     "data": {
      "image/png": "[encoded data removed]",
      "text/plain": [
       "<Figure size 640x480 with 1 Axes>"
      ]
     },
     "metadata": {},
     "output_type": "display_data"
    },
    {
     "name": "stdout",
     "output_type": "stream",
     "text": [
      "yhat: tensor([9])\n",
      "probability of class  0.924225389957428\n"
     ]
    }
   ],
   "source": [
    "# Plot the classified samples\n",
    "Softmax_fn=nn.Softmax(dim=-1)\n",
    "count = 0\n",
    "for x, y in validation_dataset:\n",
    "    z = model(x.reshape(-1, 28 * 28))\n",
    "    _, yhat = torch.max(z, 1)\n",
    "    if yhat == y:\n",
    "        show_data((x, y))\n",
    "        plt.show()\n",
    "        print(\"yhat:\", yhat)\n",
    "        print(\"probability of class \", torch.max(Softmax_fn(z)).item())\n",
    "        count += 1\n",
    "    if count >= 5:\n",
    "        break  "
   ]
  }
 ],
 "metadata": {
  "kaggle": {
   "accelerator": "none",
   "dataSources": [],
   "dockerImageVersionId": 30646,
   "isGpuEnabled": false,
   "isInternetEnabled": true,
   "language": "python",
   "sourceType": "notebook"
  },
  "kernelspec": {
   "display_name": "Python 3",
   "language": "python",
   "name": "python3"
  },
  "language_info": {
   "codemirror_mode": {
    "name": "ipython",
    "version": 3
   },
   "file_extension": ".py",
   "mimetype": "text/x-python",
   "name": "python",
   "nbconvert_exporter": "python",
   "pygments_lexer": "ipython3",
   "version": "3.10.13"
  },
  "papermill": {
   "default_parameters": {},
   "duration": 142.674912,
   "end_time": "2024-02-27T03:44:29.874462",
   "environment_variables": {},
   "exception": null,
   "input_path": "__notebook__.ipynb",
   "output_path": "__notebook__.ipynb",
   "parameters": {},
   "start_time": "2024-02-27T03:42:07.199550",
   "version": "2.5.0"
  }
 },
 "nbformat": 4,
 "nbformat_minor": 5
}
