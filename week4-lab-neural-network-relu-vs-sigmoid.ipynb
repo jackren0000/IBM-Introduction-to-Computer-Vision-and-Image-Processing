{
 "cells": [
  {
   "cell_type": "markdown",
   "id": "703ecb2b",
   "metadata": {
    "papermill": {
     "duration": 0.011858,
     "end_time": "2024-02-29T13:19:59.237626",
     "exception": false,
     "start_time": "2024-02-29T13:19:59.225768",
     "status": "completed"
    },
    "tags": []
   },
   "source": [
    "<p style=\"text-align:center\">\n",
    "    <a href=\"https://skills.network/?utm_medium=Exinfluencer&utm_source=Exinfluencer&utm_content=000026UJ&utm_term=10006555&utm_id=NA-SkillsNetwork-Channel-SkillsNetworkCoursesIBMDeveloperSkillsNetworkCV0101ENCoursera872-2023-01-01\">\n",
    "    <img src=\"https://cf-courses-data.s3.us.cloud-object-storage.appdomain.cloud/assets/logos/SN_web_lightmode.png\" width=\"200\" alt=\"Skills Network Logo\"  />\n",
    "    </a>\n",
    "</p>\n"
   ]
  },
  {
   "cell_type": "markdown",
   "id": "de520e90",
   "metadata": {
    "papermill": {
     "duration": 0.010968,
     "end_time": "2024-02-29T13:19:59.260162",
     "exception": false,
     "start_time": "2024-02-29T13:19:59.249194",
     "status": "completed"
    },
    "tags": []
   },
   "source": [
    "<h1>Neural Network Rectified Linear Unit (ReLU) vs Sigmoid</h1>\n"
   ]
  },
  {
   "cell_type": "markdown",
   "id": "e82a6213",
   "metadata": {
    "papermill": {
     "duration": 0.011038,
     "end_time": "2024-02-29T13:19:59.282636",
     "exception": false,
     "start_time": "2024-02-29T13:19:59.271598",
     "status": "completed"
    },
    "tags": []
   },
   "source": [
    "\n",
    "<h3>Objective for this Notebook<h3>    \n",
    "<h5> 1. Define Several Neural Network, Criterion function, Optimizer.</h5>\n",
    "<h5> 2. Test Sigmoid and Relu. </h5>\n",
    "<h5> 3. Analyze Results. </h5>     \n"
   ]
  },
  {
   "cell_type": "markdown",
   "id": "63179e1a",
   "metadata": {
    "papermill": {
     "duration": 0.011011,
     "end_time": "2024-02-29T13:19:59.305104",
     "exception": false,
     "start_time": "2024-02-29T13:19:59.294093",
     "status": "completed"
    },
    "tags": []
   },
   "source": [
    "<h2>Table of Contents</h2>\n",
    "<p>In this lab, you will test Sigmoid and Relu activation functions on the MNIST dataset with two hidden Layers.</p>\n",
    "\n",
    "<ul>\n",
    "    <li><a href=\"#Model\">Neural Network Module and Training Function</a></li>\n",
    "    <li><a href=\"#Makeup_Data\">Make Some Data</a></li>\n",
    "    <li><a href=\"#Train\">Define Several Neural Network, Criterion function, Optimizer</a></li>\n",
    "    <li><a href=\"#Test\">Test Sigmoid and Relu </a></li>\n",
    "    <li><a href=\"#Result\">Analyze Results</a></li>\n",
    "</ul>\n",
    "<p>Estimated Time Needed: <strong>25 min</strong></p>\n",
    "\n",
    "<hr>\n"
   ]
  },
  {
   "cell_type": "markdown",
   "id": "05f00b0c",
   "metadata": {
    "papermill": {
     "duration": 0.011056,
     "end_time": "2024-02-29T13:19:59.327660",
     "exception": false,
     "start_time": "2024-02-29T13:19:59.316604",
     "status": "completed"
    },
    "tags": []
   },
   "source": [
    "We'll need the following libraries\n"
   ]
  },
  {
   "cell_type": "code",
   "execution_count": 1,
   "id": "6439b784",
   "metadata": {
    "execution": {
     "iopub.execute_input": "2024-02-29T13:19:59.353057Z",
     "iopub.status.busy": "2024-02-29T13:19:59.352349Z",
     "iopub.status.idle": "2024-02-29T13:20:16.530635Z",
     "shell.execute_reply": "2024-02-29T13:20:16.529411Z"
    },
    "papermill": {
     "duration": 17.194578,
     "end_time": "2024-02-29T13:20:16.533636",
     "exception": false,
     "start_time": "2024-02-29T13:19:59.339058",
     "status": "completed"
    },
    "tags": []
   },
   "outputs": [
    {
     "name": "stdout",
     "output_type": "stream",
     "text": [
      "Requirement already satisfied: torch in /opt/conda/lib/python3.10/site-packages (2.1.2+cpu)\r\n",
      "Requirement already satisfied: torchvision in /opt/conda/lib/python3.10/site-packages (0.16.2+cpu)\r\n",
      "Requirement already satisfied: torchaudio in /opt/conda/lib/python3.10/site-packages (2.1.2+cpu)\r\n",
      "Requirement already satisfied: filelock in /opt/conda/lib/python3.10/site-packages (from torch) (3.13.1)\r\n",
      "Requirement already satisfied: typing-extensions in /opt/conda/lib/python3.10/site-packages (from torch) (4.9.0)\r\n",
      "Requirement already satisfied: sympy in /opt/conda/lib/python3.10/site-packages (from torch) (1.12)\r\n",
      "Requirement already satisfied: networkx in /opt/conda/lib/python3.10/site-packages (from torch) (3.2.1)\r\n",
      "Requirement already satisfied: jinja2 in /opt/conda/lib/python3.10/site-packages (from torch) (3.1.2)\r\n",
      "Requirement already satisfied: fsspec in /opt/conda/lib/python3.10/site-packages (from torch) (2024.2.0)\r\n",
      "Requirement already satisfied: numpy in /opt/conda/lib/python3.10/site-packages (from torchvision) (1.26.4)\r\n",
      "Requirement already satisfied: requests in /opt/conda/lib/python3.10/site-packages (from torchvision) (2.31.0)\r\n",
      "Requirement already satisfied: pillow!=8.3.*,>=5.3.0 in /opt/conda/lib/python3.10/site-packages (from torchvision) (9.5.0)\r\n",
      "Requirement already satisfied: MarkupSafe>=2.0 in /opt/conda/lib/python3.10/site-packages (from jinja2->torch) (2.1.3)\r\n",
      "Requirement already satisfied: charset-normalizer<4,>=2 in /opt/conda/lib/python3.10/site-packages (from requests->torchvision) (3.3.2)\r\n",
      "Requirement already satisfied: idna<4,>=2.5 in /opt/conda/lib/python3.10/site-packages (from requests->torchvision) (3.6)\r\n",
      "Requirement already satisfied: urllib3<3,>=1.21.1 in /opt/conda/lib/python3.10/site-packages (from requests->torchvision) (1.26.18)\r\n",
      "Requirement already satisfied: certifi>=2017.4.17 in /opt/conda/lib/python3.10/site-packages (from requests->torchvision) (2024.2.2)\r\n",
      "Requirement already satisfied: mpmath>=0.19 in /opt/conda/lib/python3.10/site-packages (from sympy->torch) (1.3.0)\r\n"
     ]
    }
   ],
   "source": [
    "!pip3 install torch torchvision torchaudio"
   ]
  },
  {
   "cell_type": "code",
   "execution_count": 2,
   "id": "823de481",
   "metadata": {
    "execution": {
     "iopub.execute_input": "2024-02-29T13:20:16.560962Z",
     "iopub.status.busy": "2024-02-29T13:20:16.560548Z",
     "iopub.status.idle": "2024-02-29T13:20:24.348173Z",
     "shell.execute_reply": "2024-02-29T13:20:24.346824Z"
    },
    "papermill": {
     "duration": 7.805832,
     "end_time": "2024-02-29T13:20:24.351678",
     "exception": false,
     "start_time": "2024-02-29T13:20:16.545846",
     "status": "completed"
    },
    "tags": []
   },
   "outputs": [
    {
     "data": {
      "text/plain": [
       "<torch._C.Generator at 0x7d52bc117250>"
      ]
     },
     "execution_count": 2,
     "metadata": {},
     "output_type": "execute_result"
    }
   ],
   "source": [
    "# Import the libraries we need for this lab\n",
    "\n",
    "# Using the following line code to install the torchvision library\n",
    "# !conda install -y torchvision\n",
    "\n",
    "# PyTorch Library\n",
    "import torch \n",
    "# PyTorch Neural Network\n",
    "import torch.nn as nn\n",
    "# Allows us to transform tensors\n",
    "import torchvision.transforms as transforms\n",
    "# Allows us to download datasets\n",
    "import torchvision.datasets as dsets\n",
    "# Allows us to use activation functions\n",
    "import torch.nn.functional as F\n",
    "# Used to graph data and loss curves\n",
    "import matplotlib.pylab as plt\n",
    "# Allows us to use arrays to manipulate and store data\n",
    "import numpy as np\n",
    "# Setting the seed will allow us to control randomness and give us reproducibility\n",
    "torch.manual_seed(2)"
   ]
  },
  {
   "cell_type": "markdown",
   "id": "07ab15cb",
   "metadata": {
    "papermill": {
     "duration": 0.011994,
     "end_time": "2024-02-29T13:20:24.375740",
     "exception": false,
     "start_time": "2024-02-29T13:20:24.363746",
     "status": "completed"
    },
    "tags": []
   },
   "source": [
    "<!--Empty Space for separating topics-->\n"
   ]
  },
  {
   "cell_type": "markdown",
   "id": "df73452d",
   "metadata": {
    "papermill": {
     "duration": 0.012698,
     "end_time": "2024-02-29T13:20:24.400619",
     "exception": false,
     "start_time": "2024-02-29T13:20:24.387921",
     "status": "completed"
    },
    "tags": []
   },
   "source": [
    "<h2 id=\"Model\">Neural Network Module and Training Function</h2> \n"
   ]
  },
  {
   "cell_type": "markdown",
   "id": "a9dae546",
   "metadata": {
    "papermill": {
     "duration": 0.012179,
     "end_time": "2024-02-29T13:20:24.425069",
     "exception": false,
     "start_time": "2024-02-29T13:20:24.412890",
     "status": "completed"
    },
    "tags": []
   },
   "source": [
    "Define the neural network module or class, with two hidden Layers \n"
   ]
  },
  {
   "cell_type": "markdown",
   "id": "26c15e3f",
   "metadata": {
    "papermill": {
     "duration": 0.01188,
     "end_time": "2024-02-29T13:20:24.449073",
     "exception": false,
     "start_time": "2024-02-29T13:20:24.437193",
     "status": "completed"
    },
    "tags": []
   },
   "source": [
    "<img src=\"https://ibm.box.com/shared/static/5wtclahun0f70qlwkn2kxzh3amnbq4zg.png\" width=\"200\" alt=\"Neural Network Model\">\n"
   ]
  },
  {
   "cell_type": "code",
   "execution_count": 3,
   "id": "9ee29f33",
   "metadata": {
    "execution": {
     "iopub.execute_input": "2024-02-29T13:20:24.475964Z",
     "iopub.status.busy": "2024-02-29T13:20:24.474997Z",
     "iopub.status.idle": "2024-02-29T13:20:24.483757Z",
     "shell.execute_reply": "2024-02-29T13:20:24.482747Z"
    },
    "papermill": {
     "duration": 0.025006,
     "end_time": "2024-02-29T13:20:24.486162",
     "exception": false,
     "start_time": "2024-02-29T13:20:24.461156",
     "status": "completed"
    },
    "tags": []
   },
   "outputs": [],
   "source": [
    "# Create the model class using Sigmoid as the activation function\n",
    "\n",
    "class Net(nn.Module):\n",
    "    \n",
    "    # Constructor\n",
    "    def __init__(self, D_in, H1, H2, D_out):\n",
    "        # D_in is the input size of the first layer (size of input layer)\n",
    "        # H1 is the output size of the first layer and input size of the second layer (size of first hidden layer)\n",
    "        # H2 is the outpout size of the second layer and the input size of the third layer (size of second hidden layer)\n",
    "        # D_out is the output size of the third layer (size of output layer)\n",
    "        super(Net, self).__init__()\n",
    "        self.linear1 = nn.Linear(D_in, H1)\n",
    "        self.linear2 = nn.Linear(H1, H2)\n",
    "        self.linear3 = nn.Linear(H2, D_out)\n",
    "    \n",
    "    # Prediction\n",
    "    def forward(self,x):\n",
    "        # Puts x through the first layers then the sigmoid function\n",
    "        x = torch.sigmoid(self.linear1(x)) \n",
    "        # Puts results of previous line through second layer then sigmoid function\n",
    "        x = torch.sigmoid(self.linear2(x))\n",
    "        # Puts result of previous line through third layer\n",
    "        x = self.linear3(x)\n",
    "        return x"
   ]
  },
  {
   "cell_type": "markdown",
   "id": "c023a529",
   "metadata": {
    "papermill": {
     "duration": 0.01185,
     "end_time": "2024-02-29T13:20:24.510193",
     "exception": false,
     "start_time": "2024-02-29T13:20:24.498343",
     "status": "completed"
    },
    "tags": []
   },
   "source": [
    "Define the class for the Relu activation function \n"
   ]
  },
  {
   "cell_type": "code",
   "execution_count": 4,
   "id": "6096943c",
   "metadata": {
    "execution": {
     "iopub.execute_input": "2024-02-29T13:20:24.537169Z",
     "iopub.status.busy": "2024-02-29T13:20:24.536495Z",
     "iopub.status.idle": "2024-02-29T13:20:24.546070Z",
     "shell.execute_reply": "2024-02-29T13:20:24.545236Z"
    },
    "papermill": {
     "duration": 0.025919,
     "end_time": "2024-02-29T13:20:24.548571",
     "exception": false,
     "start_time": "2024-02-29T13:20:24.522652",
     "status": "completed"
    },
    "tags": []
   },
   "outputs": [],
   "source": [
    "# Create the model class using Relu as the activation function\n",
    "\n",
    "class NetRelu(nn.Module):\n",
    "    \n",
    "    # Constructor\n",
    "    def __init__(self, D_in, H1, H2, D_out):\n",
    "        # D_in is the input size of the first layer (size of input layer)\n",
    "        # H1 is the output size of the first layer and input size of the second layer (size of first hidden layer)\n",
    "        # H2 is the outpout size of the second layer and the input size of the third layer (size of second hidden layer)\n",
    "        # D_out is the output size of the third layer (size of output layer)\n",
    "        super(NetRelu, self).__init__()\n",
    "        self.linear1 = nn.Linear(D_in, H1)\n",
    "        self.linear2 = nn.Linear(H1, H2)\n",
    "        self.linear3 = nn.Linear(H2, D_out)\n",
    "    \n",
    "    # Prediction\n",
    "    def forward(self, x):\n",
    "        # Puts x through the first layers then the relu function\n",
    "        x = torch.relu(self.linear1(x))  \n",
    "        # Puts results of previous line through second layer then relu function\n",
    "        x = torch.relu(self.linear2(x))\n",
    "        # Puts result of previous line through third layer\n",
    "        x = self.linear3(x)\n",
    "        return x"
   ]
  },
  {
   "cell_type": "markdown",
   "id": "e9cb0ddd",
   "metadata": {
    "papermill": {
     "duration": 0.011974,
     "end_time": "2024-02-29T13:20:24.572726",
     "exception": false,
     "start_time": "2024-02-29T13:20:24.560752",
     "status": "completed"
    },
    "tags": []
   },
   "source": [
    "Define a function to  train the model, in this case, the function returns a Python dictionary to store the training loss and accuracy on the validation data \n"
   ]
  },
  {
   "cell_type": "code",
   "execution_count": 5,
   "id": "5c3aa26d",
   "metadata": {
    "execution": {
     "iopub.execute_input": "2024-02-29T13:20:24.599380Z",
     "iopub.status.busy": "2024-02-29T13:20:24.598697Z",
     "iopub.status.idle": "2024-02-29T13:20:24.609149Z",
     "shell.execute_reply": "2024-02-29T13:20:24.608325Z"
    },
    "papermill": {
     "duration": 0.026846,
     "end_time": "2024-02-29T13:20:24.611682",
     "exception": false,
     "start_time": "2024-02-29T13:20:24.584836",
     "status": "completed"
    },
    "tags": []
   },
   "outputs": [],
   "source": [
    "# Model Training Function\n",
    "\n",
    "def train(model, criterion, train_loader, validation_loader, optimizer, epochs=100):\n",
    "    i = 0\n",
    "    useful_stuff = {'training_loss': [], 'validation_accuracy': []}  \n",
    "    # Number of times we train on the entire training dataset\n",
    "    for epoch in range(epochs):\n",
    "        # For each batch in the train loader\n",
    "        for i, (x, y) in enumerate(train_loader):\n",
    "            # Resets the calculated gradient value, this must be done each time as it accumulates if we do not reset\n",
    "            optimizer.zero_grad()\n",
    "            # Makes a prediction on the image tensor by flattening it to a 1 by 28*28 tensor\n",
    "            z = model(x.view(-1, 28 * 28))\n",
    "            # Calculate the loss between the prediction and actual class\n",
    "            loss = criterion(z, y)\n",
    "            # Calculates the gradient value with respect to each weight and bias\n",
    "            loss.backward()\n",
    "            # Updates the weight and bias according to calculated gradient value\n",
    "            optimizer.step()\n",
    "            # Saves the loss\n",
    "            useful_stuff['training_loss'].append(loss.data.item())\n",
    "        \n",
    "        # Counter to keep track of correct predictions\n",
    "        correct = 0\n",
    "        # For each batch in the validation dataset\n",
    "        for x, y in validation_loader:\n",
    "            # Make a prediction\n",
    "            z = model(x.view(-1, 28 * 28))\n",
    "            # Get the class that has the maximum value\n",
    "            _, label = torch.max(z, 1)\n",
    "            # Check if our prediction matches the actual class\n",
    "            correct += (label == y).sum().item()\n",
    "    \n",
    "        # Saves the percent accuracy\n",
    "        accuracy = 100 * (correct / len(validation_dataset))\n",
    "        useful_stuff['validation_accuracy'].append(accuracy)\n",
    "    \n",
    "    return useful_stuff"
   ]
  },
  {
   "cell_type": "markdown",
   "id": "f4913ec4",
   "metadata": {
    "papermill": {
     "duration": 0.011934,
     "end_time": "2024-02-29T13:20:24.635846",
     "exception": false,
     "start_time": "2024-02-29T13:20:24.623912",
     "status": "completed"
    },
    "tags": []
   },
   "source": [
    "<!--Empty Space for separating topics-->\n"
   ]
  },
  {
   "cell_type": "markdown",
   "id": "5f691312",
   "metadata": {
    "papermill": {
     "duration": 0.012185,
     "end_time": "2024-02-29T13:20:24.660102",
     "exception": false,
     "start_time": "2024-02-29T13:20:24.647917",
     "status": "completed"
    },
    "tags": []
   },
   "source": [
    "<h2 id=\"Makeup_Data\">Make Some Data</h2> \n"
   ]
  },
  {
   "cell_type": "markdown",
   "id": "ff85f606",
   "metadata": {
    "papermill": {
     "duration": 0.012037,
     "end_time": "2024-02-29T13:20:24.684419",
     "exception": false,
     "start_time": "2024-02-29T13:20:24.672382",
     "status": "completed"
    },
    "tags": []
   },
   "source": [
    "Load the training dataset by setting the parameters <code>train</code> to <code>True</code> and convert it to a tensor  by placing a transform object int the argument <code>transform</code>\n"
   ]
  },
  {
   "cell_type": "code",
   "execution_count": 6,
   "id": "54fe6e50",
   "metadata": {
    "execution": {
     "iopub.execute_input": "2024-02-29T13:20:24.711312Z",
     "iopub.status.busy": "2024-02-29T13:20:24.710604Z",
     "iopub.status.idle": "2024-02-29T13:20:26.234479Z",
     "shell.execute_reply": "2024-02-29T13:20:26.232007Z"
    },
    "papermill": {
     "duration": 1.543035,
     "end_time": "2024-02-29T13:20:26.239734",
     "exception": false,
     "start_time": "2024-02-29T13:20:24.696699",
     "status": "completed"
    },
    "tags": []
   },
   "outputs": [
    {
     "name": "stdout",
     "output_type": "stream",
     "text": [
      "Downloading http://yann.lecun.com/exdb/mnist/train-images-idx3-ubyte.gz\n",
      "Downloading http://yann.lecun.com/exdb/mnist/train-images-idx3-ubyte.gz to ./data/MNIST/raw/train-images-idx3-ubyte.gz\n"
     ]
    },
    {
     "name": "stderr",
     "output_type": "stream",
     "text": [
      "100%|██████████| 9912422/9912422 [00:00<00:00, 77412954.96it/s]\n"
     ]
    },
    {
     "name": "stdout",
     "output_type": "stream",
     "text": [
      "Extracting ./data/MNIST/raw/train-images-idx3-ubyte.gz to ./data/MNIST/raw\n",
      "\n",
      "Downloading http://yann.lecun.com/exdb/mnist/train-labels-idx1-ubyte.gz\n",
      "Downloading http://yann.lecun.com/exdb/mnist/train-labels-idx1-ubyte.gz to ./data/MNIST/raw/train-labels-idx1-ubyte.gz\n"
     ]
    },
    {
     "name": "stderr",
     "output_type": "stream",
     "text": [
      "100%|██████████| 28881/28881 [00:00<00:00, 82237402.46it/s]"
     ]
    },
    {
     "name": "stdout",
     "output_type": "stream",
     "text": [
      "Extracting ./data/MNIST/raw/train-labels-idx1-ubyte.gz to ./data/MNIST/raw\n",
      "\n",
      "Downloading http://yann.lecun.com/exdb/mnist/t10k-images-idx3-ubyte.gz\n"
     ]
    },
    {
     "name": "stderr",
     "output_type": "stream",
     "text": [
      "\n"
     ]
    },
    {
     "name": "stdout",
     "output_type": "stream",
     "text": [
      "Downloading http://yann.lecun.com/exdb/mnist/t10k-images-idx3-ubyte.gz to ./data/MNIST/raw/t10k-images-idx3-ubyte.gz\n"
     ]
    },
    {
     "name": "stderr",
     "output_type": "stream",
     "text": [
      "100%|██████████| 1648877/1648877 [00:00<00:00, 19881649.42it/s]"
     ]
    },
    {
     "name": "stdout",
     "output_type": "stream",
     "text": [
      "Extracting ./data/MNIST/raw/t10k-images-idx3-ubyte.gz to ./data/MNIST/raw\n"
     ]
    },
    {
     "name": "stderr",
     "output_type": "stream",
     "text": [
      "\n"
     ]
    },
    {
     "name": "stdout",
     "output_type": "stream",
     "text": [
      "\n",
      "Downloading http://yann.lecun.com/exdb/mnist/t10k-labels-idx1-ubyte.gz\n",
      "Downloading http://yann.lecun.com/exdb/mnist/t10k-labels-idx1-ubyte.gz to ./data/MNIST/raw/t10k-labels-idx1-ubyte.gz\n"
     ]
    },
    {
     "name": "stderr",
     "output_type": "stream",
     "text": [
      "100%|██████████| 4542/4542 [00:00<00:00, 8055191.87it/s]\n"
     ]
    },
    {
     "name": "stdout",
     "output_type": "stream",
     "text": [
      "Extracting ./data/MNIST/raw/t10k-labels-idx1-ubyte.gz to ./data/MNIST/raw\n",
      "\n"
     ]
    }
   ],
   "source": [
    "# Create the training dataset\n",
    "\n",
    "train_dataset = dsets.MNIST(root='./data', train=True, download=True, transform=transforms.ToTensor())"
   ]
  },
  {
   "cell_type": "markdown",
   "id": "f7fbf471",
   "metadata": {
    "papermill": {
     "duration": 0.016852,
     "end_time": "2024-02-29T13:20:26.274793",
     "exception": false,
     "start_time": "2024-02-29T13:20:26.257941",
     "status": "completed"
    },
    "tags": []
   },
   "source": [
    "Load the testing dataset by setting the parameters <code>train</code> to <code>False</code> and convert it to a tensor  by placing a transform object int the argument <code>transform</code>\n"
   ]
  },
  {
   "cell_type": "code",
   "execution_count": 7,
   "id": "f4899147",
   "metadata": {
    "execution": {
     "iopub.execute_input": "2024-02-29T13:20:26.314552Z",
     "iopub.status.busy": "2024-02-29T13:20:26.313639Z",
     "iopub.status.idle": "2024-02-29T13:20:26.340375Z",
     "shell.execute_reply": "2024-02-29T13:20:26.338874Z"
    },
    "papermill": {
     "duration": 0.051793,
     "end_time": "2024-02-29T13:20:26.344523",
     "exception": false,
     "start_time": "2024-02-29T13:20:26.292730",
     "status": "completed"
    },
    "tags": []
   },
   "outputs": [],
   "source": [
    "# Create the validating dataset\n",
    "\n",
    "validation_dataset = dsets.MNIST(root='./data', train=False, download=True, transform=transforms.ToTensor())"
   ]
  },
  {
   "cell_type": "markdown",
   "id": "2f467f64",
   "metadata": {
    "papermill": {
     "duration": 0.01617,
     "end_time": "2024-02-29T13:20:26.377865",
     "exception": false,
     "start_time": "2024-02-29T13:20:26.361695",
     "status": "completed"
    },
    "tags": []
   },
   "source": [
    "Create the criterion function  \n"
   ]
  },
  {
   "cell_type": "code",
   "execution_count": 8,
   "id": "786c2fa5",
   "metadata": {
    "execution": {
     "iopub.execute_input": "2024-02-29T13:20:26.411857Z",
     "iopub.status.busy": "2024-02-29T13:20:26.411343Z",
     "iopub.status.idle": "2024-02-29T13:20:26.416382Z",
     "shell.execute_reply": "2024-02-29T13:20:26.415295Z"
    },
    "papermill": {
     "duration": 0.023831,
     "end_time": "2024-02-29T13:20:26.418699",
     "exception": false,
     "start_time": "2024-02-29T13:20:26.394868",
     "status": "completed"
    },
    "tags": []
   },
   "outputs": [],
   "source": [
    "# Create the criterion function\n",
    "\n",
    "criterion = nn.CrossEntropyLoss()"
   ]
  },
  {
   "cell_type": "markdown",
   "id": "d7ea1a32",
   "metadata": {
    "papermill": {
     "duration": 0.014235,
     "end_time": "2024-02-29T13:20:26.449099",
     "exception": false,
     "start_time": "2024-02-29T13:20:26.434864",
     "status": "completed"
    },
    "tags": []
   },
   "source": [
    "Create the training-data loader and the validation-data loader object \n"
   ]
  },
  {
   "cell_type": "code",
   "execution_count": 9,
   "id": "e995b40e",
   "metadata": {
    "execution": {
     "iopub.execute_input": "2024-02-29T13:20:26.481018Z",
     "iopub.status.busy": "2024-02-29T13:20:26.479789Z",
     "iopub.status.idle": "2024-02-29T13:20:26.485945Z",
     "shell.execute_reply": "2024-02-29T13:20:26.485159Z"
    },
    "papermill": {
     "duration": 0.024188,
     "end_time": "2024-02-29T13:20:26.488088",
     "exception": false,
     "start_time": "2024-02-29T13:20:26.463900",
     "status": "completed"
    },
    "tags": []
   },
   "outputs": [],
   "source": [
    "# Create the training data loader and validation data loader object\n",
    "\n",
    "# Batch size is 2000 and shuffle=True means the data will be shuffled at every epoch\n",
    "train_loader = torch.utils.data.DataLoader(dataset=train_dataset, batch_size=2000, shuffle=True)\n",
    "# Batch size is 5000 and the data will not be shuffled at every epoch\n",
    "validation_loader = torch.utils.data.DataLoader(dataset=validation_dataset, batch_size=5000, shuffle=False)"
   ]
  },
  {
   "cell_type": "markdown",
   "id": "a6519552",
   "metadata": {
    "papermill": {
     "duration": 0.014185,
     "end_time": "2024-02-29T13:20:26.517022",
     "exception": false,
     "start_time": "2024-02-29T13:20:26.502837",
     "status": "completed"
    },
    "tags": []
   },
   "source": [
    "<!--Empty Space for separating topics-->\n"
   ]
  },
  {
   "cell_type": "markdown",
   "id": "ef5cd80a",
   "metadata": {
    "papermill": {
     "duration": 0.014735,
     "end_time": "2024-02-29T13:20:26.546480",
     "exception": false,
     "start_time": "2024-02-29T13:20:26.531745",
     "status": "completed"
    },
    "tags": []
   },
   "source": [
    "<h2 id=\"Train\">Define Neural Network, Criterion function, Optimizer and Train the Model</h2> \n"
   ]
  },
  {
   "cell_type": "markdown",
   "id": "333bdd25",
   "metadata": {
    "papermill": {
     "duration": 0.017721,
     "end_time": "2024-02-29T13:20:26.580788",
     "exception": false,
     "start_time": "2024-02-29T13:20:26.563067",
     "status": "completed"
    },
    "tags": []
   },
   "source": [
    "Create  the model with 100 hidden neurons  \n"
   ]
  },
  {
   "cell_type": "code",
   "execution_count": 10,
   "id": "059e45c7",
   "metadata": {
    "execution": {
     "iopub.execute_input": "2024-02-29T13:20:26.618547Z",
     "iopub.status.busy": "2024-02-29T13:20:26.617486Z",
     "iopub.status.idle": "2024-02-29T13:20:26.622380Z",
     "shell.execute_reply": "2024-02-29T13:20:26.621589Z"
    },
    "papermill": {
     "duration": 0.025082,
     "end_time": "2024-02-29T13:20:26.624487",
     "exception": false,
     "start_time": "2024-02-29T13:20:26.599405",
     "status": "completed"
    },
    "tags": []
   },
   "outputs": [],
   "source": [
    "# Set the parameters to create the model\n",
    "\n",
    "input_dim = 28 * 28 # Diemension of an image\n",
    "hidden_dim1 = 50\n",
    "hidden_dim2 = 50\n",
    "output_dim = 10 # Number of classes"
   ]
  },
  {
   "cell_type": "markdown",
   "id": "7e1502ee",
   "metadata": {
    "papermill": {
     "duration": 0.014199,
     "end_time": "2024-02-29T13:20:26.653514",
     "exception": false,
     "start_time": "2024-02-29T13:20:26.639315",
     "status": "completed"
    },
    "tags": []
   },
   "source": [
    "The epoch number in the video is 35. You can try 10 for now. If you try 35, it may take a long time.\n"
   ]
  },
  {
   "cell_type": "code",
   "execution_count": 11,
   "id": "f2461d41",
   "metadata": {
    "execution": {
     "iopub.execute_input": "2024-02-29T13:20:26.684802Z",
     "iopub.status.busy": "2024-02-29T13:20:26.684047Z",
     "iopub.status.idle": "2024-02-29T13:20:26.688615Z",
     "shell.execute_reply": "2024-02-29T13:20:26.687633Z"
    },
    "papermill": {
     "duration": 0.023153,
     "end_time": "2024-02-29T13:20:26.691056",
     "exception": false,
     "start_time": "2024-02-29T13:20:26.667903",
     "status": "completed"
    },
    "tags": []
   },
   "outputs": [],
   "source": [
    "# Set the number of iterations\n",
    "\n",
    "cust_epochs = 10"
   ]
  },
  {
   "cell_type": "markdown",
   "id": "cff0a203",
   "metadata": {
    "papermill": {
     "duration": 0.014551,
     "end_time": "2024-02-29T13:20:26.720502",
     "exception": false,
     "start_time": "2024-02-29T13:20:26.705951",
     "status": "completed"
    },
    "tags": []
   },
   "source": [
    "<!--Empty Space for separating topics-->\n"
   ]
  },
  {
   "cell_type": "markdown",
   "id": "2ef6a282",
   "metadata": {
    "papermill": {
     "duration": 0.015686,
     "end_time": "2024-02-29T13:20:26.751093",
     "exception": false,
     "start_time": "2024-02-29T13:20:26.735407",
     "status": "completed"
    },
    "tags": []
   },
   "source": [
    "<h2 id=\"Test\">Test Sigmoid and Relu</h2> \n"
   ]
  },
  {
   "cell_type": "markdown",
   "id": "c23de494",
   "metadata": {
    "papermill": {
     "duration": 0.014309,
     "end_time": "2024-02-29T13:20:26.780240",
     "exception": false,
     "start_time": "2024-02-29T13:20:26.765931",
     "status": "completed"
    },
    "tags": []
   },
   "source": [
    "Train the network using the Sigmoid activation function\n"
   ]
  },
  {
   "cell_type": "code",
   "execution_count": 12,
   "id": "469aa8bd",
   "metadata": {
    "execution": {
     "iopub.execute_input": "2024-02-29T13:20:26.811835Z",
     "iopub.status.busy": "2024-02-29T13:20:26.810853Z",
     "iopub.status.idle": "2024-02-29T13:21:51.667720Z",
     "shell.execute_reply": "2024-02-29T13:21:51.666549Z"
    },
    "papermill": {
     "duration": 84.875735,
     "end_time": "2024-02-29T13:21:51.670806",
     "exception": false,
     "start_time": "2024-02-29T13:20:26.795071",
     "status": "completed"
    },
    "tags": []
   },
   "outputs": [],
   "source": [
    "# Train the model with sigmoid function\n",
    "\n",
    "learning_rate = 0.01\n",
    "# Create an instance of the Net model\n",
    "model = Net(input_dim, hidden_dim1, hidden_dim2, output_dim)\n",
    "# Create an optimizer that updates model parameters using the learning rate and gradient\n",
    "optimizer = torch.optim.SGD(model.parameters(), lr=learning_rate)\n",
    "# Train the model\n",
    "training_results = train(model, criterion, train_loader, validation_loader, optimizer, epochs=cust_epochs)"
   ]
  },
  {
   "cell_type": "markdown",
   "id": "3abf7eca",
   "metadata": {
    "papermill": {
     "duration": 0.015189,
     "end_time": "2024-02-29T13:21:51.702671",
     "exception": false,
     "start_time": "2024-02-29T13:21:51.687482",
     "status": "completed"
    },
    "tags": []
   },
   "source": [
    "Train the network using the Relu activation function\n"
   ]
  },
  {
   "cell_type": "code",
   "execution_count": 13,
   "id": "26102ff1",
   "metadata": {
    "execution": {
     "iopub.execute_input": "2024-02-29T13:21:51.735162Z",
     "iopub.status.busy": "2024-02-29T13:21:51.734122Z",
     "iopub.status.idle": "2024-02-29T13:23:15.730792Z",
     "shell.execute_reply": "2024-02-29T13:23:15.726416Z"
    },
    "papermill": {
     "duration": 84.020548,
     "end_time": "2024-02-29T13:23:15.738191",
     "exception": false,
     "start_time": "2024-02-29T13:21:51.717643",
     "status": "completed"
    },
    "tags": []
   },
   "outputs": [],
   "source": [
    "# Train the model with relu function\n",
    "\n",
    "learning_rate = 0.01\n",
    "# Create an instance of the NetRelu model\n",
    "modelRelu = NetRelu(input_dim, hidden_dim1, hidden_dim2, output_dim)\n",
    "# Create an optimizer that updates model parameters using the learning rate and gradient\n",
    "optimizer = torch.optim.SGD(modelRelu.parameters(), lr=learning_rate)\n",
    "# Train the model\n",
    "training_results_relu = train(modelRelu, criterion, train_loader, validation_loader, optimizer, epochs=cust_epochs)"
   ]
  },
  {
   "cell_type": "markdown",
   "id": "e0ef3fa3",
   "metadata": {
    "papermill": {
     "duration": 0.01802,
     "end_time": "2024-02-29T13:23:15.775130",
     "exception": false,
     "start_time": "2024-02-29T13:23:15.757110",
     "status": "completed"
    },
    "tags": []
   },
   "source": [
    "<!--Empty Space for separating topics-->\n"
   ]
  },
  {
   "cell_type": "markdown",
   "id": "cdcc90f6",
   "metadata": {
    "papermill": {
     "duration": 0.017071,
     "end_time": "2024-02-29T13:23:15.810718",
     "exception": false,
     "start_time": "2024-02-29T13:23:15.793647",
     "status": "completed"
    },
    "tags": []
   },
   "source": [
    "<h2 id=\"Result\">Analyze Results</h2> \n"
   ]
  },
  {
   "cell_type": "markdown",
   "id": "4dd7e783",
   "metadata": {
    "papermill": {
     "duration": 0.017022,
     "end_time": "2024-02-29T13:23:15.940897",
     "exception": false,
     "start_time": "2024-02-29T13:23:15.923875",
     "status": "completed"
    },
    "tags": []
   },
   "source": [
    "Compare the training loss for each activation \n"
   ]
  },
  {
   "cell_type": "code",
   "execution_count": 14,
   "id": "dc81a7f9",
   "metadata": {
    "execution": {
     "iopub.execute_input": "2024-02-29T13:23:15.974182Z",
     "iopub.status.busy": "2024-02-29T13:23:15.973720Z",
     "iopub.status.idle": "2024-02-29T13:23:16.402997Z",
     "shell.execute_reply": "2024-02-29T13:23:16.402178Z"
    },
    "papermill": {
     "duration": 0.449483,
     "end_time": "2024-02-29T13:23:16.405772",
     "exception": false,
     "start_time": "2024-02-29T13:23:15.956289",
     "status": "completed"
    },
    "tags": []
   },
   "outputs": [
    {
     "data": {
      "text/plain": [
       "<matplotlib.legend.Legend at 0x7d52bc0fd150>"
      ]
     },
     "execution_count": 14,
     "metadata": {},
     "output_type": "execute_result"
    },
    {
     "data": {
      "image/png": "[encoded data removed]",
      "text/plain": [
       "<Figure size 640x480 with 1 Axes>"
      ]
     },
     "metadata": {},
     "output_type": "display_data"
    }
   ],
   "source": [
    "# Compare the training loss\n",
    "\n",
    "plt.plot(training_results['training_loss'], label='sigmoid')\n",
    "plt.plot(training_results_relu['training_loss'], label='relu')\n",
    "plt.ylabel('loss')\n",
    "plt.title('training loss iterations')\n",
    "plt.legend()"
   ]
  },
  {
   "cell_type": "markdown",
   "id": "13125359",
   "metadata": {
    "papermill": {
     "duration": 0.016206,
     "end_time": "2024-02-29T13:23:16.438152",
     "exception": false,
     "start_time": "2024-02-29T13:23:16.421946",
     "status": "completed"
    },
    "tags": []
   },
   "source": [
    "Compare the validation loss for each model  \n"
   ]
  },
  {
   "cell_type": "code",
   "execution_count": 15,
   "id": "79d33445",
   "metadata": {
    "execution": {
     "iopub.execute_input": "2024-02-29T13:23:16.472771Z",
     "iopub.status.busy": "2024-02-29T13:23:16.472016Z",
     "iopub.status.idle": "2024-02-29T13:23:16.777896Z",
     "shell.execute_reply": "2024-02-29T13:23:16.776632Z"
    },
    "papermill": {
     "duration": 0.326317,
     "end_time": "2024-02-29T13:23:16.780496",
     "exception": false,
     "start_time": "2024-02-29T13:23:16.454179",
     "status": "completed"
    },
    "tags": []
   },
   "outputs": [
    {
     "data": {
      "text/plain": [
       "<matplotlib.legend.Legend at 0x7d5282d85720>"
      ]
     },
     "execution_count": 15,
     "metadata": {},
     "output_type": "execute_result"
    },
    {
     "data": {
      "image/png": "[encoded data removed]",
      "text/plain": [
       "<Figure size 640x480 with 1 Axes>"
      ]
     },
     "metadata": {},
     "output_type": "display_data"
    }
   ],
   "source": [
    "# Compare the validation loss\n",
    "\n",
    "plt.plot(training_results['validation_accuracy'], label = 'sigmoid')\n",
    "plt.plot(training_results_relu['validation_accuracy'], label = 'relu') \n",
    "plt.ylabel('validation accuracy')\n",
    "plt.xlabel('Iteration')   \n",
    "plt.legend()"
   ]
  },
  {
   "cell_type": "markdown",
   "id": "bde8289c",
   "metadata": {
    "papermill": {
     "duration": 0.016749,
     "end_time": "2024-02-29T13:23:16.815102",
     "exception": false,
     "start_time": "2024-02-29T13:23:16.798353",
     "status": "completed"
    },
    "tags": []
   },
   "source": [
    "\n",
    "\n",
    "<a href=\"https://dataplatform.cloud.ibm.com/registration/stepone?utm_medium=Exinfluencer&utm_source=Exinfluencer&utm_content=000026UJ&utm_term=10006555&utm_id=NA-SkillsNetwork-Channel-SkillsNetworkCoursesIBMDeveloperSkillsNetworkCV0101ENCoursera872-2023-01-01&context=cpdaas&apps=data_science_experience%2Cwatson_machine_learning\"><img src=\"https://cf-courses-data.s3.us.cloud-object-storage.appdomain.cloud/IBMDeveloperSkillsNetwork-DL0110EN-SkillsNetwork/Template/module%201/images/Watson_Studio.png\"></a>\n"
   ]
  },
  {
   "cell_type": "markdown",
   "id": "61befa82",
   "metadata": {
    "papermill": {
     "duration": 0.016822,
     "end_time": "2024-02-29T13:23:16.848970",
     "exception": false,
     "start_time": "2024-02-29T13:23:16.832148",
     "status": "completed"
    },
    "tags": []
   },
   "source": [
    "<!--Empty Space for separating topics-->\n"
   ]
  },
  {
   "cell_type": "markdown",
   "id": "9b7d42f9",
   "metadata": {
    "papermill": {
     "duration": 0.01744,
     "end_time": "2024-02-29T13:23:16.883425",
     "exception": false,
     "start_time": "2024-02-29T13:23:16.865985",
     "status": "completed"
    },
    "tags": []
   },
   "source": [
    "<h2>About the Authors:</h2> \n",
    "\n",
    "<a href=\"https://www.linkedin.com/in/joseph-s-50398b136/?utm_medium=Exinfluencer&utm_source=Exinfluencer&utm_content=000026UJ&utm_term=10006555&utm_id=NA-SkillsNetwork-Channel-SkillsNetworkCoursesIBMDeveloperSkillsNetworkCV0101ENCoursera872-2023-01-01\">Joseph Santarcangelo</a> has a PhD in Electrical Engineering, his research focused on using machine learning, signal processing, and computer vision to determine how videos impact human cognition. Joseph has been working for IBM since he completed his PhD. \n"
   ]
  },
  {
   "cell_type": "markdown",
   "id": "a3429424",
   "metadata": {
    "papermill": {
     "duration": 0.016807,
     "end_time": "2024-02-29T13:23:16.917337",
     "exception": false,
     "start_time": "2024-02-29T13:23:16.900530",
     "status": "completed"
    },
    "tags": []
   },
   "source": [
    "Other contributors: <a href=\"https://www.linkedin.com/in/michelleccarey/?utm_medium=Exinfluencer&utm_source=Exinfluencer&utm_content=000026UJ&utm_term=10006555&utm_id=NA-SkillsNetwork-Channel-SkillsNetworkCoursesIBMDeveloperSkillsNetworkCV0101ENCoursera872-2023-01-01\">Michelle Carey</a>, <a href=\"www.linkedin.com/in/jiahui-mavis-zhou-a4537814a\">Mavis Zhou</a>\n"
   ]
  },
  {
   "cell_type": "markdown",
   "id": "50abe64f",
   "metadata": {
    "papermill": {
     "duration": 0.016953,
     "end_time": "2024-02-29T13:23:16.951320",
     "exception": false,
     "start_time": "2024-02-29T13:23:16.934367",
     "status": "completed"
    },
    "tags": []
   },
   "source": [
    "\n",
    "## Change Log\n",
    "\n",
    "|  Date (YYYY-MM-DD) |  Version | Changed By  |  Change Description |\n",
    "|---|---|---|---|\n",
    "| 2020-09-23  | 2.0  | Srishti  |  Migrated Lab to Markdown and added to course repo in GitLab |\n",
    "\n",
    "\n",
    "\n",
    "<hr>\n",
    "\n",
    "## <h3 align=\"center\"> © IBM Corporation 2020. All rights reserved. <h3/>\n"
   ]
  }
 ],
 "metadata": {
  "kaggle": {
   "accelerator": "none",
   "dataSources": [],
   "dockerImageVersionId": 30664,
   "isGpuEnabled": false,
   "isInternetEnabled": true,
   "language": "python",
   "sourceType": "notebook"
  },
  "kernelspec": {
   "display_name": "Python 3",
   "language": "python",
   "name": "python3"
  },
  "language_info": {
   "codemirror_mode": {
    "name": "ipython",
    "version": 3
   },
   "file_extension": ".py",
   "mimetype": "text/x-python",
   "name": "python",
   "nbconvert_exporter": "python",
   "pygments_lexer": "ipython3",
   "version": "3.10.13"
  },
  "papermill": {
   "default_parameters": {},
   "duration": 202.554199,
   "end_time": "2024-02-29T13:23:18.495056",
   "environment_variables": {},
   "exception": null,
   "input_path": "__notebook__.ipynb",
   "output_path": "__notebook__.ipynb",
   "parameters": {},
   "start_time": "2024-02-29T13:19:55.940857",
   "version": "2.5.0"
  }
 },
 "nbformat": 4,
 "nbformat_minor": 5
}
