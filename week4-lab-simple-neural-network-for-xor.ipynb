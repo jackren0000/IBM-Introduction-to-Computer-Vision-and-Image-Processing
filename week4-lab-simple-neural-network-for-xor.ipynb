{
 "cells": [
  {
   "cell_type": "markdown",
   "id": "1948a620",
   "metadata": {
    "papermill": {
     "duration": 0.011744,
     "end_time": "2024-02-29T08:21:27.457460",
     "exception": false,
     "start_time": "2024-02-29T08:21:27.445716",
     "status": "completed"
    },
    "tags": []
   },
   "source": [
    "<p style=\"text-align:center\">\n",
    "    <a href=\"https://skills.network/?utm_medium=Exinfluencer&utm_source=Exinfluencer&utm_content=000026UJ&utm_term=10006555&utm_id=NA-SkillsNetwork-Channel-SkillsNetworkCoursesIBMDeveloperSkillsNetworkCV0101ENCoursera872-2023-01-01\">\n",
    "    <img src=\"https://cf-courses-data.s3.us.cloud-object-storage.appdomain.cloud/assets/logos/SN_web_lightmode.png\" width=\"200\" alt=\"Skills Network Logo\"  />\n",
    "    </a>\n",
    "</p>\n"
   ]
  },
  {
   "cell_type": "markdown",
   "id": "dc30c824",
   "metadata": {
    "papermill": {
     "duration": 0.010806,
     "end_time": "2024-02-29T08:21:27.480316",
     "exception": false,
     "start_time": "2024-02-29T08:21:27.469510",
     "status": "completed"
    },
    "tags": []
   },
   "source": [
    "<h1>Practice: Neural Networks with One Hidden Layer: Noisy XOR</h1>\n"
   ]
  },
  {
   "cell_type": "markdown",
   "id": "750f672e",
   "metadata": {
    "papermill": {
     "duration": 0.010761,
     "end_time": "2024-02-29T08:21:27.502313",
     "exception": false,
     "start_time": "2024-02-29T08:21:27.491552",
     "status": "completed"
    },
    "tags": []
   },
   "source": [
    "<h2>Objective</h2><p>After completing this lab you will be able to:</p> \n",
    "<ul><li> Create a neural network model with multiple neurons to model a simple function.</li></ul>\n"
   ]
  },
  {
   "cell_type": "markdown",
   "id": "b5113b0e",
   "metadata": {
    "papermill": {
     "duration": 0.010815,
     "end_time": "2024-02-29T08:21:27.524353",
     "exception": false,
     "start_time": "2024-02-29T08:21:27.513538",
     "status": "completed"
    },
    "tags": []
   },
   "source": [
    "<h2>Table of Contents</h2>\n",
    "<p>In this lab, you will see how many neurons it takes to classify noisy XOR data with one hidden layer neural network.</p>\n",
    "\n",
    "<ul>\n",
    "    <li><a href=\"#Model\">Neural Network Module and Training Function</a></li>\n",
    "    <li><a href=\"#Makeup_Data\">Make Some Data</a></li>\n",
    "    <li><a href=\"#One\">One Neuron</a></li>\n",
    "    <li><a href=\"#Two\">Two Neurons</a></li>\n",
    "    <li><a href=\"#Three\">Three Neurons</a></li>\n",
    "</ul>\n",
    "<p>Estimated Time Needed: <strong>25 min</strong></p>\n",
    "<hr>\n"
   ]
  },
  {
   "cell_type": "markdown",
   "id": "d57433a5",
   "metadata": {
    "papermill": {
     "duration": 0.010683,
     "end_time": "2024-02-29T08:21:27.546272",
     "exception": false,
     "start_time": "2024-02-29T08:21:27.535589",
     "status": "completed"
    },
    "tags": []
   },
   "source": [
    "<h2>Preparation</h2>\n"
   ]
  },
  {
   "cell_type": "markdown",
   "id": "da11005a",
   "metadata": {
    "papermill": {
     "duration": 0.01068,
     "end_time": "2024-02-29T08:21:27.568050",
     "exception": false,
     "start_time": "2024-02-29T08:21:27.557370",
     "status": "completed"
    },
    "tags": []
   },
   "source": [
    "We'll need the following libraries\n"
   ]
  },
  {
   "cell_type": "code",
   "execution_count": 1,
   "id": "a1d5c1e6",
   "metadata": {
    "execution": {
     "iopub.execute_input": "2024-02-29T08:21:27.592973Z",
     "iopub.status.busy": "2024-02-29T08:21:27.592149Z",
     "iopub.status.idle": "2024-02-29T08:21:27.597407Z",
     "shell.execute_reply": "2024-02-29T08:21:27.596525Z"
    },
    "papermill": {
     "duration": 0.020329,
     "end_time": "2024-02-29T08:21:27.599660",
     "exception": false,
     "start_time": "2024-02-29T08:21:27.579331",
     "status": "completed"
    },
    "tags": []
   },
   "outputs": [],
   "source": [
    "# !pip3 install torch torchvision torchaudio"
   ]
  },
  {
   "cell_type": "code",
   "execution_count": 2,
   "id": "9ae5d5f0",
   "metadata": {
    "execution": {
     "iopub.execute_input": "2024-02-29T08:21:27.625573Z",
     "iopub.status.busy": "2024-02-29T08:21:27.624786Z",
     "iopub.status.idle": "2024-02-29T08:21:31.757299Z",
     "shell.execute_reply": "2024-02-29T08:21:31.755935Z"
    },
    "papermill": {
     "duration": 4.148634,
     "end_time": "2024-02-29T08:21:31.760364",
     "exception": false,
     "start_time": "2024-02-29T08:21:27.611730",
     "status": "completed"
    },
    "tags": []
   },
   "outputs": [],
   "source": [
    "# Import the libraries we need for this lab\n",
    "\n",
    "# Allows us to use arrays to manipulate and store data\n",
    "import numpy as np\n",
    "# PyTorch Library\n",
    "import torch\n",
    "# PyTorch Neural Network\n",
    "import torch.nn as nn\n",
    "# Allows us to use activation functions\n",
    "import torch.nn.functional as F\n",
    "# Used to graph data and loss curves\n",
    "import matplotlib.pyplot as plt \n",
    "from matplotlib.colors import ListedColormap\n",
    "# Used to help create the dataset and perform mini-batch\n",
    "from torch.utils.data import Dataset, DataLoader"
   ]
  },
  {
   "cell_type": "markdown",
   "id": "2b2499db",
   "metadata": {
    "papermill": {
     "duration": 0.010922,
     "end_time": "2024-02-29T08:21:31.783857",
     "exception": false,
     "start_time": "2024-02-29T08:21:31.772935",
     "status": "completed"
    },
    "tags": []
   },
   "source": [
    "Use the following function to plot the data: \n"
   ]
  },
  {
   "cell_type": "code",
   "execution_count": 3,
   "id": "1958d3a0",
   "metadata": {
    "execution": {
     "iopub.execute_input": "2024-02-29T08:21:31.809040Z",
     "iopub.status.busy": "2024-02-29T08:21:31.808427Z",
     "iopub.status.idle": "2024-02-29T08:21:31.821664Z",
     "shell.execute_reply": "2024-02-29T08:21:31.820354Z"
    },
    "papermill": {
     "duration": 0.029249,
     "end_time": "2024-02-29T08:21:31.824460",
     "exception": false,
     "start_time": "2024-02-29T08:21:31.795211",
     "status": "completed"
    },
    "tags": []
   },
   "outputs": [],
   "source": [
    "# Plot the data\n",
    "# plot decision regions for a two-class classification problem\n",
    "def plot_decision_regions_2class(model,data_set):\n",
    "    cmap_light = ListedColormap(['#FFAAAA', '#AAFFAA', '#00AAFF'])\n",
    "    cmap_bold = ListedColormap(['#FF0000', '#00FF00', '#00AAFF'])\n",
    "    # convert PyTorch tensor to Numpy array\n",
    "    X = data_set.x.numpy()\n",
    "    y = data_set.y.numpy()\n",
    "    h = .02\n",
    "    # calculate the minimum and maximum values for the two features\n",
    "    x_min, x_max = X[:, 0].min() - 0.1 , X[:, 0].max() + 0.1 \n",
    "    y_min, y_max = X[:, 1].min() - 0.1 , X[:, 1].max() + 0.1 \n",
    "    # create a meshgrid xx and yy which will be used to plot the decision regions\n",
    "    xx, yy = np.meshgrid(np.arange(x_min, x_max, h),np.arange(y_min, y_max, h))\n",
    "    # flatten the xx and yy grids using ravel() and then combines them into a two-column array\n",
    "    XX = torch.Tensor(np.c_[xx.ravel(), yy.ravel()])\n",
    "\n",
    "    yhat = np.logical_not((model(XX)[:, 0] > 0.5).numpy()).reshape(xx.shape)\n",
    "    plt.pcolormesh(xx, yy, yhat, cmap=cmap_light, shading='auto')\n",
    "    # plot the actual data points, using different markers for the two classes\n",
    "    plt.plot(X[y[:, 0] == 0, 0], X[y[:, 0] == 0, 1], 'o', label='y=0')\n",
    "    plt.plot(X[y[:, 0] == 1, 0], X[y[:, 0] == 1, 1], 'ro', label='y=1')\n",
    "    plt.title(\"decision region\")\n",
    "    plt.legend()\n",
    "    plt.show()"
   ]
  },
  {
   "cell_type": "markdown",
   "id": "d3d95499",
   "metadata": {
    "papermill": {
     "duration": 0.010983,
     "end_time": "2024-02-29T08:21:31.846697",
     "exception": false,
     "start_time": "2024-02-29T08:21:31.835714",
     "status": "completed"
    },
    "tags": []
   },
   "source": [
    "Use the following function to calculate accuracy: \n"
   ]
  },
  {
   "cell_type": "code",
   "execution_count": 4,
   "id": "9b10249c",
   "metadata": {
    "execution": {
     "iopub.execute_input": "2024-02-29T08:21:31.871411Z",
     "iopub.status.busy": "2024-02-29T08:21:31.870936Z",
     "iopub.status.idle": "2024-02-29T08:21:31.877294Z",
     "shell.execute_reply": "2024-02-29T08:21:31.875991Z"
    },
    "papermill": {
     "duration": 0.021697,
     "end_time": "2024-02-29T08:21:31.879709",
     "exception": false,
     "start_time": "2024-02-29T08:21:31.858012",
     "status": "completed"
    },
    "tags": []
   },
   "outputs": [],
   "source": [
    "# Calculate the accuracy\n",
    "\n",
    "def accuracy(model, data_set):\n",
    "    # Rounds prediction to nearest integer 0 or 1\n",
    "    # Checks if prediction matches the actual values and returns accuracy rate\n",
    "    return np.mean(data_set.y.view(-1).numpy() == (model(data_set.x)[:, 0] > 0.5).numpy())"
   ]
  },
  {
   "cell_type": "markdown",
   "id": "c89d62fd",
   "metadata": {
    "papermill": {
     "duration": 0.011054,
     "end_time": "2024-02-29T08:21:31.902919",
     "exception": false,
     "start_time": "2024-02-29T08:21:31.891865",
     "status": "completed"
    },
    "tags": []
   },
   "source": [
    "<!--Empty Space for separating topics-->\n"
   ]
  },
  {
   "cell_type": "markdown",
   "id": "2e2a73c4",
   "metadata": {
    "papermill": {
     "duration": 0.011028,
     "end_time": "2024-02-29T08:21:31.926150",
     "exception": false,
     "start_time": "2024-02-29T08:21:31.915122",
     "status": "completed"
    },
    "tags": []
   },
   "source": [
    "<h2 id=\"Model\">Neural Network Module and Training Function</h2> \n"
   ]
  },
  {
   "cell_type": "markdown",
   "id": "5478b385",
   "metadata": {
    "papermill": {
     "duration": 0.011279,
     "end_time": "2024-02-29T08:21:31.948704",
     "exception": false,
     "start_time": "2024-02-29T08:21:31.937425",
     "status": "completed"
    },
    "tags": []
   },
   "source": [
    "Define the neural network module or class: \n"
   ]
  },
  {
   "cell_type": "code",
   "execution_count": 5,
   "id": "ecba530a",
   "metadata": {
    "execution": {
     "iopub.execute_input": "2024-02-29T08:21:31.973677Z",
     "iopub.status.busy": "2024-02-29T08:21:31.973226Z",
     "iopub.status.idle": "2024-02-29T08:21:31.981586Z",
     "shell.execute_reply": "2024-02-29T08:21:31.980211Z"
    },
    "papermill": {
     "duration": 0.023821,
     "end_time": "2024-02-29T08:21:31.983946",
     "exception": false,
     "start_time": "2024-02-29T08:21:31.960125",
     "status": "completed"
    },
    "tags": []
   },
   "outputs": [],
   "source": [
    "# Define the class Net with one hidden layer \n",
    "\n",
    "class Net(nn.Module):\n",
    "    \n",
    "    # Constructor\n",
    "    def __init__(self, D_in, H, D_out):\n",
    "        # the super() needs to be called for proper initialization\n",
    "        super().__init__()\n",
    "        # D_in is the input size of the first layer (size of input layer)\n",
    "        # H is the outpout size of the first layer and the input size of the second layer (size of hidden layer)\n",
    "        # D_out is the output size of the second layer (size of output layer)\n",
    "        self.linear1 = nn.Linear(D_in, H)\n",
    "        self.linear2 = nn.Linear(H, D_out)\n",
    "\n",
    "    # Prediction    \n",
    "    def forward(self, x):\n",
    "        # Puts x through first layer then sigmoid function\n",
    "        x = torch.sigmoid(self.linear1(x)) \n",
    "        # Puts result of previous line through second layer then sigmoid function\n",
    "        x = torch.sigmoid(self.linear2(x))\n",
    "        # Output is a number between 0 and 1 due to the sigmoid function. Whichever the output is closer to, 0 or 1, is the class prediction\n",
    "        return x"
   ]
  },
  {
   "cell_type": "markdown",
   "id": "ec3b35c8",
   "metadata": {
    "papermill": {
     "duration": 0.010961,
     "end_time": "2024-02-29T08:21:32.005974",
     "exception": false,
     "start_time": "2024-02-29T08:21:31.995013",
     "status": "completed"
    },
    "tags": []
   },
   "source": [
    "Define a function to train the model: \n"
   ]
  },
  {
   "cell_type": "code",
   "execution_count": 6,
   "id": "de1901e0",
   "metadata": {
    "execution": {
     "iopub.execute_input": "2024-02-29T08:21:32.031591Z",
     "iopub.status.busy": "2024-02-29T08:21:32.031151Z",
     "iopub.status.idle": "2024-02-29T08:21:32.047161Z",
     "shell.execute_reply": "2024-02-29T08:21:32.045294Z"
    },
    "papermill": {
     "duration": 0.033513,
     "end_time": "2024-02-29T08:21:32.050662",
     "exception": false,
     "start_time": "2024-02-29T08:21:32.017149",
     "status": "completed"
    },
    "tags": []
   },
   "outputs": [],
   "source": [
    "# Function to Train the Model\n",
    "\n",
    "def train(data_set, model, criterion, train_loader, optimizer, epochs=5):\n",
    "    # Lists to keep track of cost and accuracy\n",
    "    COST = []\n",
    "    ACC = []\n",
    "    # Number of times we train on the entire dataset\n",
    "    for epoch in range(epochs):\n",
    "        # Total loss over epoch\n",
    "        total=0\n",
    "        # For batch in train laoder\n",
    "        for x, y in train_loader:\n",
    "            # Resets the calculated gradient value, this must be done each time as it accumulates if we do not reset\n",
    "            optimizer.zero_grad()\n",
    "            # Makes a prediction based on X value\n",
    "            yhat = model(x)\n",
    "            # Measures the loss between prediction and acutal Y value\n",
    "            loss = criterion(yhat, y)\n",
    "            # Calculates the gradient value with respect to each weight and bias\n",
    "            loss.backward()\n",
    "            # Updates the weight and bias according to calculated gradient value\n",
    "            optimizer.step()\n",
    "            # Cumulates loss \n",
    "            total+=loss.item()\n",
    "        # Saves cost and accuracy\n",
    "        ACC.append(accuracy(model, data_set))\n",
    "        COST.append(total)\n",
    "        \n",
    "    # Prints Cost vs Epoch graph\n",
    "    fig, ax1 = plt.subplots()\n",
    "    color = 'tab:red'\n",
    "    ax1.plot(COST, color=color)\n",
    "    ax1.set_xlabel('epoch', color=color)\n",
    "    ax1.set_ylabel('total loss', color=color)\n",
    "    ax1.tick_params(axis='y', color=color)\n",
    "    \n",
    "    # Prints Accuracy vs Epoch graph\n",
    "    ax2 = ax1.twinx()  \n",
    "    color = 'tab:blue'\n",
    "    ax2.set_ylabel('accuracy', color=color)  # we already handled the x-label with ax1\n",
    "    ax2.plot(ACC, color=color)\n",
    "    ax2.tick_params(axis='y', color=color)\n",
    "    fig.tight_layout()  # otherwise the right y-label is slightly clipped\n",
    "    \n",
    "    plt.show()\n",
    "\n",
    "    return COST"
   ]
  },
  {
   "cell_type": "markdown",
   "id": "9368bfc1",
   "metadata": {
    "papermill": {
     "duration": 0.014109,
     "end_time": "2024-02-29T08:21:32.080298",
     "exception": false,
     "start_time": "2024-02-29T08:21:32.066189",
     "status": "completed"
    },
    "tags": []
   },
   "source": [
    "<!--Empty Space for separating topics-->\n"
   ]
  },
  {
   "cell_type": "markdown",
   "id": "b2db18e6",
   "metadata": {
    "papermill": {
     "duration": 0.01342,
     "end_time": "2024-02-29T08:21:32.107982",
     "exception": false,
     "start_time": "2024-02-29T08:21:32.094562",
     "status": "completed"
    },
    "tags": []
   },
   "source": [
    "<h2 id=\"Makeup_Data\">Make Some Data</h2> \n"
   ]
  },
  {
   "cell_type": "markdown",
   "id": "9ab8b4e4",
   "metadata": {
    "papermill": {
     "duration": 0.011422,
     "end_time": "2024-02-29T08:21:32.133884",
     "exception": false,
     "start_time": "2024-02-29T08:21:32.122462",
     "status": "completed"
    },
    "tags": []
   },
   "source": [
    "Dataset class:\n"
   ]
  },
  {
   "cell_type": "code",
   "execution_count": 7,
   "id": "90f4cc07",
   "metadata": {
    "execution": {
     "iopub.execute_input": "2024-02-29T08:21:32.167544Z",
     "iopub.status.busy": "2024-02-29T08:21:32.166585Z",
     "iopub.status.idle": "2024-02-29T08:21:32.193673Z",
     "shell.execute_reply": "2024-02-29T08:21:32.192007Z"
    },
    "papermill": {
     "duration": 0.047505,
     "end_time": "2024-02-29T08:21:32.197053",
     "exception": false,
     "start_time": "2024-02-29T08:21:32.149548",
     "status": "completed"
    },
    "tags": []
   },
   "outputs": [],
   "source": [
    "# Define the class XOR_Data\n",
    "\n",
    "class XOR_Data(Dataset):\n",
    "    \n",
    "    # Constructor\n",
    "    # N_s is the size of the dataset\n",
    "    def __init__(self, N_s=100):\n",
    "        # Create a N_s by 2 array for the X values representing the coordinates\n",
    "        self.x = torch.zeros((N_s, 2))\n",
    "        # Create a N_s by 1 array for the class the X value belongs to\n",
    "        self.y = torch.zeros((N_s, 1))\n",
    "        # Split the dataset into 4 sections\n",
    "        for i in range(N_s // 4):\n",
    "            # Create data centered around (0,0) of class 0\n",
    "            self.x[i, :] = torch.Tensor([0.0, 0.0]) \n",
    "            self.y[i, 0] = torch.Tensor([0.0])\n",
    "\n",
    "            # Create data centered around (0,1) of class 1\n",
    "            self.x[i + N_s // 4, :] = torch.Tensor([0.0, 1.0])\n",
    "            self.y[i + N_s // 4, 0] = torch.Tensor([1.0])\n",
    "    \n",
    "            # Create data centered around (1,0) of class 1\n",
    "            self.x[i + N_s // 2, :] = torch.Tensor([1.0, 0.0])\n",
    "            self.y[i + N_s // 2, 0] = torch.Tensor([1.0])\n",
    "    \n",
    "            # Create data centered around (1,1) of class 0\n",
    "            self.x[i + 3 * N_s // 4, :] = torch.Tensor([1.0, 1.0])\n",
    "            self.y[i + 3 * N_s // 4, 0] = torch.Tensor([0.0])\n",
    "\n",
    "            # Add some noise to the X values to make them different\n",
    "            self.x = self.x + 0.01 * torch.randn((N_s, 2))\n",
    "        self.len = N_s\n",
    "\n",
    "    # Getter\n",
    "    def __getitem__(self, index):    \n",
    "        return self.x[index],self.y[index]\n",
    "    \n",
    "    # Get Length\n",
    "    def __len__(self):\n",
    "        return self.len\n",
    "    \n",
    "    # Plot the data\n",
    "    def plot_stuff(self):\n",
    "        plt.plot(self.x[self.y[:, 0] == 0, 0].numpy(), self.x[self.y[:, 0] == 0, 1].numpy(), 'o', label=\"y=0\")\n",
    "        plt.plot(self.x[self.y[:, 0] == 1, 0].numpy(), self.x[self.y[:, 0] == 1, 1].numpy(), 'ro', label=\"y=1\")\n",
    "        plt.legend()"
   ]
  },
  {
   "cell_type": "markdown",
   "id": "f8b23f4b",
   "metadata": {
    "papermill": {
     "duration": 0.013886,
     "end_time": "2024-02-29T08:21:32.227596",
     "exception": false,
     "start_time": "2024-02-29T08:21:32.213710",
     "status": "completed"
    },
    "tags": []
   },
   "source": [
    "Dataset object:\n"
   ]
  },
  {
   "cell_type": "code",
   "execution_count": 8,
   "id": "86634603",
   "metadata": {
    "execution": {
     "iopub.execute_input": "2024-02-29T08:21:32.256003Z",
     "iopub.status.busy": "2024-02-29T08:21:32.255417Z",
     "iopub.status.idle": "2024-02-29T08:21:32.731325Z",
     "shell.execute_reply": "2024-02-29T08:21:32.730119Z"
    },
    "papermill": {
     "duration": 0.494449,
     "end_time": "2024-02-29T08:21:32.734275",
     "exception": false,
     "start_time": "2024-02-29T08:21:32.239826",
     "status": "completed"
    },
    "tags": []
   },
   "outputs": [
    {
     "data": {
      "image/png": "[encoded data removed]",
      "text/plain": [
       "<Figure size 640x480 with 1 Axes>"
      ]
     },
     "metadata": {},
     "output_type": "display_data"
    }
   ],
   "source": [
    "# Create dataset object\n",
    "\n",
    "data_set = XOR_Data()\n",
    "data_set.plot_stuff()"
   ]
  },
  {
   "cell_type": "markdown",
   "id": "64f0dd3f",
   "metadata": {
    "papermill": {
     "duration": 0.013134,
     "end_time": "2024-02-29T08:21:32.761613",
     "exception": false,
     "start_time": "2024-02-29T08:21:32.748479",
     "status": "completed"
    },
    "tags": []
   },
   "source": [
    "<!--Empty Space for separating topics-->\n"
   ]
  },
  {
   "cell_type": "markdown",
   "id": "b9d26b5d",
   "metadata": {
    "papermill": {
     "duration": 0.017556,
     "end_time": "2024-02-29T08:21:32.795742",
     "exception": false,
     "start_time": "2024-02-29T08:21:32.778186",
     "status": "completed"
    },
    "tags": []
   },
   "source": [
    "<h2 id=\"One\">One Neuron</h2> \n"
   ]
  },
  {
   "cell_type": "markdown",
   "id": "9092251b",
   "metadata": {
    "papermill": {
     "duration": 0.013968,
     "end_time": "2024-02-29T08:21:32.827629",
     "exception": false,
     "start_time": "2024-02-29T08:21:32.813661",
     "status": "completed"
    },
    "tags": []
   },
   "source": [
    "<h3>Try</h3>\n"
   ]
  },
  {
   "cell_type": "markdown",
   "id": "fa5ab892",
   "metadata": {
    "papermill": {
     "duration": 0.011329,
     "end_time": "2024-02-29T08:21:32.850918",
     "exception": false,
     "start_time": "2024-02-29T08:21:32.839589",
     "status": "completed"
    },
    "tags": []
   },
   "source": [
    "Create a neural network <code>model</code> with one neuron in the hidden layer. Then, use the following code to train it:\n"
   ]
  },
  {
   "cell_type": "code",
   "execution_count": 9,
   "id": "2059c9b0",
   "metadata": {
    "execution": {
     "iopub.execute_input": "2024-02-29T08:21:32.879109Z",
     "iopub.status.busy": "2024-02-29T08:21:32.878183Z",
     "iopub.status.idle": "2024-02-29T08:21:32.888624Z",
     "shell.execute_reply": "2024-02-29T08:21:32.887571Z"
    },
    "papermill": {
     "duration": 0.029104,
     "end_time": "2024-02-29T08:21:32.891843",
     "exception": false,
     "start_time": "2024-02-29T08:21:32.862739",
     "status": "completed"
    },
    "tags": []
   },
   "outputs": [],
   "source": [
    "model = Net(2, 1, 1)"
   ]
  },
  {
   "cell_type": "code",
   "execution_count": 10,
   "id": "f0c92697",
   "metadata": {
    "execution": {
     "iopub.execute_input": "2024-02-29T08:21:32.919048Z",
     "iopub.status.busy": "2024-02-29T08:21:32.918151Z",
     "iopub.status.idle": "2024-02-29T08:22:08.368231Z",
     "shell.execute_reply": "2024-02-29T08:22:08.366785Z"
    },
    "papermill": {
     "duration": 35.466946,
     "end_time": "2024-02-29T08:22:08.371124",
     "exception": false,
     "start_time": "2024-02-29T08:21:32.904178",
     "status": "completed"
    },
    "tags": []
   },
   "outputs": [
    {
     "data": {
      "image/png": "[encoded data removed]",
      "text/plain": [
       "<Figure size 640x480 with 2 Axes>"
      ]
     },
     "metadata": {},
     "output_type": "display_data"
    },
    {
     "data": {
      "image/png": "[encoded data removed]",
      "text/plain": [
       "<Figure size 640x480 with 1 Axes>"
      ]
     },
     "metadata": {},
     "output_type": "display_data"
    }
   ],
   "source": [
    "# Train the model\n",
    "\n",
    "learning_rate = 0.1\n",
    "# We create a criterion which will measure loss\n",
    "criterion = nn.BCELoss()\n",
    "# Create an optimizer that updates model parameters using the learning rate and gradient\n",
    "optimizer = torch.optim.SGD(model.parameters(), lr=learning_rate)\n",
    "# Create a Data Loader for the training data with a batch size of 1 \n",
    "train_loader = DataLoader(dataset=data_set, batch_size=1)\n",
    "# Using the training function train the model on 500 epochs\n",
    "LOSS12 = train(data_set, model, criterion, train_loader, optimizer, epochs=500)\n",
    "# Plot the data with decision boundaries\n",
    "plot_decision_regions_2class(model, data_set)"
   ]
  },
  {
   "cell_type": "markdown",
   "id": "138dda0d",
   "metadata": {
    "papermill": {
     "duration": 0.012704,
     "end_time": "2024-02-29T08:22:08.397413",
     "exception": false,
     "start_time": "2024-02-29T08:22:08.384709",
     "status": "completed"
    },
    "tags": []
   },
   "source": [
    "<!--Empty Space for separating topics-->\n"
   ]
  },
  {
   "cell_type": "markdown",
   "id": "7c1ff58b",
   "metadata": {
    "papermill": {
     "duration": 0.012442,
     "end_time": "2024-02-29T08:22:08.422567",
     "exception": false,
     "start_time": "2024-02-29T08:22:08.410125",
     "status": "completed"
    },
    "tags": []
   },
   "source": [
    "<h2 id=\"Two\">Two Neurons</h2> \n"
   ]
  },
  {
   "cell_type": "markdown",
   "id": "88896ae7",
   "metadata": {
    "papermill": {
     "duration": 0.01281,
     "end_time": "2024-02-29T08:22:08.448140",
     "exception": false,
     "start_time": "2024-02-29T08:22:08.435330",
     "status": "completed"
    },
    "tags": []
   },
   "source": [
    "<h3>Try</h3>\n"
   ]
  },
  {
   "cell_type": "markdown",
   "id": "ac62e073",
   "metadata": {
    "papermill": {
     "duration": 0.012638,
     "end_time": "2024-02-29T08:22:08.473469",
     "exception": false,
     "start_time": "2024-02-29T08:22:08.460831",
     "status": "completed"
    },
    "tags": []
   },
   "source": [
    "Create a neural network <code>model</code> with two neurons in the hidden layer. Then, use the following code to train it:\n"
   ]
  },
  {
   "cell_type": "code",
   "execution_count": 11,
   "id": "d51b8f12",
   "metadata": {
    "execution": {
     "iopub.execute_input": "2024-02-29T08:22:08.501567Z",
     "iopub.status.busy": "2024-02-29T08:22:08.500705Z",
     "iopub.status.idle": "2024-02-29T08:22:08.505918Z",
     "shell.execute_reply": "2024-02-29T08:22:08.505055Z"
    },
    "papermill": {
     "duration": 0.022478,
     "end_time": "2024-02-29T08:22:08.508394",
     "exception": false,
     "start_time": "2024-02-29T08:22:08.485916",
     "status": "completed"
    },
    "tags": []
   },
   "outputs": [],
   "source": [
    "# create a model with two neuron\n",
    "model = Net(2, 2, 1)"
   ]
  },
  {
   "cell_type": "code",
   "execution_count": 12,
   "id": "8fb01f60",
   "metadata": {
    "execution": {
     "iopub.execute_input": "2024-02-29T08:22:08.536331Z",
     "iopub.status.busy": "2024-02-29T08:22:08.535648Z",
     "iopub.status.idle": "2024-02-29T08:22:40.823613Z",
     "shell.execute_reply": "2024-02-29T08:22:40.822353Z"
    },
    "papermill": {
     "duration": 32.305707,
     "end_time": "2024-02-29T08:22:40.827120",
     "exception": false,
     "start_time": "2024-02-29T08:22:08.521413",
     "status": "completed"
    },
    "tags": []
   },
   "outputs": [
    {
     "data": {
      "image/png": "[encoded data removed]",
      "text/plain": [
       "<Figure size 640x480 with 2 Axes>"
      ]
     },
     "metadata": {},
     "output_type": "display_data"
    },
    {
     "data": {
      "image/png": "[encoded data removed]",
      "text/plain": [
       "<Figure size 640x480 with 1 Axes>"
      ]
     },
     "metadata": {},
     "output_type": "display_data"
    }
   ],
   "source": [
    "# Train the model\n",
    "\n",
    "learning_rate = 0.1\n",
    "# We create a criterion which will measure loss\n",
    "criterion = nn.BCELoss()\n",
    "# Create an optimizer with the model parameters and learning rate\n",
    "optimizer = torch.optim.SGD(model.parameters(), lr=learning_rate)\n",
    "# Create a Data Loader for the training data with a batch size of 1 \n",
    "train_loader = DataLoader(dataset=data_set, batch_size=1)\n",
    "# Using the training function train the model on 500 epochs\n",
    "LOSS12 = train(data_set, model, criterion, train_loader, optimizer, epochs=500)\n",
    "# Plot the data with decision boundaries\n",
    "plot_decision_regions_2class(model, data_set)"
   ]
  },
  {
   "cell_type": "markdown",
   "id": "0faf6193",
   "metadata": {
    "papermill": {
     "duration": 0.013245,
     "end_time": "2024-02-29T08:22:40.853849",
     "exception": false,
     "start_time": "2024-02-29T08:22:40.840604",
     "status": "completed"
    },
    "tags": []
   },
   "source": [
    "<!--Empty Space for separating topics-->\n"
   ]
  },
  {
   "cell_type": "markdown",
   "id": "f3ddddb9",
   "metadata": {
    "papermill": {
     "duration": 0.013202,
     "end_time": "2024-02-29T08:22:40.881485",
     "exception": false,
     "start_time": "2024-02-29T08:22:40.868283",
     "status": "completed"
    },
    "tags": []
   },
   "source": [
    "<h2 id=\"Three\">Three Neurons</h2> \n"
   ]
  },
  {
   "cell_type": "markdown",
   "id": "eb4fda5e",
   "metadata": {
    "papermill": {
     "duration": 0.013144,
     "end_time": "2024-02-29T08:22:40.908000",
     "exception": false,
     "start_time": "2024-02-29T08:22:40.894856",
     "status": "completed"
    },
    "tags": []
   },
   "source": [
    "<h3>Try</h3>\n"
   ]
  },
  {
   "cell_type": "markdown",
   "id": "a47230be",
   "metadata": {
    "papermill": {
     "duration": 0.014459,
     "end_time": "2024-02-29T08:22:40.936206",
     "exception": false,
     "start_time": "2024-02-29T08:22:40.921747",
     "status": "completed"
    },
    "tags": []
   },
   "source": [
    "Create a neural network <code>model</code> with three neurons in the hidden layer. Then, use the following code to train it:\n"
   ]
  },
  {
   "cell_type": "code",
   "execution_count": 13,
   "id": "c1821394",
   "metadata": {
    "execution": {
     "iopub.execute_input": "2024-02-29T08:22:40.968749Z",
     "iopub.status.busy": "2024-02-29T08:22:40.968284Z",
     "iopub.status.idle": "2024-02-29T08:22:40.974356Z",
     "shell.execute_reply": "2024-02-29T08:22:40.972975Z"
    },
    "papermill": {
     "duration": 0.025872,
     "end_time": "2024-02-29T08:22:40.977831",
     "exception": false,
     "start_time": "2024-02-29T08:22:40.951959",
     "status": "completed"
    },
    "tags": []
   },
   "outputs": [],
   "source": [
    "# create a model with two neuron\n",
    "model = Net(2, 3, 1)"
   ]
  },
  {
   "cell_type": "code",
   "execution_count": 14,
   "id": "eb2aa2c6",
   "metadata": {
    "execution": {
     "iopub.execute_input": "2024-02-29T08:22:41.009656Z",
     "iopub.status.busy": "2024-02-29T08:22:41.009187Z",
     "iopub.status.idle": "2024-02-29T08:23:14.311287Z",
     "shell.execute_reply": "2024-02-29T08:23:14.309997Z"
    },
    "papermill": {
     "duration": 33.320842,
     "end_time": "2024-02-29T08:23:14.313863",
     "exception": false,
     "start_time": "2024-02-29T08:22:40.993021",
     "status": "completed"
    },
    "tags": []
   },
   "outputs": [
    {
     "data": {
      "image/png": "[encoded data removed]",
      "text/plain": [
       "<Figure size 640x480 with 2 Axes>"
      ]
     },
     "metadata": {},
     "output_type": "display_data"
    },
    {
     "data": {
      "image/png": "[encoded data removed]",
      "text/plain": [
       "<Figure size 640x480 with 1 Axes>"
      ]
     },
     "metadata": {},
     "output_type": "display_data"
    }
   ],
   "source": [
    "# Train the model\n",
    "\n",
    "learning_rate = 0.1\n",
    "# We create a criterion which will measure loss\n",
    "criterion = nn.BCELoss()\n",
    "# Create an optimizer with the model parameters and learning rate\n",
    "optimizer = torch.optim.SGD(model.parameters(), lr=learning_rate)\n",
    "# Create a Data Loader for the training data with a batch size of 1 \n",
    "train_loader = DataLoader(dataset=data_set, batch_size=1)\n",
    "# Using the training function train the model on 500 epochs\n",
    "LOSS12 = train(data_set, model, criterion, train_loader, optimizer, epochs=500)\n",
    "# Plot the data with decision boundaries\n",
    "plot_decision_regions_2class(model, data_set)"
   ]
  }
 ],
 "metadata": {
  "kaggle": {
   "accelerator": "none",
   "dataSources": [],
   "dockerImageVersionId": 30646,
   "isGpuEnabled": false,
   "isInternetEnabled": true,
   "language": "python",
   "sourceType": "notebook"
  },
  "kernelspec": {
   "display_name": "Python 3",
   "language": "python",
   "name": "python3"
  },
  "language_info": {
   "codemirror_mode": {
    "name": "ipython",
    "version": 3
   },
   "file_extension": ".py",
   "mimetype": "text/x-python",
   "name": "python",
   "nbconvert_exporter": "python",
   "pygments_lexer": "ipython3",
   "version": "3.10.13"
  },
  "papermill": {
   "default_parameters": {},
   "duration": 111.5628,
   "end_time": "2024-02-29T08:23:15.653321",
   "environment_variables": {},
   "exception": null,
   "input_path": "__notebook__.ipynb",
   "output_path": "__notebook__.ipynb",
   "parameters": {},
   "start_time": "2024-02-29T08:21:24.090521",
   "version": "2.5.0"
  }
 },
 "nbformat": 4,
 "nbformat_minor": 5
}
