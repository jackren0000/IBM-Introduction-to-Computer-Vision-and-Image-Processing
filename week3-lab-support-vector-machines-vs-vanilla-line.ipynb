{
 "cells": [
  {
   "cell_type": "markdown",
   "id": "4d781965",
   "metadata": {
    "papermill": {
     "duration": 0.007229,
     "end_time": "2024-02-27T04:29:16.018822",
     "exception": false,
     "start_time": "2024-02-27T04:29:16.011593",
     "status": "completed"
    },
    "tags": []
   },
   "source": [
    "<p style=\"text-align:center\">\n",
    "    <a href=\"https://skills.network/?utm_medium=Exinfluencer&utm_source=Exinfluencer&utm_content=000026UJ&utm_term=10006555&utm_id=NA-SkillsNetwork-Channel-SkillsNetworkCoursesIBMDeveloperSkillsNetworkCV0101ENCoursera872-2023-01-01\">\n",
    "    <img src=\"https://cf-courses-data.s3.us.cloud-object-storage.appdomain.cloud/assets/logos/SN_web_lightmode.png\" width=\"200\" alt=\"Skills Network Logo\"  />\n",
    "    </a>\n",
    "</p>\n"
   ]
  },
  {
   "cell_type": "markdown",
   "id": "b7f71772",
   "metadata": {
    "papermill": {
     "duration": 0.006497,
     "end_time": "2024-02-27T04:29:16.032214",
     "exception": false,
     "start_time": "2024-02-27T04:29:16.025717",
     "status": "completed"
    },
    "tags": []
   },
   "source": [
    "# Support Vector Machine vs Vanilla Linear Classifier\n"
   ]
  },
  {
   "cell_type": "markdown",
   "id": "3e34a75e",
   "metadata": {
    "papermill": {
     "duration": 0.006299,
     "end_time": "2024-02-27T04:29:16.045130",
     "exception": false,
     "start_time": "2024-02-27T04:29:16.038831",
     "status": "completed"
    },
    "tags": []
   },
   "source": [
    "<h2>Table of Contents</h2>\n",
    "<p>We will be classifying the popular handwritten data set which we can find in the sklearn library and comparing the results of the logistic regression and SVM.  In the Sklearn library, there are several ways to use logistic regression for multiclass applications; in this lab, we will use  the `multinomial` option; this is like Softmax function we discussed before</p>\n",
    "\n",
    "<ul>\n",
    "    <li>Plotting an Image</li>\n",
    "    <li>Preprocess data for Logistic Regression</li>\n",
    "    <li>Logistic Regression with SkLearn</li>\n",
    "    <li>SVM for Image Classification with SkLearn</li>\n",
    "</ul>\n",
    "<p>Estimated Time Needed: <strong>60 min</strong></p>\n",
    "\n",
    "<hr>\n"
   ]
  },
  {
   "cell_type": "markdown",
   "id": "a5f2c4d7",
   "metadata": {
    "papermill": {
     "duration": 0.006348,
     "end_time": "2024-02-27T04:29:16.058072",
     "exception": false,
     "start_time": "2024-02-27T04:29:16.051724",
     "status": "completed"
    },
    "tags": []
   },
   "source": [
    "## Load Important Libraries and Digit Dataset\n"
   ]
  },
  {
   "cell_type": "code",
   "execution_count": 1,
   "id": "8b92d2bb",
   "metadata": {
    "execution": {
     "iopub.execute_input": "2024-02-27T04:29:16.073404Z",
     "iopub.status.busy": "2024-02-27T04:29:16.073070Z",
     "iopub.status.idle": "2024-02-27T04:29:16.077414Z",
     "shell.execute_reply": "2024-02-27T04:29:16.076632Z"
    },
    "papermill": {
     "duration": 0.014341,
     "end_time": "2024-02-27T04:29:16.079075",
     "exception": false,
     "start_time": "2024-02-27T04:29:16.064734",
     "status": "completed"
    },
    "tags": []
   },
   "outputs": [],
   "source": [
    "# !pip3 install torch torchvision torchaudio"
   ]
  },
  {
   "cell_type": "code",
   "execution_count": 2,
   "id": "fe6b9525",
   "metadata": {
    "execution": {
     "iopub.execute_input": "2024-02-27T04:29:16.094303Z",
     "iopub.status.busy": "2024-02-27T04:29:16.093994Z",
     "iopub.status.idle": "2024-02-27T04:29:18.436053Z",
     "shell.execute_reply": "2024-02-27T04:29:18.434887Z"
    },
    "papermill": {
     "duration": 2.353203,
     "end_time": "2024-02-27T04:29:18.439221",
     "exception": false,
     "start_time": "2024-02-27T04:29:16.086018",
     "status": "completed"
    },
    "tags": []
   },
   "outputs": [],
   "source": [
    "import numpy as np\n",
    "import matplotlib.pyplot as plt\n",
    "from sklearn import datasets, svm, metrics, model_selection\n",
    "from sklearn.linear_model import LogisticRegression\n",
    "from sklearn.model_selection import train_test_split\n",
    "from sklearn.preprocessing import StandardScaler\n",
    "from sklearn.metrics import confusion_matrix\n",
    "import pandas as pd\n",
    "import seaborn as sns\n",
    "import matplotlib.pyplot as plt\n",
    "from sklearn.metrics import accuracy_score"
   ]
  },
  {
   "cell_type": "code",
   "execution_count": 3,
   "id": "bea49858",
   "metadata": {
    "execution": {
     "iopub.execute_input": "2024-02-27T04:29:18.455281Z",
     "iopub.status.busy": "2024-02-27T04:29:18.454799Z",
     "iopub.status.idle": "2024-02-27T04:29:18.473959Z",
     "shell.execute_reply": "2024-02-27T04:29:18.473057Z"
    },
    "papermill": {
     "duration": 0.029853,
     "end_time": "2024-02-27T04:29:18.476280",
     "exception": false,
     "start_time": "2024-02-27T04:29:18.446427",
     "status": "completed"
    },
    "tags": []
   },
   "outputs": [],
   "source": [
    "# load handwritten digits\n",
    "digits = datasets.load_digits()"
   ]
  },
  {
   "cell_type": "code",
   "execution_count": 4,
   "id": "fe0f2ce5",
   "metadata": {
    "execution": {
     "iopub.execute_input": "2024-02-27T04:29:18.493242Z",
     "iopub.status.busy": "2024-02-27T04:29:18.492913Z",
     "iopub.status.idle": "2024-02-27T04:29:18.497030Z",
     "shell.execute_reply": "2024-02-27T04:29:18.496191Z"
    },
    "papermill": {
     "duration": 0.014284,
     "end_time": "2024-02-27T04:29:18.499124",
     "exception": false,
     "start_time": "2024-02-27T04:29:18.484840",
     "status": "completed"
    },
    "tags": []
   },
   "outputs": [],
   "source": [
    "# assign the labels to the target variable\n",
    "target = digits.target\n",
    "# the shape of digits.images is (n_samples, 8, 8)\n",
    "flatten_digits = digits.images.reshape((len(digits.images), -1))"
   ]
  },
  {
   "cell_type": "markdown",
   "id": "b05e9d7b",
   "metadata": {
    "papermill": {
     "duration": 0.006431,
     "end_time": "2024-02-27T04:29:18.512623",
     "exception": false,
     "start_time": "2024-02-27T04:29:18.506192",
     "status": "completed"
    },
    "tags": []
   },
   "source": [
    "## Visualize Some Handwritten Images in the Dataset\n"
   ]
  },
  {
   "cell_type": "code",
   "execution_count": 5,
   "id": "26a95e50",
   "metadata": {
    "execution": {
     "iopub.execute_input": "2024-02-27T04:29:18.528291Z",
     "iopub.status.busy": "2024-02-27T04:29:18.527749Z",
     "iopub.status.idle": "2024-02-27T04:29:18.831893Z",
     "shell.execute_reply": "2024-02-27T04:29:18.831082Z"
    },
    "papermill": {
     "duration": 0.314201,
     "end_time": "2024-02-27T04:29:18.833596",
     "exception": false,
     "start_time": "2024-02-27T04:29:18.519395",
     "status": "completed"
    },
    "tags": []
   },
   "outputs": [
    {
     "data": {
      "image/png": "[encoded data removed]",
      "text/plain": [
       "<Figure size 1000x400 with 5 Axes>"
      ]
     },
     "metadata": {},
     "output_type": "display_data"
    }
   ],
   "source": [
    "_, axes = plt.subplots(nrows=1, ncols=5, figsize=(10, 4))\n",
    "for ax, image, label in zip(axes, digits.images, target):\n",
    "    ax.set_axis_off()\n",
    "    ax.imshow(image, cmap=plt.cm.gray_r, interpolation='nearest')\n",
    "    ax.set_title('%i' % label)"
   ]
  },
  {
   "cell_type": "markdown",
   "id": "b48c7e24",
   "metadata": {
    "papermill": {
     "duration": 0.006433,
     "end_time": "2024-02-27T04:29:18.846916",
     "exception": false,
     "start_time": "2024-02-27T04:29:18.840483",
     "status": "completed"
    },
    "tags": []
   },
   "source": [
    "## Divide Images into Training and Test Set\n"
   ]
  },
  {
   "cell_type": "markdown",
   "id": "a2876cb5",
   "metadata": {
    "papermill": {
     "duration": 0.006477,
     "end_time": "2024-02-27T04:29:18.860203",
     "exception": false,
     "start_time": "2024-02-27T04:29:18.853726",
     "status": "completed"
    },
    "tags": []
   },
   "source": [
    "I have set the test size to 20% of the total dataset\n"
   ]
  },
  {
   "cell_type": "code",
   "execution_count": 6,
   "id": "d02befd2",
   "metadata": {
    "execution": {
     "iopub.execute_input": "2024-02-27T04:29:18.875504Z",
     "iopub.status.busy": "2024-02-27T04:29:18.874997Z",
     "iopub.status.idle": "2024-02-27T04:29:18.879664Z",
     "shell.execute_reply": "2024-02-27T04:29:18.878766Z"
    },
    "papermill": {
     "duration": 0.014363,
     "end_time": "2024-02-27T04:29:18.881427",
     "exception": false,
     "start_time": "2024-02-27T04:29:18.867064",
     "status": "completed"
    },
    "tags": []
   },
   "outputs": [],
   "source": [
    "X_train, X_test, y_train, y_test = train_test_split(flatten_digits, target, test_size=0.2)"
   ]
  },
  {
   "cell_type": "markdown",
   "id": "cf9603ab",
   "metadata": {
    "papermill": {
     "duration": 0.006716,
     "end_time": "2024-02-27T04:29:18.895178",
     "exception": false,
     "start_time": "2024-02-27T04:29:18.888462",
     "status": "completed"
    },
    "tags": []
   },
   "source": [
    "## Hand-written classification with Logistic Regression\n"
   ]
  },
  {
   "cell_type": "markdown",
   "id": "7c545a89",
   "metadata": {
    "papermill": {
     "duration": 0.006473,
     "end_time": "2024-02-27T04:29:18.908540",
     "exception": false,
     "start_time": "2024-02-27T04:29:18.902067",
     "status": "completed"
    },
    "tags": []
   },
   "source": [
    "Standardize the dataset to put all the features of the variables on the same scale\n"
   ]
  },
  {
   "cell_type": "code",
   "execution_count": 7,
   "id": "325253e9",
   "metadata": {
    "execution": {
     "iopub.execute_input": "2024-02-27T04:29:18.923659Z",
     "iopub.status.busy": "2024-02-27T04:29:18.923025Z",
     "iopub.status.idle": "2024-02-27T04:29:18.929333Z",
     "shell.execute_reply": "2024-02-27T04:29:18.928356Z"
    },
    "papermill": {
     "duration": 0.016413,
     "end_time": "2024-02-27T04:29:18.931663",
     "exception": false,
     "start_time": "2024-02-27T04:29:18.915250",
     "status": "completed"
    },
    "tags": []
   },
   "outputs": [],
   "source": [
    "scaler = StandardScaler()\n",
    "X_train_logistic = scaler.fit_transform(X_train)\n",
    "X_test_logistic = scaler.transform(X_test)"
   ]
  },
  {
   "cell_type": "markdown",
   "id": "da5b668b",
   "metadata": {
    "papermill": {
     "duration": 0.006922,
     "end_time": "2024-02-27T04:29:18.946267",
     "exception": false,
     "start_time": "2024-02-27T04:29:18.939345",
     "status": "completed"
    },
    "tags": []
   },
   "source": [
    "Create the logistic regression and fit the logistic regression and use the <code>l1</code> penalty. Note here that since this is a multiclass problem the Logistic Regression parameter `multi_class` is set to `multinomial`.\n"
   ]
  },
  {
   "cell_type": "code",
   "execution_count": 8,
   "id": "7a391ba2",
   "metadata": {
    "execution": {
     "iopub.execute_input": "2024-02-27T04:29:18.962442Z",
     "iopub.status.busy": "2024-02-27T04:29:18.962086Z",
     "iopub.status.idle": "2024-02-27T04:29:18.966811Z",
     "shell.execute_reply": "2024-02-27T04:29:18.965511Z"
    },
    "papermill": {
     "duration": 0.015316,
     "end_time": "2024-02-27T04:29:18.968936",
     "exception": false,
     "start_time": "2024-02-27T04:29:18.953620",
     "status": "completed"
    },
    "tags": []
   },
   "outputs": [],
   "source": [
    "logit = LogisticRegression(C=0.01, penalty='l1', solver='saga', tol=0.1, multi_class='multinomial')"
   ]
  },
  {
   "cell_type": "code",
   "execution_count": 9,
   "id": "cc0124d9",
   "metadata": {
    "execution": {
     "iopub.execute_input": "2024-02-27T04:29:18.984855Z",
     "iopub.status.busy": "2024-02-27T04:29:18.984515Z",
     "iopub.status.idle": "2024-02-27T04:29:19.033178Z",
     "shell.execute_reply": "2024-02-27T04:29:19.032354Z"
    },
    "papermill": {
     "duration": 0.059091,
     "end_time": "2024-02-27T04:29:19.035419",
     "exception": false,
     "start_time": "2024-02-27T04:29:18.976328",
     "status": "completed"
    },
    "tags": []
   },
   "outputs": [
    {
     "data": {
      "text/html": [
       "<style>#sk-container-id-1 {color: black;background-color: white;}#sk-container-id-1 pre{padding: 0;}#sk-container-id-1 div.sk-toggleable {background-color: white;}#sk-container-id-1 label.sk-toggleable__label {cursor: pointer;display: block;width: 100%;margin-bottom: 0;padding: 0.3em;box-sizing: border-box;text-align: center;}#sk-container-id-1 label.sk-toggleable__label-arrow:before {content: \"▸\";float: left;margin-right: 0.25em;color: #696969;}#sk-container-id-1 label.sk-toggleable__label-arrow:hover:before {color: black;}#sk-container-id-1 div.sk-estimator:hover label.sk-toggleable__label-arrow:before {color: black;}#sk-container-id-1 div.sk-toggleable__content {max-height: 0;max-width: 0;overflow: hidden;text-align: left;background-color: #f0f8ff;}#sk-container-id-1 div.sk-toggleable__content pre {margin: 0.2em;color: black;border-radius: 0.25em;background-color: #f0f8ff;}#sk-container-id-1 input.sk-toggleable__control:checked~div.sk-toggleable__content {max-height: 200px;max-width: 100%;overflow: auto;}#sk-container-id-1 input.sk-toggleable__control:checked~label.sk-toggleable__label-arrow:before {content: \"▾\";}#sk-container-id-1 div.sk-estimator input.sk-toggleable__control:checked~label.sk-toggleable__label {background-color: #d4ebff;}#sk-container-id-1 div.sk-label input.sk-toggleable__control:checked~label.sk-toggleable__label {background-color: #d4ebff;}#sk-container-id-1 input.sk-hidden--visually {border: 0;clip: rect(1px 1px 1px 1px);clip: rect(1px, 1px, 1px, 1px);height: 1px;margin: -1px;overflow: hidden;padding: 0;position: absolute;width: 1px;}#sk-container-id-1 div.sk-estimator {font-family: monospace;background-color: #f0f8ff;border: 1px dotted black;border-radius: 0.25em;box-sizing: border-box;margin-bottom: 0.5em;}#sk-container-id-1 div.sk-estimator:hover {background-color: #d4ebff;}#sk-container-id-1 div.sk-parallel-item::after {content: \"\";width: 100%;border-bottom: 1px solid gray;flex-grow: 1;}#sk-container-id-1 div.sk-label:hover label.sk-toggleable__label {background-color: #d4ebff;}#sk-container-id-1 div.sk-serial::before {content: \"\";position: absolute;border-left: 1px solid gray;box-sizing: border-box;top: 0;bottom: 0;left: 50%;z-index: 0;}#sk-container-id-1 div.sk-serial {display: flex;flex-direction: column;align-items: center;background-color: white;padding-right: 0.2em;padding-left: 0.2em;position: relative;}#sk-container-id-1 div.sk-item {position: relative;z-index: 1;}#sk-container-id-1 div.sk-parallel {display: flex;align-items: stretch;justify-content: center;background-color: white;position: relative;}#sk-container-id-1 div.sk-item::before, #sk-container-id-1 div.sk-parallel-item::before {content: \"\";position: absolute;border-left: 1px solid gray;box-sizing: border-box;top: 0;bottom: 0;left: 50%;z-index: -1;}#sk-container-id-1 div.sk-parallel-item {display: flex;flex-direction: column;z-index: 1;position: relative;background-color: white;}#sk-container-id-1 div.sk-parallel-item:first-child::after {align-self: flex-end;width: 50%;}#sk-container-id-1 div.sk-parallel-item:last-child::after {align-self: flex-start;width: 50%;}#sk-container-id-1 div.sk-parallel-item:only-child::after {width: 0;}#sk-container-id-1 div.sk-dashed-wrapped {border: 1px dashed gray;margin: 0 0.4em 0.5em 0.4em;box-sizing: border-box;padding-bottom: 0.4em;background-color: white;}#sk-container-id-1 div.sk-label label {font-family: monospace;font-weight: bold;display: inline-block;line-height: 1.2em;}#sk-container-id-1 div.sk-label-container {text-align: center;}#sk-container-id-1 div.sk-container {/* jupyter's `normalize.less` sets `[hidden] { display: none; }` but bootstrap.min.css set `[hidden] { display: none !important; }` so we also need the `!important` here to be able to override the default hidden behavior on the sphinx rendered scikit-learn.org. See: https://github.com/scikit-learn/scikit-learn/issues/21755 */display: inline-block !important;position: relative;}#sk-container-id-1 div.sk-text-repr-fallback {display: none;}</style><div id=\"sk-container-id-1\" class=\"sk-top-container\"><div class=\"sk-text-repr-fallback\"><pre>LogisticRegression(C=0.01, multi_class=&#x27;multinomial&#x27;, penalty=&#x27;l1&#x27;,\n",
       "                   solver=&#x27;saga&#x27;, tol=0.1)</pre><b>In a Jupyter environment, please rerun this cell to show the HTML representation or trust the notebook. <br />On GitHub, the HTML representation is unable to render, please try loading this page with nbviewer.org.</b></div><div class=\"sk-container\" hidden><div class=\"sk-item\"><div class=\"sk-estimator sk-toggleable\"><input class=\"sk-toggleable__control sk-hidden--visually\" id=\"sk-estimator-id-1\" type=\"checkbox\" checked><label for=\"sk-estimator-id-1\" class=\"sk-toggleable__label sk-toggleable__label-arrow\">LogisticRegression</label><div class=\"sk-toggleable__content\"><pre>LogisticRegression(C=0.01, multi_class=&#x27;multinomial&#x27;, penalty=&#x27;l1&#x27;,\n",
       "                   solver=&#x27;saga&#x27;, tol=0.1)</pre></div></div></div></div></div>"
      ],
      "text/plain": [
       "LogisticRegression(C=0.01, multi_class='multinomial', penalty='l1',\n",
       "                   solver='saga', tol=0.1)"
      ]
     },
     "execution_count": 9,
     "metadata": {},
     "output_type": "execute_result"
    }
   ],
   "source": [
    "logit.fit(X_train_logistic, y_train)"
   ]
  },
  {
   "cell_type": "code",
   "execution_count": 10,
   "id": "24709c02",
   "metadata": {
    "execution": {
     "iopub.execute_input": "2024-02-27T04:29:19.051478Z",
     "iopub.status.busy": "2024-02-27T04:29:19.051119Z",
     "iopub.status.idle": "2024-02-27T04:29:19.055760Z",
     "shell.execute_reply": "2024-02-27T04:29:19.054898Z"
    },
    "papermill": {
     "duration": 0.01462,
     "end_time": "2024-02-27T04:29:19.057525",
     "exception": false,
     "start_time": "2024-02-27T04:29:19.042905",
     "status": "completed"
    },
    "tags": []
   },
   "outputs": [],
   "source": [
    "y_pred_logistic = logit.predict(X_test_logistic)"
   ]
  },
  {
   "cell_type": "markdown",
   "id": "cf087cc6",
   "metadata": {
    "papermill": {
     "duration": 0.006919,
     "end_time": "2024-02-27T04:29:19.071679",
     "exception": false,
     "start_time": "2024-02-27T04:29:19.064760",
     "status": "completed"
    },
    "tags": []
   },
   "source": [
    "Get the accuracy of the logistic regression\n"
   ]
  },
  {
   "cell_type": "code",
   "execution_count": 11,
   "id": "6e3907ae",
   "metadata": {
    "execution": {
     "iopub.execute_input": "2024-02-27T04:29:19.087083Z",
     "iopub.status.busy": "2024-02-27T04:29:19.086787Z",
     "iopub.status.idle": "2024-02-27T04:29:19.093834Z",
     "shell.execute_reply": "2024-02-27T04:29:19.092085Z"
    },
    "papermill": {
     "duration": 0.017584,
     "end_time": "2024-02-27T04:29:19.096329",
     "exception": false,
     "start_time": "2024-02-27T04:29:19.078745",
     "status": "completed"
    },
    "tags": []
   },
   "outputs": [
    {
     "name": "stdout",
     "output_type": "stream",
     "text": [
      "Accuracy: 0.8083333333333333\n"
     ]
    }
   ],
   "source": [
    "print(\"Accuracy: \"+str(logit.score(X_test_logistic, y_test)))"
   ]
  },
  {
   "cell_type": "markdown",
   "id": "163b20a7",
   "metadata": {
    "papermill": {
     "duration": 0.007366,
     "end_time": "2024-02-27T04:29:19.111756",
     "exception": false,
     "start_time": "2024-02-27T04:29:19.104390",
     "status": "completed"
    },
    "tags": []
   },
   "source": [
    "Lets plot out the confusion matrix, each row of the matrix represents the instances in a predicted class, while each column represents the instances in an actual class.\n"
   ]
  },
  {
   "cell_type": "code",
   "execution_count": 12,
   "id": "b9e9d443",
   "metadata": {
    "execution": {
     "iopub.execute_input": "2024-02-27T04:29:19.129090Z",
     "iopub.status.busy": "2024-02-27T04:29:19.128298Z",
     "iopub.status.idle": "2024-02-27T04:29:19.133365Z",
     "shell.execute_reply": "2024-02-27T04:29:19.132574Z"
    },
    "papermill": {
     "duration": 0.015827,
     "end_time": "2024-02-27T04:29:19.135374",
     "exception": false,
     "start_time": "2024-02-27T04:29:19.119547",
     "status": "completed"
    },
    "tags": []
   },
   "outputs": [],
   "source": [
    "label_names = [0, 1, 2, 3, 4, 5, 6, 7, 8, 9]\n",
    "cmx = confusion_matrix(y_test, y_pred_logistic, labels=label_names)"
   ]
  },
  {
   "cell_type": "markdown",
   "id": "1e7913bc",
   "metadata": {
    "papermill": {
     "duration": 0.007183,
     "end_time": "2024-02-27T04:29:19.150518",
     "exception": false,
     "start_time": "2024-02-27T04:29:19.143335",
     "status": "completed"
    },
    "tags": []
   },
   "source": [
    "Accuracy is fine and above 80% but we can see some heavily misclassified values, The classifier had a hard time classifying <code>8</code>\n"
   ]
  },
  {
   "cell_type": "code",
   "execution_count": 13,
   "id": "d3cfda8e",
   "metadata": {
    "execution": {
     "iopub.execute_input": "2024-02-27T04:29:19.167052Z",
     "iopub.status.busy": "2024-02-27T04:29:19.166723Z",
     "iopub.status.idle": "2024-02-27T04:29:19.648050Z",
     "shell.execute_reply": "2024-02-27T04:29:19.647032Z"
    },
    "papermill": {
     "duration": 0.492074,
     "end_time": "2024-02-27T04:29:19.650283",
     "exception": false,
     "start_time": "2024-02-27T04:29:19.158209",
     "status": "completed"
    },
    "tags": []
   },
   "outputs": [
    {
     "data": {
      "image/png": "[encoded data removed]",
      "text/plain": [
       "<Figure size 640x480 with 2 Axes>"
      ]
     },
     "metadata": {},
     "output_type": "display_data"
    }
   ],
   "source": [
    "df_cm = pd.DataFrame(cmx)\n",
    "# plt.figure(figsize=(10,7))\n",
    "sns.set(font_scale=1.4) # for label size\n",
    "sns.heatmap(df_cm, annot=True, annot_kws={\"size\": 16}) # font size\n",
    "title = \"Confusion Matrix for SVM results\"\n",
    "plt.title(title)\n",
    "plt.show()"
   ]
  },
  {
   "cell_type": "markdown",
   "id": "ad774a61",
   "metadata": {
    "papermill": {
     "duration": 0.007622,
     "end_time": "2024-02-27T04:29:19.666450",
     "exception": false,
     "start_time": "2024-02-27T04:29:19.658828",
     "status": "completed"
    },
    "tags": []
   },
   "source": [
    "## Hand-Written Classification with SVM\n"
   ]
  },
  {
   "cell_type": "markdown",
   "id": "5715a5ca",
   "metadata": {
    "papermill": {
     "duration": 0.007535,
     "end_time": "2024-02-27T04:29:19.682051",
     "exception": false,
     "start_time": "2024-02-27T04:29:19.674516",
     "status": "completed"
    },
    "tags": []
   },
   "source": [
    "Create and fit the SVM model\n"
   ]
  },
  {
   "cell_type": "code",
   "execution_count": 14,
   "id": "401f4159",
   "metadata": {
    "execution": {
     "iopub.execute_input": "2024-02-27T04:29:19.700055Z",
     "iopub.status.busy": "2024-02-27T04:29:19.699747Z",
     "iopub.status.idle": "2024-02-27T04:29:19.703756Z",
     "shell.execute_reply": "2024-02-27T04:29:19.702747Z"
    },
    "papermill": {
     "duration": 0.01548,
     "end_time": "2024-02-27T04:29:19.705717",
     "exception": false,
     "start_time": "2024-02-27T04:29:19.690237",
     "status": "completed"
    },
    "tags": []
   },
   "outputs": [],
   "source": [
    "svm_classifier = svm.SVC(gamma='scale')"
   ]
  },
  {
   "cell_type": "code",
   "execution_count": 15,
   "id": "00c03916",
   "metadata": {
    "execution": {
     "iopub.execute_input": "2024-02-27T04:29:19.723270Z",
     "iopub.status.busy": "2024-02-27T04:29:19.722940Z",
     "iopub.status.idle": "2024-02-27T04:29:19.762461Z",
     "shell.execute_reply": "2024-02-27T04:29:19.761354Z"
    },
    "papermill": {
     "duration": 0.050439,
     "end_time": "2024-02-27T04:29:19.764394",
     "exception": false,
     "start_time": "2024-02-27T04:29:19.713955",
     "status": "completed"
    },
    "tags": []
   },
   "outputs": [
    {
     "data": {
      "text/html": [
       "<style>#sk-container-id-2 {color: black;background-color: white;}#sk-container-id-2 pre{padding: 0;}#sk-container-id-2 div.sk-toggleable {background-color: white;}#sk-container-id-2 label.sk-toggleable__label {cursor: pointer;display: block;width: 100%;margin-bottom: 0;padding: 0.3em;box-sizing: border-box;text-align: center;}#sk-container-id-2 label.sk-toggleable__label-arrow:before {content: \"▸\";float: left;margin-right: 0.25em;color: #696969;}#sk-container-id-2 label.sk-toggleable__label-arrow:hover:before {color: black;}#sk-container-id-2 div.sk-estimator:hover label.sk-toggleable__label-arrow:before {color: black;}#sk-container-id-2 div.sk-toggleable__content {max-height: 0;max-width: 0;overflow: hidden;text-align: left;background-color: #f0f8ff;}#sk-container-id-2 div.sk-toggleable__content pre {margin: 0.2em;color: black;border-radius: 0.25em;background-color: #f0f8ff;}#sk-container-id-2 input.sk-toggleable__control:checked~div.sk-toggleable__content {max-height: 200px;max-width: 100%;overflow: auto;}#sk-container-id-2 input.sk-toggleable__control:checked~label.sk-toggleable__label-arrow:before {content: \"▾\";}#sk-container-id-2 div.sk-estimator input.sk-toggleable__control:checked~label.sk-toggleable__label {background-color: #d4ebff;}#sk-container-id-2 div.sk-label input.sk-toggleable__control:checked~label.sk-toggleable__label {background-color: #d4ebff;}#sk-container-id-2 input.sk-hidden--visually {border: 0;clip: rect(1px 1px 1px 1px);clip: rect(1px, 1px, 1px, 1px);height: 1px;margin: -1px;overflow: hidden;padding: 0;position: absolute;width: 1px;}#sk-container-id-2 div.sk-estimator {font-family: monospace;background-color: #f0f8ff;border: 1px dotted black;border-radius: 0.25em;box-sizing: border-box;margin-bottom: 0.5em;}#sk-container-id-2 div.sk-estimator:hover {background-color: #d4ebff;}#sk-container-id-2 div.sk-parallel-item::after {content: \"\";width: 100%;border-bottom: 1px solid gray;flex-grow: 1;}#sk-container-id-2 div.sk-label:hover label.sk-toggleable__label {background-color: #d4ebff;}#sk-container-id-2 div.sk-serial::before {content: \"\";position: absolute;border-left: 1px solid gray;box-sizing: border-box;top: 0;bottom: 0;left: 50%;z-index: 0;}#sk-container-id-2 div.sk-serial {display: flex;flex-direction: column;align-items: center;background-color: white;padding-right: 0.2em;padding-left: 0.2em;position: relative;}#sk-container-id-2 div.sk-item {position: relative;z-index: 1;}#sk-container-id-2 div.sk-parallel {display: flex;align-items: stretch;justify-content: center;background-color: white;position: relative;}#sk-container-id-2 div.sk-item::before, #sk-container-id-2 div.sk-parallel-item::before {content: \"\";position: absolute;border-left: 1px solid gray;box-sizing: border-box;top: 0;bottom: 0;left: 50%;z-index: -1;}#sk-container-id-2 div.sk-parallel-item {display: flex;flex-direction: column;z-index: 1;position: relative;background-color: white;}#sk-container-id-2 div.sk-parallel-item:first-child::after {align-self: flex-end;width: 50%;}#sk-container-id-2 div.sk-parallel-item:last-child::after {align-self: flex-start;width: 50%;}#sk-container-id-2 div.sk-parallel-item:only-child::after {width: 0;}#sk-container-id-2 div.sk-dashed-wrapped {border: 1px dashed gray;margin: 0 0.4em 0.5em 0.4em;box-sizing: border-box;padding-bottom: 0.4em;background-color: white;}#sk-container-id-2 div.sk-label label {font-family: monospace;font-weight: bold;display: inline-block;line-height: 1.2em;}#sk-container-id-2 div.sk-label-container {text-align: center;}#sk-container-id-2 div.sk-container {/* jupyter's `normalize.less` sets `[hidden] { display: none; }` but bootstrap.min.css set `[hidden] { display: none !important; }` so we also need the `!important` here to be able to override the default hidden behavior on the sphinx rendered scikit-learn.org. See: https://github.com/scikit-learn/scikit-learn/issues/21755 */display: inline-block !important;position: relative;}#sk-container-id-2 div.sk-text-repr-fallback {display: none;}</style><div id=\"sk-container-id-2\" class=\"sk-top-container\"><div class=\"sk-text-repr-fallback\"><pre>SVC()</pre><b>In a Jupyter environment, please rerun this cell to show the HTML representation or trust the notebook. <br />On GitHub, the HTML representation is unable to render, please try loading this page with nbviewer.org.</b></div><div class=\"sk-container\" hidden><div class=\"sk-item\"><div class=\"sk-estimator sk-toggleable\"><input class=\"sk-toggleable__control sk-hidden--visually\" id=\"sk-estimator-id-2\" type=\"checkbox\" checked><label for=\"sk-estimator-id-2\" class=\"sk-toggleable__label sk-toggleable__label-arrow\">SVC</label><div class=\"sk-toggleable__content\"><pre>SVC()</pre></div></div></div></div></div>"
      ],
      "text/plain": [
       "SVC()"
      ]
     },
     "execution_count": 15,
     "metadata": {},
     "output_type": "execute_result"
    }
   ],
   "source": [
    "svm_classifier.fit(X_train, y_train)"
   ]
  },
  {
   "cell_type": "markdown",
   "id": "0be4a233",
   "metadata": {
    "papermill": {
     "duration": 0.007492,
     "end_time": "2024-02-27T04:29:19.780023",
     "exception": false,
     "start_time": "2024-02-27T04:29:19.772531",
     "status": "completed"
    },
    "tags": []
   },
   "source": [
    "Predict for our test set\n"
   ]
  },
  {
   "cell_type": "code",
   "execution_count": 16,
   "id": "54876f35",
   "metadata": {
    "execution": {
     "iopub.execute_input": "2024-02-27T04:29:19.796967Z",
     "iopub.status.busy": "2024-02-27T04:29:19.796635Z",
     "iopub.status.idle": "2024-02-27T04:29:19.816186Z",
     "shell.execute_reply": "2024-02-27T04:29:19.815204Z"
    },
    "papermill": {
     "duration": 0.030781,
     "end_time": "2024-02-27T04:29:19.818565",
     "exception": false,
     "start_time": "2024-02-27T04:29:19.787784",
     "status": "completed"
    },
    "tags": []
   },
   "outputs": [],
   "source": [
    "y_pred_svm = svm_classifier.predict(X_test)"
   ]
  },
  {
   "cell_type": "markdown",
   "id": "c746391f",
   "metadata": {
    "papermill": {
     "duration": 0.007705,
     "end_time": "2024-02-27T04:29:19.834744",
     "exception": false,
     "start_time": "2024-02-27T04:29:19.827039",
     "status": "completed"
    },
    "tags": []
   },
   "source": [
    "Get accuracy for the SVM model, we can see we have a nearly perfect model\n"
   ]
  },
  {
   "cell_type": "code",
   "execution_count": 17,
   "id": "5cc7d35b",
   "metadata": {
    "execution": {
     "iopub.execute_input": "2024-02-27T04:29:19.853073Z",
     "iopub.status.busy": "2024-02-27T04:29:19.852750Z",
     "iopub.status.idle": "2024-02-27T04:29:19.858949Z",
     "shell.execute_reply": "2024-02-27T04:29:19.857955Z"
    },
    "papermill": {
     "duration": 0.017564,
     "end_time": "2024-02-27T04:29:19.860968",
     "exception": false,
     "start_time": "2024-02-27T04:29:19.843404",
     "status": "completed"
    },
    "tags": []
   },
   "outputs": [
    {
     "name": "stdout",
     "output_type": "stream",
     "text": [
      "Accuracy: 0.9888888888888889\n"
     ]
    }
   ],
   "source": [
    "print(\"Accuracy: \"+str(accuracy_score(y_test, y_pred_svm)))"
   ]
  },
  {
   "cell_type": "markdown",
   "id": "c7849515",
   "metadata": {
    "papermill": {
     "duration": 0.007839,
     "end_time": "2024-02-27T04:29:19.877330",
     "exception": false,
     "start_time": "2024-02-27T04:29:19.869491",
     "status": "completed"
    },
    "tags": []
   },
   "source": [
    "Let's take a look at the confusion matrix for SVM, we can see a nearly perfect model with SVM\n"
   ]
  },
  {
   "cell_type": "code",
   "execution_count": 18,
   "id": "669ee7bc",
   "metadata": {
    "execution": {
     "iopub.execute_input": "2024-02-27T04:29:19.895239Z",
     "iopub.status.busy": "2024-02-27T04:29:19.894904Z",
     "iopub.status.idle": "2024-02-27T04:29:19.900072Z",
     "shell.execute_reply": "2024-02-27T04:29:19.899413Z"
    },
    "papermill": {
     "duration": 0.016013,
     "end_time": "2024-02-27T04:29:19.901809",
     "exception": false,
     "start_time": "2024-02-27T04:29:19.885796",
     "status": "completed"
    },
    "tags": []
   },
   "outputs": [],
   "source": [
    "label_names = [0, 1, 2, 3, 4, 5, 6, 7, 8, 9]\n",
    "cmx = confusion_matrix(y_test, y_pred_svm, labels=label_names)"
   ]
  },
  {
   "cell_type": "code",
   "execution_count": 19,
   "id": "97aa80a6",
   "metadata": {
    "execution": {
     "iopub.execute_input": "2024-02-27T04:29:19.919561Z",
     "iopub.status.busy": "2024-02-27T04:29:19.919250Z",
     "iopub.status.idle": "2024-02-27T04:29:20.373508Z",
     "shell.execute_reply": "2024-02-27T04:29:20.372713Z"
    },
    "papermill": {
     "duration": 0.464951,
     "end_time": "2024-02-27T04:29:20.375134",
     "exception": false,
     "start_time": "2024-02-27T04:29:19.910183",
     "status": "completed"
    },
    "tags": []
   },
   "outputs": [
    {
     "data": {
      "image/png": "[encoded data removed]",
      "text/plain": [
       "<Figure size 640x480 with 2 Axes>"
      ]
     },
     "metadata": {},
     "output_type": "display_data"
    }
   ],
   "source": [
    "df_cm = pd.DataFrame(cmx)\n",
    "# plt.figure(figsize=(10,7))\n",
    "sns.set(font_scale=1.4) # for label size\n",
    "sns.heatmap(df_cm, annot=True, annot_kws={\"size\": 16}) # font size\n",
    "title = \"Confusion Matrix for SVM results\"\n",
    "plt.title(title)\n",
    "plt.show()"
   ]
  },
  {
   "cell_type": "markdown",
   "id": "6640c77d",
   "metadata": {
    "papermill": {
     "duration": 0.008611,
     "end_time": "2024-02-27T04:29:20.392511",
     "exception": false,
     "start_time": "2024-02-27T04:29:20.383900",
     "status": "completed"
    },
    "tags": []
   },
   "source": [
    "## Comparing both SVM and Logistic Regression with K-Fold Cross Validation\n",
    "\n",
    "k-fold Cross validation is used when there are limited samples, the handwritten dataset contains about 1800 samples, this will give an opportunity for all the data to be in the training and test set at different given times. We will add <code>l2</code> regularization to visualize how well they both do against SVM.\n"
   ]
  },
  {
   "cell_type": "code",
   "execution_count": 20,
   "id": "6975aa63",
   "metadata": {
    "execution": {
     "iopub.execute_input": "2024-02-27T04:29:20.410918Z",
     "iopub.status.busy": "2024-02-27T04:29:20.410475Z",
     "iopub.status.idle": "2024-02-27T04:29:21.576889Z",
     "shell.execute_reply": "2024-02-27T04:29:21.575917Z"
    },
    "papermill": {
     "duration": 1.178378,
     "end_time": "2024-02-27T04:29:21.579075",
     "exception": false,
     "start_time": "2024-02-27T04:29:20.400697",
     "status": "completed"
    },
    "tags": []
   },
   "outputs": [],
   "source": [
    "from sklearn.model_selection import KFold\n",
    "\n",
    "algorithm = []\n",
    "algorithm.append(('SVM', svm_classifier))\n",
    "algorithm.append(('Logistic_L1', logit))\n",
    "algorithm.append(('Logistic_L2', LogisticRegression(C=0.01, penalty='l2', solver='saga', tol=0.1, multi_class='multinomial')))\n",
    "\n",
    "results = []\n",
    "names = []\n",
    "y = digits.target\n",
    "for name, algo in algorithm:\n",
    "    # Either remove the random_state parameter or set shuffle=True\n",
    "    k_fold = KFold(n_splits=10, shuffle=True, random_state=10)  # Assuming you want to shuffle\n",
    "    if name == 'SVM':\n",
    "        X = flatten_digits\n",
    "    else:\n",
    "        scaler = StandardScaler()\n",
    "        X = scaler.fit_transform(flatten_digits)\n",
    "\n",
    "    cv_results = model_selection.cross_val_score(algo, X, y, cv=k_fold, scoring='accuracy')\n",
    "    results.append(cv_results)\n",
    "    names.append(name)"
   ]
  },
  {
   "cell_type": "markdown",
   "id": "6a0c76d4",
   "metadata": {
    "papermill": {
     "duration": 0.011279,
     "end_time": "2024-02-27T04:29:21.599052",
     "exception": false,
     "start_time": "2024-02-27T04:29:21.587773",
     "status": "completed"
    },
    "tags": []
   },
   "source": [
    "We plot and we can see that SVM performs better all the time even with k-fold cross validation and it is better than both Logistic regressions on average\n"
   ]
  },
  {
   "cell_type": "code",
   "execution_count": 21,
   "id": "3677d2a4",
   "metadata": {
    "execution": {
     "iopub.execute_input": "2024-02-27T04:29:21.617625Z",
     "iopub.status.busy": "2024-02-27T04:29:21.617254Z",
     "iopub.status.idle": "2024-02-27T04:29:21.774515Z",
     "shell.execute_reply": "2024-02-27T04:29:21.773482Z"
    },
    "papermill": {
     "duration": 0.168865,
     "end_time": "2024-02-27T04:29:21.776378",
     "exception": false,
     "start_time": "2024-02-27T04:29:21.607513",
     "status": "completed"
    },
    "tags": []
   },
   "outputs": [
    {
     "data": {
      "image/png": "[encoded data removed]",
      "text/plain": [
       "<Figure size 640x480 with 1 Axes>"
      ]
     },
     "metadata": {},
     "output_type": "display_data"
    }
   ],
   "source": [
    "fig = plt.figure()\n",
    "fig.suptitle('Compare Logistic and SVM results')\n",
    "ax = fig.add_subplot()\n",
    "plt.boxplot(results)\n",
    "plt.ylabel('Accuracy')\n",
    "ax.set_xticklabels(names)\n",
    "plt.show()"
   ]
  }
 ],
 "metadata": {
  "kaggle": {
   "accelerator": "none",
   "dataSources": [],
   "dockerImageVersionId": 30646,
   "isGpuEnabled": false,
   "isInternetEnabled": true,
   "language": "python",
   "sourceType": "notebook"
  },
  "kernelspec": {
   "display_name": "Python 3",
   "language": "python",
   "name": "python3"
  },
  "language_info": {
   "codemirror_mode": {
    "name": "ipython",
    "version": 3
   },
   "file_extension": ".py",
   "mimetype": "text/x-python",
   "name": "python",
   "nbconvert_exporter": "python",
   "pygments_lexer": "ipython3",
   "version": "3.10.13"
  },
  "papermill": {
   "default_parameters": {},
   "duration": 8.670807,
   "end_time": "2024-02-27T04:29:22.405361",
   "environment_variables": {},
   "exception": null,
   "input_path": "__notebook__.ipynb",
   "output_path": "__notebook__.ipynb",
   "parameters": {},
   "start_time": "2024-02-27T04:29:13.734554",
   "version": "2.5.0"
  }
 },
 "nbformat": 4,
 "nbformat_minor": 5
}
