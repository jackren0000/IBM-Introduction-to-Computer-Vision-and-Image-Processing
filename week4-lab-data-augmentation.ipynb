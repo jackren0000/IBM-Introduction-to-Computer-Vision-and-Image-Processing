{
 "cells": [
  {
   "cell_type": "markdown",
   "id": "66e706d2",
   "metadata": {
    "papermill": {
     "duration": 0.016553,
     "end_time": "2024-03-01T08:10:37.101834",
     "exception": false,
     "start_time": "2024-03-01T08:10:37.085281",
     "status": "completed"
    },
    "tags": []
   },
   "source": [
    "<a href=\"http://cocl.us/pytorch_link_top\">\n",
    "    <img src=\"https://s3-api.us-geo.objectstorage.softlayer.net/cf-courses-data/CognitiveClass/DL0110EN/notebook_images%20/Pytochtop.png\" width=\"750\" alt=\"IBM Product \">\n",
    "</a> \n"
   ]
  },
  {
   "cell_type": "markdown",
   "id": "ff19ac8a",
   "metadata": {
    "papermill": {
     "duration": 0.014699,
     "end_time": "2024-03-01T08:10:37.131814",
     "exception": false,
     "start_time": "2024-03-01T08:10:37.117115",
     "status": "completed"
    },
    "tags": []
   },
   "source": [
    "<p style=\"text-align:center\">\n",
    "    <a href=\"https://skills.network/?utm_medium=Exinfluencer&utm_source=Exinfluencer&utm_content=000026UJ&utm_term=10006555&utm_id=NA-SkillsNetwork-Channel-SkillsNetworkCoursesIBMDeveloperSkillsNetworkCV0101ENCoursera872-2023-01-01\">\n",
    "    <img src=\"https://cf-courses-data.s3.us.cloud-object-storage.appdomain.cloud/assets/logos/SN_web_lightmode.png\" width=\"200\" alt=\"Skills Network Logo\"  />\n",
    "    </a>\n",
    "</p>\n"
   ]
  },
  {
   "cell_type": "markdown",
   "id": "71b1ec0b",
   "metadata": {
    "papermill": {
     "duration": 0.015359,
     "end_time": "2024-03-01T08:10:37.162168",
     "exception": false,
     "start_time": "2024-03-01T08:10:37.146809",
     "status": "completed"
    },
    "tags": []
   },
   "source": [
    "<h1>Data Augmentation </h1> \n"
   ]
  },
  {
   "cell_type": "markdown",
   "id": "c6737105",
   "metadata": {
    "papermill": {
     "duration": 0.015674,
     "end_time": "2024-03-01T08:10:37.193135",
     "exception": false,
     "start_time": "2024-03-01T08:10:37.177461",
     "status": "completed"
    },
    "tags": []
   },
   "source": [
    "<h2>Table of Contents</h2>\n",
    "\n",
    "In this lab, we train a Convolutional Neural Network with Regular data and Augmented data. The purpose of this lab is to show that the Augmented data improves generalization performance.\n",
    "\n",
    "Think of a scenario where a drone has to take a picture of an object. The drone is moving and the object can also possibly be moving. When an image is taken we arent always going to get perfect images. The subject may not be perfectly centered in the image or the subject may be rotated in the image. In this case, a model trained on perfectly centered or rotated images won't perform well. This is why we train a model on rotated data so it can perform well on imperfect images.\n",
    "\n",
    "In this assignment, we will use a dataset of digit images. We will have two models one trained on non rotated digits and one trained on rotated images and then we will test the models on a rotated testing dataset which will be more realistic and robust in terms of our scenario above.\n",
    "\n",
    "<ul>\n",
    "<li><a href=\"#Makeup_Data\">Get Some Data</a></li>\n",
    "<li><a href=\"#CNN\">Convolutional Neural Network</a></li>\n",
    "<li><a href=\"#R_training_data\">Rotated Training Data</a></li>\n",
    "\n",
    "</ul>\n",
    "<p>Estimated Time Needed: <strong>25 min</strong> 14 min to train model </p>\n",
    "\n",
    "<hr>\n"
   ]
  },
  {
   "cell_type": "markdown",
   "id": "31c59f29",
   "metadata": {
    "papermill": {
     "duration": 0.014762,
     "end_time": "2024-03-01T08:10:37.222890",
     "exception": false,
     "start_time": "2024-03-01T08:10:37.208128",
     "status": "completed"
    },
    "tags": []
   },
   "source": [
    "<h2>Preparation</h2>\n"
   ]
  },
  {
   "cell_type": "code",
   "execution_count": 1,
   "id": "2e68ae50",
   "metadata": {
    "execution": {
     "iopub.execute_input": "2024-03-01T08:10:37.255881Z",
     "iopub.status.busy": "2024-03-01T08:10:37.254884Z",
     "iopub.status.idle": "2024-03-01T08:10:37.259937Z",
     "shell.execute_reply": "2024-03-01T08:10:37.259081Z"
    },
    "papermill": {
     "duration": 0.024192,
     "end_time": "2024-03-01T08:10:37.262109",
     "exception": false,
     "start_time": "2024-03-01T08:10:37.237917",
     "status": "completed"
    },
    "tags": []
   },
   "outputs": [],
   "source": [
    "# !pip3 install torch torchvision torchaudio"
   ]
  },
  {
   "cell_type": "code",
   "execution_count": 2,
   "id": "05d5a025",
   "metadata": {
    "execution": {
     "iopub.execute_input": "2024-03-01T08:10:37.294674Z",
     "iopub.status.busy": "2024-03-01T08:10:37.293887Z",
     "iopub.status.idle": "2024-03-01T08:10:39.052627Z",
     "shell.execute_reply": "2024-03-01T08:10:39.051439Z"
    },
    "papermill": {
     "duration": 1.778201,
     "end_time": "2024-03-01T08:10:39.055474",
     "exception": false,
     "start_time": "2024-03-01T08:10:37.277273",
     "status": "completed"
    },
    "tags": []
   },
   "outputs": [
    {
     "name": "stdout",
     "output_type": "stream",
     "text": [
      "--2024-03-01 08:10:38--  https://s3-api.us-geo.objectstorage.softlayer.net/cf-courses-data/CognitiveClass/meet_up/12.02.2020/normal.pt\r\n",
      "Resolving s3-api.us-geo.objectstorage.softlayer.net (s3-api.us-geo.objectstorage.softlayer.net)... 67.228.254.196\r\n",
      "Connecting to s3-api.us-geo.objectstorage.softlayer.net (s3-api.us-geo.objectstorage.softlayer.net)|67.228.254.196|:443... connected.\r\n",
      "HTTP request sent, awaiting response... 200 OK\r\n",
      "Length: 75134 (73K) [application/octet-stream]\r\n",
      "Saving to: 'normal.pt'\r\n",
      "\r\n",
      "normal.pt           100%[===================>]  73.37K   454KB/s    in 0.2s    \r\n",
      "\r\n",
      "2024-03-01 08:10:38 (454 KB/s) - 'normal.pt' saved [75134/75134]\r\n",
      "\r\n"
     ]
    }
   ],
   "source": [
    "# Download a Pretrained Model because training takes a long time\n",
    "!wget https://s3-api.us-geo.objectstorage.softlayer.net/cf-courses-data/CognitiveClass/meet_up/12.02.2020/normal.pt"
   ]
  },
  {
   "cell_type": "code",
   "execution_count": 3,
   "id": "39770367",
   "metadata": {
    "execution": {
     "iopub.execute_input": "2024-03-01T08:10:39.091045Z",
     "iopub.status.busy": "2024-03-01T08:10:39.090580Z",
     "iopub.status.idle": "2024-03-01T08:10:40.780945Z",
     "shell.execute_reply": "2024-03-01T08:10:40.779701Z"
    },
    "papermill": {
     "duration": 1.71223,
     "end_time": "2024-03-01T08:10:40.783746",
     "exception": false,
     "start_time": "2024-03-01T08:10:39.071516",
     "status": "completed"
    },
    "tags": []
   },
   "outputs": [
    {
     "name": "stdout",
     "output_type": "stream",
     "text": [
      "--2024-03-01 08:10:40--  https://s3-api.us-geo.objectstorage.softlayer.net/cf-courses-data/CognitiveClass/meet_up/12.02.2020/rotated_data.pt\r\n",
      "Resolving s3-api.us-geo.objectstorage.softlayer.net (s3-api.us-geo.objectstorage.softlayer.net)... 67.228.254.196\r\n",
      "Connecting to s3-api.us-geo.objectstorage.softlayer.net (s3-api.us-geo.objectstorage.softlayer.net)|67.228.254.196|:443... connected.\r\n",
      "HTTP request sent, awaiting response... 200 OK\r\n",
      "Length: 75134 (73K) [application/octet-stream]\r\n",
      "Saving to: 'rotated_data.pt'\r\n",
      "\r\n",
      "rotated_data.pt     100%[===================>]  73.37K   453KB/s    in 0.2s    \r\n",
      "\r\n",
      "2024-03-01 08:10:40 (453 KB/s) - 'rotated_data.pt' saved [75134/75134]\r\n",
      "\r\n"
     ]
    }
   ],
   "source": [
    "# Download a Pretrained Model Trained on Augmented Data because training takes a long time\n",
    "!wget https://s3-api.us-geo.objectstorage.softlayer.net/cf-courses-data/CognitiveClass/meet_up/12.02.2020/rotated_data.pt"
   ]
  },
  {
   "cell_type": "markdown",
   "id": "7fe937ac",
   "metadata": {
    "papermill": {
     "duration": 0.016884,
     "end_time": "2024-03-01T08:10:40.818464",
     "exception": false,
     "start_time": "2024-03-01T08:10:40.801580",
     "status": "completed"
    },
    "tags": []
   },
   "source": [
    "***Restart the kernel***\n"
   ]
  },
  {
   "cell_type": "code",
   "execution_count": 4,
   "id": "f9ff848d",
   "metadata": {
    "execution": {
     "iopub.execute_input": "2024-03-01T08:10:40.853780Z",
     "iopub.status.busy": "2024-03-01T08:10:40.853359Z",
     "iopub.status.idle": "2024-03-01T08:10:48.733754Z",
     "shell.execute_reply": "2024-03-01T08:10:48.732538Z"
    },
    "papermill": {
     "duration": 7.90138,
     "end_time": "2024-03-01T08:10:48.736568",
     "exception": false,
     "start_time": "2024-03-01T08:10:40.835188",
     "status": "completed"
    },
    "tags": []
   },
   "outputs": [],
   "source": [
    "# Import the libraries we need to use in this lab\n",
    "# Using the following line code to install the torchvision library\n",
    "# !conda install -y torchvision\n",
    "\n",
    "# PyTorch Library\n",
    "import torch \n",
    "# PyTorch Neural Network Library\n",
    "import torch.nn as nn\n",
    "# Allows us to transform data\n",
    "import torchvision.transforms as transforms\n",
    "# Used to graph data and loss curves\n",
    "import matplotlib.pyplot as plt\n",
    "# Allows us to use arrays to manipulate and store data\n",
    "import numpy as np\n",
    "# Allows us to download the dataset\n",
    "import torchvision.datasets as dsets\n",
    "# Allows us to access the filesystem\n",
    "import os  "
   ]
  },
  {
   "cell_type": "markdown",
   "id": "9ac65d7e",
   "metadata": {
    "papermill": {
     "duration": 0.016127,
     "end_time": "2024-03-01T08:10:48.769176",
     "exception": false,
     "start_time": "2024-03-01T08:10:48.753049",
     "status": "completed"
    },
    "tags": []
   },
   "source": [
    "Some useful functions for plotting \n"
   ]
  },
  {
   "cell_type": "markdown",
   "id": "60f2fafa",
   "metadata": {
    "papermill": {
     "duration": 0.01596,
     "end_time": "2024-03-01T08:10:48.801591",
     "exception": false,
     "start_time": "2024-03-01T08:10:48.785631",
     "status": "completed"
    },
    "tags": []
   },
   "source": [
    "Plot Cost and Accuracy vs Epoch Graph\n"
   ]
  },
  {
   "cell_type": "code",
   "execution_count": 5,
   "id": "b7e9f490",
   "metadata": {
    "execution": {
     "iopub.execute_input": "2024-03-01T08:10:48.836354Z",
     "iopub.status.busy": "2024-03-01T08:10:48.835499Z",
     "iopub.status.idle": "2024-03-01T08:10:48.844685Z",
     "shell.execute_reply": "2024-03-01T08:10:48.843450Z"
    },
    "papermill": {
     "duration": 0.029245,
     "end_time": "2024-03-01T08:10:48.847087",
     "exception": false,
     "start_time": "2024-03-01T08:10:48.817842",
     "status": "completed"
    },
    "tags": []
   },
   "outputs": [],
   "source": [
    "def plot_cost_accuracy(checkpoint):\n",
    "\n",
    "# Plot the cost and accuracy\n",
    "\n",
    "    fig, ax1 = plt.subplots()\n",
    "    color = 'tab:red'\n",
    "    ax1.plot(checkpoint['cost'], color=color)\n",
    "    ax1.set_xlabel('epoch', color=color)\n",
    "    ax1.set_ylabel('Cost', color=color)\n",
    "    ax1.tick_params(axis='y', color=color)\n",
    "    \n",
    "    ax2 = ax1.twinx()  \n",
    "    color = 'tab:blue'\n",
    "    ax2.set_ylabel('accuracy', color=color) \n",
    "    ax2.set_xlabel('epoch', color=color)\n",
    "    ax2.plot( checkpoint['accuracy'], color=color)\n",
    "    ax2.tick_params(axis='y', color=color)\n",
    "    fig.tight_layout()"
   ]
  },
  {
   "cell_type": "markdown",
   "id": "e5cfb016",
   "metadata": {
    "papermill": {
     "duration": 0.016792,
     "end_time": "2024-03-01T08:10:48.881600",
     "exception": false,
     "start_time": "2024-03-01T08:10:48.864808",
     "status": "completed"
    },
    "tags": []
   },
   "source": [
    "Define the function <code>show_data</code> to plot out data samples as images.\n"
   ]
  },
  {
   "cell_type": "code",
   "execution_count": 6,
   "id": "6c2e9dd9",
   "metadata": {
    "execution": {
     "iopub.execute_input": "2024-03-01T08:10:48.918141Z",
     "iopub.status.busy": "2024-03-01T08:10:48.916901Z",
     "iopub.status.idle": "2024-03-01T08:10:48.922698Z",
     "shell.execute_reply": "2024-03-01T08:10:48.921815Z"
    },
    "papermill": {
     "duration": 0.026551,
     "end_time": "2024-03-01T08:10:48.925145",
     "exception": false,
     "start_time": "2024-03-01T08:10:48.898594",
     "status": "completed"
    },
    "tags": []
   },
   "outputs": [],
   "source": [
    "def show_data(data_sample):\n",
    "    plt.imshow(data_sample[0].numpy().reshape(IMAGE_SIZE, IMAGE_SIZE), cmap='gray')\n",
    "    plt.title('y = '+ str(data_sample[1]))"
   ]
  },
  {
   "cell_type": "markdown",
   "id": "00a8cd26",
   "metadata": {
    "papermill": {
     "duration": 0.016372,
     "end_time": "2024-03-01T08:10:48.958671",
     "exception": false,
     "start_time": "2024-03-01T08:10:48.942299",
     "status": "completed"
    },
    "tags": []
   },
   "source": [
    "Plot first 5 misclassified samples \n"
   ]
  },
  {
   "cell_type": "code",
   "execution_count": 7,
   "id": "1adc5003",
   "metadata": {
    "execution": {
     "iopub.execute_input": "2024-03-01T08:10:48.994319Z",
     "iopub.status.busy": "2024-03-01T08:10:48.993870Z",
     "iopub.status.idle": "2024-03-01T08:10:49.001285Z",
     "shell.execute_reply": "2024-03-01T08:10:49.000140Z"
    },
    "papermill": {
     "duration": 0.027908,
     "end_time": "2024-03-01T08:10:49.003721",
     "exception": false,
     "start_time": "2024-03-01T08:10:48.975813",
     "status": "completed"
    },
    "tags": []
   },
   "outputs": [],
   "source": [
    "def plot_mis_classified(model, dataset):\n",
    "    count=0\n",
    "    for x, y in torch.utils.data.DataLoader(dataset=dataset, batch_size=1):\n",
    "        z = model(x)\n",
    "        _, yhat = torch.max(z, 1)\n",
    "        if yhat != y:\n",
    "            show_data((x, y))\n",
    "            plt.show()\n",
    "            count += 1\n",
    "        if count >= 5:\n",
    "            break "
   ]
  },
  {
   "cell_type": "markdown",
   "id": "aa7a3c76",
   "metadata": {
    "papermill": {
     "duration": 0.016781,
     "end_time": "2024-03-01T08:10:49.038200",
     "exception": false,
     "start_time": "2024-03-01T08:10:49.021419",
     "status": "completed"
    },
    "tags": []
   },
   "source": [
    "<!--Empty Space for separating topics-->\n"
   ]
  },
  {
   "cell_type": "markdown",
   "id": "e1195489",
   "metadata": {
    "papermill": {
     "duration": 0.016537,
     "end_time": "2024-03-01T08:10:49.073062",
     "exception": false,
     "start_time": "2024-03-01T08:10:49.056525",
     "status": "completed"
    },
    "tags": []
   },
   "source": [
    "<h2 id=\"Makeup_Data\">Load Data</h2> \n"
   ]
  },
  {
   "cell_type": "markdown",
   "id": "41ac0b1d",
   "metadata": {
    "papermill": {
     "duration": 0.01649,
     "end_time": "2024-03-01T08:10:49.106249",
     "exception": false,
     "start_time": "2024-03-01T08:10:49.089759",
     "status": "completed"
    },
    "tags": []
   },
   "source": [
    "We create a transform object  <code>compose</code> one will resize the image and convert it to a tensor, the second will also rotate the image Randomly rotate the image.\n"
   ]
  },
  {
   "cell_type": "code",
   "execution_count": 8,
   "id": "1574d60c",
   "metadata": {
    "execution": {
     "iopub.execute_input": "2024-03-01T08:10:49.146256Z",
     "iopub.status.busy": "2024-03-01T08:10:49.145782Z",
     "iopub.status.idle": "2024-03-01T08:10:49.152397Z",
     "shell.execute_reply": "2024-03-01T08:10:49.151268Z"
    },
    "papermill": {
     "duration": 0.030688,
     "end_time": "2024-03-01T08:10:49.154914",
     "exception": false,
     "start_time": "2024-03-01T08:10:49.124226",
     "status": "completed"
    },
    "tags": []
   },
   "outputs": [],
   "source": [
    "# Size of the images are 16 by 16\n",
    "IMAGE_SIZE = 16\n",
    "\n",
    "# Creating a group of transformations to created a rotated dataset\n",
    "# Resizes the images, randomly rotates it, and then converts it to a tensor\n",
    "compose_rotate = transforms.Compose([transforms.Resize((IMAGE_SIZE, IMAGE_SIZE)),transforms.RandomAffine(45), transforms.ToTensor()])\n",
    "\n",
    "# Creating a group of transformations to created a non rotated dataset\n",
    "# Resizes the images then converts it to a tensor\n",
    "compose = transforms.Compose([transforms.Resize((IMAGE_SIZE, IMAGE_SIZE)), transforms.ToTensor()])"
   ]
  },
  {
   "cell_type": "markdown",
   "id": "1ca8e8f2",
   "metadata": {
    "papermill": {
     "duration": 0.016758,
     "end_time": "2024-03-01T08:10:49.189277",
     "exception": false,
     "start_time": "2024-03-01T08:10:49.172519",
     "status": "completed"
    },
    "tags": []
   },
   "source": [
    "Load the training dataset by setting the parameters <code>train</code> to <code>True</code>. We use the transform defined above, one with rotated data one without.\n"
   ]
  },
  {
   "cell_type": "code",
   "execution_count": 9,
   "id": "b7e63c6f",
   "metadata": {
    "execution": {
     "iopub.execute_input": "2024-03-01T08:10:49.293545Z",
     "iopub.status.busy": "2024-03-01T08:10:49.292689Z",
     "iopub.status.idle": "2024-03-01T08:10:50.444922Z",
     "shell.execute_reply": "2024-03-01T08:10:50.443836Z"
    },
    "papermill": {
     "duration": 1.173856,
     "end_time": "2024-03-01T08:10:50.447702",
     "exception": false,
     "start_time": "2024-03-01T08:10:49.273846",
     "status": "completed"
    },
    "tags": []
   },
   "outputs": [
    {
     "name": "stdout",
     "output_type": "stream",
     "text": [
      "Downloading http://yann.lecun.com/exdb/mnist/train-images-idx3-ubyte.gz\n",
      "Downloading http://yann.lecun.com/exdb/mnist/train-images-idx3-ubyte.gz to ./data/MNIST/raw/train-images-idx3-ubyte.gz\n"
     ]
    },
    {
     "name": "stderr",
     "output_type": "stream",
     "text": [
      "100%|██████████| 9912422/9912422 [00:00<00:00, 199987066.57it/s]"
     ]
    },
    {
     "name": "stdout",
     "output_type": "stream",
     "text": [
      "Extracting ./data/MNIST/raw/train-images-idx3-ubyte.gz to ./data/MNIST/raw\n"
     ]
    },
    {
     "name": "stderr",
     "output_type": "stream",
     "text": [
      "\n"
     ]
    },
    {
     "name": "stdout",
     "output_type": "stream",
     "text": [
      "\n",
      "Downloading http://yann.lecun.com/exdb/mnist/train-labels-idx1-ubyte.gz\n",
      "Downloading http://yann.lecun.com/exdb/mnist/train-labels-idx1-ubyte.gz to ./data/MNIST/raw/train-labels-idx1-ubyte.gz\n"
     ]
    },
    {
     "name": "stderr",
     "output_type": "stream",
     "text": [
      "100%|██████████| 28881/28881 [00:00<00:00, 88939569.62it/s]"
     ]
    },
    {
     "name": "stdout",
     "output_type": "stream",
     "text": [
      "Extracting ./data/MNIST/raw/train-labels-idx1-ubyte.gz to ./data/MNIST/raw\n",
      "\n",
      "Downloading http://yann.lecun.com/exdb/mnist/t10k-images-idx3-ubyte.gz\n",
      "Downloading http://yann.lecun.com/exdb/mnist/t10k-images-idx3-ubyte.gz to ./data/MNIST/raw/t10k-images-idx3-ubyte.gz\n"
     ]
    },
    {
     "name": "stderr",
     "output_type": "stream",
     "text": [
      "\n",
      "100%|██████████| 1648877/1648877 [00:00<00:00, 52107315.91it/s]\n"
     ]
    },
    {
     "name": "stdout",
     "output_type": "stream",
     "text": [
      "Extracting ./data/MNIST/raw/t10k-images-idx3-ubyte.gz to ./data/MNIST/raw\n",
      "\n",
      "Downloading http://yann.lecun.com/exdb/mnist/t10k-labels-idx1-ubyte.gz\n",
      "Downloading http://yann.lecun.com/exdb/mnist/t10k-labels-idx1-ubyte.gz to ./data/MNIST/raw/t10k-labels-idx1-ubyte.gz\n"
     ]
    },
    {
     "name": "stderr",
     "output_type": "stream",
     "text": [
      "100%|██████████| 4542/4542 [00:00<00:00, 6470967.65it/s]\n"
     ]
    },
    {
     "name": "stdout",
     "output_type": "stream",
     "text": [
      "Extracting ./data/MNIST/raw/t10k-labels-idx1-ubyte.gz to ./data/MNIST/raw\n",
      "\n"
     ]
    }
   ],
   "source": [
    "# The transform parameters is set to the corresponding compose\n",
    "train_dataset_rotate = dsets.MNIST(root='./data', train=True, download=True, transform=compose_rotate)\n",
    "train_dataset = dsets.MNIST(root='./data', train=True, download=True, transform=compose)"
   ]
  },
  {
   "cell_type": "markdown",
   "id": "6719232f",
   "metadata": {
    "papermill": {
     "duration": 0.018321,
     "end_time": "2024-03-01T08:10:50.486336",
     "exception": false,
     "start_time": "2024-03-01T08:10:50.468015",
     "status": "completed"
    },
    "tags": []
   },
   "source": [
    "Load the testing dataset by setting the parameters train to <code>False</code>, where the data is <b>ALL</b> rotated.\n"
   ]
  },
  {
   "cell_type": "code",
   "execution_count": 10,
   "id": "b8fe12f6",
   "metadata": {
    "execution": {
     "iopub.execute_input": "2024-03-01T08:10:50.526459Z",
     "iopub.status.busy": "2024-03-01T08:10:50.525761Z",
     "iopub.status.idle": "2024-03-01T08:10:50.542265Z",
     "shell.execute_reply": "2024-03-01T08:10:50.541100Z"
    },
    "papermill": {
     "duration": 0.039611,
     "end_time": "2024-03-01T08:10:50.545076",
     "exception": false,
     "start_time": "2024-03-01T08:10:50.505465",
     "status": "completed"
    },
    "tags": []
   },
   "outputs": [],
   "source": [
    "# Load the testing dataset\n",
    "validation_dataset = dsets.MNIST(root='./data', train=False, download=True, transform=compose_rotate)"
   ]
  },
  {
   "cell_type": "markdown",
   "id": "68cecb30",
   "metadata": {
    "papermill": {
     "duration": 0.019342,
     "end_time": "2024-03-01T08:10:50.583296",
     "exception": false,
     "start_time": "2024-03-01T08:10:50.563954",
     "status": "completed"
    },
    "tags": []
   },
   "source": [
    "Each element in the rectangular tensor corresponds to a number representing a pixel intensity as demonstrated by the following image.\n"
   ]
  },
  {
   "cell_type": "markdown",
   "id": "92b6cf83",
   "metadata": {
    "papermill": {
     "duration": 0.018416,
     "end_time": "2024-03-01T08:10:50.620621",
     "exception": false,
     "start_time": "2024-03-01T08:10:50.602205",
     "status": "completed"
    },
    "tags": []
   },
   "source": [
    "<img src=\"https://s3-api.us-geo.objectstorage.softlayer.net/cf-courses-data/CognitiveClass/DL0110EN/notebook_images%20/chapter%206/6.2.1imagenet.png\" width=\"550\" alt=\"MNIST data image\">\n"
   ]
  },
  {
   "cell_type": "markdown",
   "id": "867a6507",
   "metadata": {
    "papermill": {
     "duration": 0.01831,
     "end_time": "2024-03-01T08:10:50.657757",
     "exception": false,
     "start_time": "2024-03-01T08:10:50.639447",
     "status": "completed"
    },
    "tags": []
   },
   "source": [
    "Plot the first sample \n"
   ]
  },
  {
   "cell_type": "code",
   "execution_count": 11,
   "id": "16fc1d9b",
   "metadata": {
    "execution": {
     "iopub.execute_input": "2024-03-01T08:10:50.696745Z",
     "iopub.status.busy": "2024-03-01T08:10:50.696324Z",
     "iopub.status.idle": "2024-03-01T08:10:51.124475Z",
     "shell.execute_reply": "2024-03-01T08:10:51.123500Z"
    },
    "papermill": {
     "duration": 0.450492,
     "end_time": "2024-03-01T08:10:51.126868",
     "exception": false,
     "start_time": "2024-03-01T08:10:50.676376",
     "status": "completed"
    },
    "tags": []
   },
   "outputs": [
    {
     "data": {
      "image/png": "[encoded data removed]",
      "text/plain": [
       "<Figure size 640x480 with 1 Axes>"
      ]
     },
     "metadata": {},
     "output_type": "display_data"
    }
   ],
   "source": [
    "# The image for the first data sample\n",
    "show_data(train_dataset[0])"
   ]
  },
  {
   "cell_type": "markdown",
   "id": "3c15e706",
   "metadata": {
    "papermill": {
     "duration": 0.019036,
     "end_time": "2024-03-01T08:10:51.165185",
     "exception": false,
     "start_time": "2024-03-01T08:10:51.146149",
     "status": "completed"
    },
    "tags": []
   },
   "source": [
    "Print out the first label, as we can see this digit is a five\n"
   ]
  },
  {
   "cell_type": "code",
   "execution_count": 12,
   "id": "d40592a1",
   "metadata": {
    "execution": {
     "iopub.execute_input": "2024-03-01T08:10:51.208234Z",
     "iopub.status.busy": "2024-03-01T08:10:51.207580Z",
     "iopub.status.idle": "2024-03-01T08:10:51.214333Z",
     "shell.execute_reply": "2024-03-01T08:10:51.213301Z"
    },
    "papermill": {
     "duration": 0.031173,
     "end_time": "2024-03-01T08:10:51.216629",
     "exception": false,
     "start_time": "2024-03-01T08:10:51.185456",
     "status": "completed"
    },
    "tags": []
   },
   "outputs": [
    {
     "data": {
      "text/plain": [
       "5"
      ]
     },
     "execution_count": 12,
     "metadata": {},
     "output_type": "execute_result"
    }
   ],
   "source": [
    "# The label for the first data element\n",
    "train_dataset[0][1]"
   ]
  },
  {
   "cell_type": "markdown",
   "id": "8a9cdf84",
   "metadata": {
    "papermill": {
     "duration": 0.019881,
     "end_time": "2024-03-01T08:10:51.256206",
     "exception": false,
     "start_time": "2024-03-01T08:10:51.236325",
     "status": "completed"
    },
    "tags": []
   },
   "source": [
    "Now let's plot the first sample of the rotated training dataset\n"
   ]
  },
  {
   "cell_type": "code",
   "execution_count": 13,
   "id": "f12dc7fa",
   "metadata": {
    "execution": {
     "iopub.execute_input": "2024-03-01T08:10:51.299824Z",
     "iopub.status.busy": "2024-03-01T08:10:51.298758Z",
     "iopub.status.idle": "2024-03-01T08:10:51.661661Z",
     "shell.execute_reply": "2024-03-01T08:10:51.660475Z"
    },
    "papermill": {
     "duration": 0.387619,
     "end_time": "2024-03-01T08:10:51.664300",
     "exception": false,
     "start_time": "2024-03-01T08:10:51.276681",
     "status": "completed"
    },
    "tags": []
   },
   "outputs": [
    {
     "data": {
      "image/png": "[encoded data removed]",
      "text/plain": [
       "<Figure size 640x480 with 1 Axes>"
      ]
     },
     "metadata": {},
     "output_type": "display_data"
    }
   ],
   "source": [
    "show_data(train_dataset_rotate[0])"
   ]
  },
  {
   "cell_type": "markdown",
   "id": "d19dcd0e",
   "metadata": {
    "papermill": {
     "duration": 0.019845,
     "end_time": "2024-03-01T08:10:51.704643",
     "exception": false,
     "start_time": "2024-03-01T08:10:51.684798",
     "status": "completed"
    },
    "tags": []
   },
   "source": [
    "We can see that this is the same sample but it is rotated as we wanted\n"
   ]
  },
  {
   "cell_type": "markdown",
   "id": "e82a5ea1",
   "metadata": {
    "papermill": {
     "duration": 0.01994,
     "end_time": "2024-03-01T08:10:51.744621",
     "exception": false,
     "start_time": "2024-03-01T08:10:51.724681",
     "status": "completed"
    },
    "tags": []
   },
   "source": [
    "<!--Empty Space for separating topics-->\n"
   ]
  },
  {
   "cell_type": "markdown",
   "id": "cd1dfebd",
   "metadata": {
    "papermill": {
     "duration": 0.020627,
     "end_time": "2024-03-01T08:10:51.785248",
     "exception": false,
     "start_time": "2024-03-01T08:10:51.764621",
     "status": "completed"
    },
    "tags": []
   },
   "source": [
    "<h2 id=\"CNN\">Build a Convolutional Neural Network Class</h2>\n"
   ]
  },
  {
   "cell_type": "markdown",
   "id": "79fab84a",
   "metadata": {
    "papermill": {
     "duration": 0.019735,
     "end_time": "2024-03-01T08:10:51.825462",
     "exception": false,
     "start_time": "2024-03-01T08:10:51.805727",
     "status": "completed"
    },
    "tags": []
   },
   "source": [
    "Build a Convolutional Network class with two Convolutional layers and one fully connected layer. Pre-determine the size of the final output matrix. The parameters in the constructor are the number of output channels for the first and second layers.\n"
   ]
  },
  {
   "cell_type": "code",
   "execution_count": 14,
   "id": "622c5461",
   "metadata": {
    "execution": {
     "iopub.execute_input": "2024-03-01T08:10:51.867481Z",
     "iopub.status.busy": "2024-03-01T08:10:51.867072Z",
     "iopub.status.idle": "2024-03-01T08:10:51.880406Z",
     "shell.execute_reply": "2024-03-01T08:10:51.879280Z"
    },
    "papermill": {
     "duration": 0.037407,
     "end_time": "2024-03-01T08:10:51.882782",
     "exception": false,
     "start_time": "2024-03-01T08:10:51.845375",
     "status": "completed"
    },
    "tags": []
   },
   "outputs": [],
   "source": [
    "class CNN(nn.Module):\n",
    "    \n",
    "    # Contructor\n",
    "    def __init__(self, out_1=16, out_2=32):\n",
    "        super(CNN, self).__init__()\n",
    "        \n",
    "        # The reason we start with 1 channel is because we have a single black and white image\n",
    "        # Channel Width after this layer is 16\n",
    "        self.cnn1 = nn.Conv2d(in_channels=1, out_channels=out_1, kernel_size=5, padding=2)\n",
    "        # Channel Wifth after this layer is 8\n",
    "        self.maxpool1=nn.MaxPool2d(kernel_size=2)\n",
    "        \n",
    "        # Channel Width after this layer is 8\n",
    "        self.cnn2 = nn.Conv2d(in_channels=out_1, out_channels=out_2, kernel_size=5, stride=1, padding=2)\n",
    "        # Channel Width after this layer is 4\n",
    "        self.maxpool2=nn.MaxPool2d(kernel_size=2)\n",
    "        # In total we have out_2 (32) channels which are each 4 * 4 in size based on the width calculation above. Channels are squares.\n",
    "        # The output is a value for each class\n",
    "        self.fc1 = nn.Linear(out_2 * 4 * 4, 10)\n",
    "    \n",
    "    # Prediction\n",
    "    def forward(self, x):\n",
    "        # Puts the X value through each cnn, relu, and pooling layer and it is flattened for input into the fully connected layer\n",
    "        x = self.cnn1(x)\n",
    "        x = torch.relu(x)\n",
    "        x = self.maxpool1(x)\n",
    "        x = self.cnn2(x)\n",
    "        x = torch.relu(x)\n",
    "        x = self.maxpool2(x)\n",
    "        x = x.view(x.size(0), -1)\n",
    "        x = self.fc1(x)\n",
    "        return x\n",
    "\n",
    "    # Outputs result of each stage of the CNN, relu, and pooling layers\n",
    "    def activations(self, x):\n",
    "        # Outputs activation this is not necessary\n",
    "        z1 = self.cnn1(x)\n",
    "        a1 = torch.relu(z1)\n",
    "        out = self.maxpool1(a1)\n",
    "        \n",
    "        z2 = self.cnn2(out)\n",
    "        a2 = torch.relu(z2)\n",
    "        out1 = self.maxpool2(a2)\n",
    "        out = out.view(out.size(0),-1)\n",
    "        return z1, a1, z2, a2, out1,out"
   ]
  },
  {
   "cell_type": "markdown",
   "id": "bb321fbd",
   "metadata": {
    "papermill": {
     "duration": 0.020725,
     "end_time": "2024-03-01T08:10:51.923571",
     "exception": false,
     "start_time": "2024-03-01T08:10:51.902846",
     "status": "completed"
    },
    "tags": []
   },
   "source": [
    "<h2 id=\"regular_data\">Regular Data</h2> \n"
   ]
  },
  {
   "cell_type": "markdown",
   "id": "ff39f851",
   "metadata": {
    "papermill": {
     "duration": 0.019489,
     "end_time": "2024-03-01T08:10:51.963020",
     "exception": false,
     "start_time": "2024-03-01T08:10:51.943531",
     "status": "completed"
    },
    "tags": []
   },
   "source": [
    "Define the Convolutional Neural Network Classifier, Criterion function, Optimizer, and Train the Model\n"
   ]
  },
  {
   "cell_type": "code",
   "execution_count": 15,
   "id": "dfa24ea9",
   "metadata": {
    "execution": {
     "iopub.execute_input": "2024-03-01T08:10:52.004376Z",
     "iopub.status.busy": "2024-03-01T08:10:52.003969Z",
     "iopub.status.idle": "2024-03-01T08:10:52.010287Z",
     "shell.execute_reply": "2024-03-01T08:10:52.009220Z"
    },
    "papermill": {
     "duration": 0.030012,
     "end_time": "2024-03-01T08:10:52.012844",
     "exception": false,
     "start_time": "2024-03-01T08:10:51.982832",
     "status": "completed"
    },
    "tags": []
   },
   "outputs": [],
   "source": [
    "# Create the model object to be trained on regular data using CNN class\n",
    "model = CNN(out_1=16, out_2=32)"
   ]
  },
  {
   "cell_type": "markdown",
   "id": "78fd3855",
   "metadata": {
    "papermill": {
     "duration": 0.019787,
     "end_time": "2024-03-01T08:10:52.054098",
     "exception": false,
     "start_time": "2024-03-01T08:10:52.034311",
     "status": "completed"
    },
    "tags": []
   },
   "source": [
    "Define the loss function, the optimizer, and the dataset loader \n"
   ]
  },
  {
   "cell_type": "code",
   "execution_count": 16,
   "id": "3d2acf9a",
   "metadata": {
    "execution": {
     "iopub.execute_input": "2024-03-01T08:10:52.095726Z",
     "iopub.status.busy": "2024-03-01T08:10:52.095312Z",
     "iopub.status.idle": "2024-03-01T08:10:52.102759Z",
     "shell.execute_reply": "2024-03-01T08:10:52.101543Z"
    },
    "papermill": {
     "duration": 0.031255,
     "end_time": "2024-03-01T08:10:52.105280",
     "exception": false,
     "start_time": "2024-03-01T08:10:52.074025",
     "status": "completed"
    },
    "tags": []
   },
   "outputs": [],
   "source": [
    "# We create a criterion which will measure loss\n",
    "criterion = nn.CrossEntropyLoss()\n",
    "learning_rate = 0.1\n",
    "# Create an optimizer that updates model parameters using the learning rate and gradient\n",
    "optimizer = torch.optim.SGD(model.parameters(), lr = learning_rate)\n",
    "# Create a Data Loader for the training data with a batch size of 100 \n",
    "train_loader = torch.utils.data.DataLoader(dataset=train_dataset, batch_size=100)\n",
    "# Create a Data Loader for the rotated validation data with a batch size of 5000 \n",
    "validation_loader = torch.utils.data.DataLoader(dataset=validation_dataset, batch_size=5000)"
   ]
  },
  {
   "cell_type": "markdown",
   "id": "aff29df2",
   "metadata": {
    "papermill": {
     "duration": 0.019611,
     "end_time": "2024-03-01T08:10:52.145074",
     "exception": false,
     "start_time": "2024-03-01T08:10:52.125463",
     "status": "completed"
    },
    "tags": []
   },
   "source": [
    "This cell will train the model, we will comment it out as it takes a long time to run. You can change the block type from Raw to Code and run it or you can load the trained model in the next cell. Notice that we are not only training and saving the model here but we are also keeping track of important data like the cost and accuracy throughout the training process.\n"
   ]
  },
  {
   "cell_type": "raw",
   "id": "4299cce8",
   "metadata": {
    "papermill": {
     "duration": 0.019681,
     "end_time": "2024-03-01T08:10:52.184670",
     "exception": false,
     "start_time": "2024-03-01T08:10:52.164989",
     "status": "completed"
    },
    "tags": []
   },
   "source": [
    "# Train the model\n",
    "import os  \n",
    "\n",
    "# Location to save data\n",
    "file_normal = os.path.join(os.getcwd(), 'normal.pt')\n",
    "\n",
    "# All the data we are saving\n",
    "checkpoint={\n",
    "            # Saving the number of epochs the models was trained for\n",
    "            'epoch': None,\n",
    "            # Saving the models parameters which will allow us to recreate the trained model\n",
    "            'model_state_dict': None,\n",
    "            # Saving the optimizers parameters\n",
    "            'optimizer_state_dict': None,\n",
    "            # Saving the loss on the training dataset for the last batch of the last epoch\n",
    "            'loss': None,\n",
    "            # Saving the cost on the training dataset for each epoch\n",
    "            'cost': [],\n",
    "            # Saving the accuracy for the testing dataset for each epoch\n",
    "            'accuracy': []}\n",
    "            \n",
    "# Number of epochs to train model\n",
    "n_epochs = 5\n",
    "\n",
    "# Size of the testing dataset\n",
    "N_test = len(validation_dataset)\n",
    "\n",
    "# Training for the number of epochs we want\n",
    "for epoch in range(n_epochs):\n",
    "    # Variable to keep track of cost for each epoch\n",
    "    cost = 0\n",
    "    # For each batch in the training dataset\n",
    "    for x, y in train_loader:\n",
    "        # Resets the calculated gradient value, this must be done each time as it accumulates if we do not reset\n",
    "        optimizer.zero_grad()\n",
    "        # Makes a prediction on the image\n",
    "        z = model(x)\n",
    "        # Calculate the loss between the prediction and actual class\n",
    "        loss = criterion(z, y)\n",
    "        # Calculates the gradient value with respect to each weight and bias\n",
    "        loss.backward()\n",
    "        # Updates the weight and bias according to calculated gradient value\n",
    "        optimizer.step()\n",
    "      \n",
    "        # Saves the number of epochs we trained for  \n",
    "        checkpoint['epochs'] = n_epochs\n",
    "        # Saves the models parameters\n",
    "        checkpoint['model_state_dict'] = model.state_dict()\n",
    "        # Saves the optimizers paramters\n",
    "        checkpoint['optimizer_state_dict'] = optimizer.state_dict()\n",
    "        # Saves the loss for the last batch so ultimately this will be the loss for the last batch of the last epoch\n",
    "        checkpoint['loss'] = loss\n",
    "        # Accumulates the loss\n",
    "        cost += loss.item()\n",
    "        \n",
    "     \n",
    "    # Counter for the correct number of predictions        \n",
    "    correct = 0\n",
    "        \n",
    "    # For each batch in the validation dataset\n",
    "    for x_test, y_test in validation_loader:\n",
    "        # Make a prediction\n",
    "        z = model(x_test)\n",
    "        # Get the class that has the maximum value\n",
    "        _, yhat = torch.max(z.data, 1)\n",
    "        # Counts the number of correct predictions made\n",
    "        correct += (yhat == y_test).sum().item()\n",
    " \n",
    "    accuracy = correct / N_test\n",
    "    print(accuracy)\n",
    "    # Appends the cost of the epoch to a list\n",
    "    checkpoint['cost'].append(cost) \n",
    "    # Appends the accuracy of the epoch to a list\n",
    "    checkpoint['accuracy'].append(accuracy)\n",
    "    # Saves the data in checkpoint to the file location\n",
    "    torch.save(checkpoint, file_normal) "
   ]
  },
  {
   "cell_type": "markdown",
   "id": "38829698",
   "metadata": {
    "papermill": {
     "duration": 0.020323,
     "end_time": "2024-03-01T08:10:52.225577",
     "exception": false,
     "start_time": "2024-03-01T08:10:52.205254",
     "status": "completed"
    },
    "tags": []
   },
   "source": [
    "<h3 id=\"Result\">Analyze Results</h3> \n"
   ]
  },
  {
   "cell_type": "markdown",
   "id": "54323e84",
   "metadata": {
    "papermill": {
     "duration": 0.019719,
     "end_time": "2024-03-01T08:10:52.265438",
     "exception": false,
     "start_time": "2024-03-01T08:10:52.245719",
     "status": "completed"
    },
    "tags": []
   },
   "source": [
    "Loads the data which is saved in `normal.pt`\n"
   ]
  },
  {
   "cell_type": "code",
   "execution_count": 17,
   "id": "f2fc6180",
   "metadata": {
    "execution": {
     "iopub.execute_input": "2024-03-01T08:10:52.307411Z",
     "iopub.status.busy": "2024-03-01T08:10:52.306961Z",
     "iopub.status.idle": "2024-03-01T08:10:52.315212Z",
     "shell.execute_reply": "2024-03-01T08:10:52.313953Z"
    },
    "papermill": {
     "duration": 0.03246,
     "end_time": "2024-03-01T08:10:52.317968",
     "exception": false,
     "start_time": "2024-03-01T08:10:52.285508",
     "status": "completed"
    },
    "tags": []
   },
   "outputs": [],
   "source": [
    "checkpoint_normal = torch.load(os.path.join(os.getcwd(),'normal.pt'))"
   ]
  },
  {
   "cell_type": "markdown",
   "id": "96684e20",
   "metadata": {
    "papermill": {
     "duration": 0.019792,
     "end_time": "2024-03-01T08:10:52.358962",
     "exception": false,
     "start_time": "2024-03-01T08:10:52.339170",
     "status": "completed"
    },
    "tags": []
   },
   "source": [
    "Plot Accuracy and Cost vs Epoch Graph\n"
   ]
  },
  {
   "cell_type": "code",
   "execution_count": 18,
   "id": "6e27d797",
   "metadata": {
    "execution": {
     "iopub.execute_input": "2024-03-01T08:10:52.400904Z",
     "iopub.status.busy": "2024-03-01T08:10:52.400474Z",
     "iopub.status.idle": "2024-03-01T08:10:52.979200Z",
     "shell.execute_reply": "2024-03-01T08:10:52.977802Z"
    },
    "papermill": {
     "duration": 0.602929,
     "end_time": "2024-03-01T08:10:52.981876",
     "exception": false,
     "start_time": "2024-03-01T08:10:52.378947",
     "status": "completed"
    },
    "tags": []
   },
   "outputs": [
    {
     "data": {
      "image/png": "[encoded data removed]",
      "text/plain": [
       "<Figure size 640x480 with 2 Axes>"
      ]
     },
     "metadata": {},
     "output_type": "display_data"
    }
   ],
   "source": [
    "# Using the helper function defined at the top and the cost and accuracy lists that we saved\n",
    "plot_cost_accuracy(checkpoint_normal)"
   ]
  },
  {
   "cell_type": "markdown",
   "id": "2e6b0a71",
   "metadata": {
    "papermill": {
     "duration": 0.020644,
     "end_time": "2024-03-01T08:10:53.023335",
     "exception": false,
     "start_time": "2024-03-01T08:10:53.002691",
     "status": "completed"
    },
    "tags": []
   },
   "source": [
    "Five misclassified samples\n"
   ]
  },
  {
   "cell_type": "code",
   "execution_count": 19,
   "id": "a4a961e6",
   "metadata": {
    "execution": {
     "iopub.execute_input": "2024-03-01T08:10:53.068106Z",
     "iopub.status.busy": "2024-03-01T08:10:53.067711Z",
     "iopub.status.idle": "2024-03-01T08:10:54.714037Z",
     "shell.execute_reply": "2024-03-01T08:10:54.712797Z"
    },
    "papermill": {
     "duration": 1.671166,
     "end_time": "2024-03-01T08:10:54.716660",
     "exception": false,
     "start_time": "2024-03-01T08:10:53.045494",
     "status": "completed"
    },
    "tags": []
   },
   "outputs": [
    {
     "data": {
      "image/png": "[encoded data removed]",
      "text/plain": [
       "<Figure size 640x480 with 1 Axes>"
      ]
     },
     "metadata": {},
     "output_type": "display_data"
    },
    {
     "data": {
      "image/png": "[encoded data removed]",
      "text/plain": [
       "<Figure size 640x480 with 1 Axes>"
      ]
     },
     "metadata": {},
     "output_type": "display_data"
    },
    {
     "data": {
      "image/png": "[encoded data removed]",
      "text/plain": [
       "<Figure size 640x480 with 1 Axes>"
      ]
     },
     "metadata": {},
     "output_type": "display_data"
    },
    {
     "data": {
      "image/png": "[encoded data removed]",
      "text/plain": [
       "<Figure size 640x480 with 1 Axes>"
      ]
     },
     "metadata": {},
     "output_type": "display_data"
    },
    {
     "data": {
      "image/png": "[encoded data removed]",
      "text/plain": [
       "<Figure size 640x480 with 1 Axes>"
      ]
     },
     "metadata": {},
     "output_type": "display_data"
    }
   ],
   "source": [
    "# Using the model parameters we saved we load them into a model to recreate the trained model\n",
    "model.load_state_dict(checkpoint_normal['model_state_dict'])\n",
    "# Setting the model to evaluation mode\n",
    "model.eval()\n",
    "# Using the helper function plot the first five misclassified samples\n",
    "plot_mis_classified(model,validation_dataset)"
   ]
  },
  {
   "cell_type": "markdown",
   "id": "a55afcaa",
   "metadata": {
    "papermill": {
     "duration": 0.023428,
     "end_time": "2024-03-01T08:10:54.764479",
     "exception": false,
     "start_time": "2024-03-01T08:10:54.741051",
     "status": "completed"
    },
    "tags": []
   },
   "source": [
    "<!--Empty Space for separating topics-->\n"
   ]
  },
  {
   "cell_type": "markdown",
   "id": "7045c54b",
   "metadata": {
    "papermill": {
     "duration": 0.023126,
     "end_time": "2024-03-01T08:10:54.811706",
     "exception": false,
     "start_time": "2024-03-01T08:10:54.788580",
     "status": "completed"
    },
    "tags": []
   },
   "source": [
    "<h2 id=\"R_training_data\">Rotated Training Data</h2> \n"
   ]
  },
  {
   "cell_type": "markdown",
   "id": "50362c75",
   "metadata": {
    "papermill": {
     "duration": 0.022185,
     "end_time": "2024-03-01T08:10:54.856807",
     "exception": false,
     "start_time": "2024-03-01T08:10:54.834622",
     "status": "completed"
    },
    "tags": []
   },
   "source": [
    "Plot the loss and accuracy on the validation data:\n"
   ]
  },
  {
   "cell_type": "code",
   "execution_count": 20,
   "id": "cf093842",
   "metadata": {
    "execution": {
     "iopub.execute_input": "2024-03-01T08:10:54.904368Z",
     "iopub.status.busy": "2024-03-01T08:10:54.903709Z",
     "iopub.status.idle": "2024-03-01T08:10:54.911869Z",
     "shell.execute_reply": "2024-03-01T08:10:54.910542Z"
    },
    "papermill": {
     "duration": 0.03509,
     "end_time": "2024-03-01T08:10:54.914626",
     "exception": false,
     "start_time": "2024-03-01T08:10:54.879536",
     "status": "completed"
    },
    "tags": []
   },
   "outputs": [],
   "source": [
    "# Create the model object using CNN class\n",
    "model_r = CNN(out_1=16, out_2=32)\n",
    "# We create a criterion which will measure loss\n",
    "criterion = nn.CrossEntropyLoss()\n",
    "learning_rate = 0.1\n",
    "# Create an optimizer that updates model parameters using the learning rate and gradient\n",
    "optimizer = torch.optim.SGD(model_r.parameters(), lr = learning_rate)\n",
    "# Create a Data Loader for the rotated training data with a batch size of 100 \n",
    "train_loader = torch.utils.data.DataLoader(dataset=train_dataset_rotate, batch_size=100)\n",
    "# Create a Data Loader for the rotated validation data with a batch size of 5000 \n",
    "validation_loader = torch.utils.data.DataLoader(dataset=validation_dataset, batch_size=5000)"
   ]
  },
  {
   "cell_type": "markdown",
   "id": "ede1570c",
   "metadata": {
    "papermill": {
     "duration": 0.022234,
     "end_time": "2024-03-01T08:10:54.959605",
     "exception": false,
     "start_time": "2024-03-01T08:10:54.937371",
     "status": "completed"
    },
    "tags": []
   },
   "source": [
    "This cell will train the model, we will comment it out as it takes a long time to run. You can change the block type from Raw to Code and run it or you can load the trained model in the next cell.\n"
   ]
  },
  {
   "cell_type": "raw",
   "id": "5963fdb9",
   "metadata": {
    "papermill": {
     "duration": 0.022313,
     "end_time": "2024-03-01T08:10:55.004425",
     "exception": false,
     "start_time": "2024-03-01T08:10:54.982112",
     "status": "completed"
    },
    "tags": []
   },
   "source": [
    "# Location to save data\n",
    "file_rotated = os.path.join(os.getcwd(), 'rotated_data.pt')\n",
    "\n",
    "# All the data we are saving\n",
    "checkpoint={\n",
    "            # Saving the number of epochs the models was trained for\n",
    "            'epoch': None,\n",
    "            # Saving the models parameters which will allow us to recreate the trained model\n",
    "            'model_state_dict': None,\n",
    "            # Saving the optimizers parameters\n",
    "            'optimizer_state_dict': None,\n",
    "            # Saving the loss on the training dataset for the last batch of the last epoch\n",
    "            'loss': None,\n",
    "            # Saving the cost on the training dataset for each epoch\n",
    "            'cost': [],\n",
    "            # Saving the accuracy for the testing dataset for each epoch\n",
    "            'accuracy': []}\n",
    "            \n",
    "# Number of epochs to train model            \n",
    "n_epochs = 5\n",
    "\n",
    "# Size of the testing dataset\n",
    "N_test = len(validation_dataset)\n",
    "\n",
    "# Training for the number of epochs we want\n",
    "for epoch in range(n_epochs):\n",
    "    # Variable to keep track of cost for each epoch\n",
    "    cost = 0\n",
    "    # For each batch in the training dataset\n",
    "    for x, y in train_loader:\n",
    "        # Resets the calculated gradient value, this must be done each time as it accumulates if we do not reset\n",
    "        optimizer.zero_grad()\n",
    "        # Makes a prediction on the image\n",
    "        z = model_r(x)\n",
    "        # Calculate the loss between the prediction and actual class\n",
    "        loss = criterion(z, y)\n",
    "        # Calculates the gradient value with respect to each weight and bias\n",
    "        loss.backward()\n",
    "        # Updates the weight and bias according to calculated gradient value\n",
    "        optimizer.step()\n",
    "      \n",
    "        # Saves the number of epochs we trained for  \n",
    "        checkpoint['epochs'] = n_epochs\n",
    "        # Saves the models parameters\n",
    "        checkpoint['model_state_dict'] = model.state_dict()\n",
    "        # Saves the optimizers paramters\n",
    "        checkpoint['optimizer_state_dict'] = optimizer.state_dict()\n",
    "        # Saves the loss for the last batch so ultimately this will be the loss for the last batch of the last epoch\n",
    "        checkpoint['loss'] = loss\n",
    "        # Accumulates the loss\n",
    "        cost+=loss.item()\n",
    "        \n",
    "     \n",
    "    # Counter for the correct number of predictions        \n",
    "    correct = 0\n",
    "        \n",
    "    # For each batch in the validation dataset\n",
    "    for x_test, y_test in validation_loader:\n",
    "        # Make a prediction\n",
    "        z = model_r(x_test)\n",
    "        # Get the class that has the maximum value\n",
    "        _, yhat = torch.max(z.data, 1)\n",
    "        # Counts the number of correct predictions made\n",
    "        correct += (yhat == y_test).sum().item()\n",
    " \n",
    "    accuracy = correct / N_test\n",
    "    print(accuracy)\n",
    "    # Appends the cost of the epoch to a list\n",
    "    checkpoint['cost'].append(cost) \n",
    "    # Appends the accuracy of the epoch to a list\n",
    "    checkpoint['accuracy'].append(accuracy)\n",
    "    # Saves the data in checkpoint to the file location\n",
    "    torch.save(checkpoint, file_rotated) "
   ]
  },
  {
   "cell_type": "markdown",
   "id": "cc41d48f",
   "metadata": {
    "papermill": {
     "duration": 0.023291,
     "end_time": "2024-03-01T08:10:55.050295",
     "exception": false,
     "start_time": "2024-03-01T08:10:55.027004",
     "status": "completed"
    },
    "tags": []
   },
   "source": [
    "<h3 id=\"Result\">Analyze Results</h3> \n"
   ]
  },
  {
   "cell_type": "markdown",
   "id": "e85bbb14",
   "metadata": {
    "papermill": {
     "duration": 0.022418,
     "end_time": "2024-03-01T08:10:55.095935",
     "exception": false,
     "start_time": "2024-03-01T08:10:55.073517",
     "status": "completed"
    },
    "tags": []
   },
   "source": [
    "Loads the data which is saved in `rotated_data.pt`\n"
   ]
  },
  {
   "cell_type": "code",
   "execution_count": 21,
   "id": "72b11042",
   "metadata": {
    "execution": {
     "iopub.execute_input": "2024-03-01T08:10:55.144118Z",
     "iopub.status.busy": "2024-03-01T08:10:55.143469Z",
     "iopub.status.idle": "2024-03-01T08:10:55.150795Z",
     "shell.execute_reply": "2024-03-01T08:10:55.149915Z"
    },
    "papermill": {
     "duration": 0.034359,
     "end_time": "2024-03-01T08:10:55.153168",
     "exception": false,
     "start_time": "2024-03-01T08:10:55.118809",
     "status": "completed"
    },
    "tags": []
   },
   "outputs": [],
   "source": [
    "checkpoint_rotated= torch.load(os.path.join(os.getcwd(),'rotated_data.pt'))"
   ]
  },
  {
   "cell_type": "markdown",
   "id": "72587dec",
   "metadata": {
    "papermill": {
     "duration": 0.022834,
     "end_time": "2024-03-01T08:10:55.199332",
     "exception": false,
     "start_time": "2024-03-01T08:10:55.176498",
     "status": "completed"
    },
    "tags": []
   },
   "source": [
    "Plot Accuracy and Cost vs Epoch Graph\n"
   ]
  },
  {
   "cell_type": "code",
   "execution_count": 22,
   "id": "bea52914",
   "metadata": {
    "execution": {
     "iopub.execute_input": "2024-03-01T08:10:55.248793Z",
     "iopub.status.busy": "2024-03-01T08:10:55.247590Z",
     "iopub.status.idle": "2024-03-01T08:10:55.779685Z",
     "shell.execute_reply": "2024-03-01T08:10:55.778394Z"
    },
    "papermill": {
     "duration": 0.5602,
     "end_time": "2024-03-01T08:10:55.782667",
     "exception": false,
     "start_time": "2024-03-01T08:10:55.222467",
     "status": "completed"
    },
    "tags": []
   },
   "outputs": [
    {
     "data": {
      "image/png": "[encoded data removed]",
      "text/plain": [
       "<Figure size 640x480 with 2 Axes>"
      ]
     },
     "metadata": {},
     "output_type": "display_data"
    }
   ],
   "source": [
    "# Using the helper function defined at the top and the cost and accuracy lists that we saved\n",
    "plot_cost_accuracy(checkpoint_rotated)"
   ]
  },
  {
   "cell_type": "markdown",
   "id": "743b8f64",
   "metadata": {
    "papermill": {
     "duration": 0.023168,
     "end_time": "2024-03-01T08:10:55.830441",
     "exception": false,
     "start_time": "2024-03-01T08:10:55.807273",
     "status": "completed"
    },
    "tags": []
   },
   "source": [
    "Five misclassified samples\n"
   ]
  },
  {
   "cell_type": "code",
   "execution_count": 23,
   "id": "6c208b3b",
   "metadata": {
    "execution": {
     "iopub.execute_input": "2024-03-01T08:10:55.881565Z",
     "iopub.status.busy": "2024-03-01T08:10:55.880894Z",
     "iopub.status.idle": "2024-03-01T08:10:57.612135Z",
     "shell.execute_reply": "2024-03-01T08:10:57.610846Z"
    },
    "papermill": {
     "duration": 1.759282,
     "end_time": "2024-03-01T08:10:57.614941",
     "exception": false,
     "start_time": "2024-03-01T08:10:55.855659",
     "status": "completed"
    },
    "tags": []
   },
   "outputs": [
    {
     "data": {
      "image/png": "[encoded data removed]",
      "text/plain": [
       "<Figure size 640x480 with 1 Axes>"
      ]
     },
     "metadata": {},
     "output_type": "display_data"
    },
    {
     "data": {
      "image/png": "[encoded data removed]",
      "text/plain": [
       "<Figure size 640x480 with 1 Axes>"
      ]
     },
     "metadata": {},
     "output_type": "display_data"
    },
    {
     "data": {
      "image/png": "[encoded data removed]",
      "text/plain": [
       "<Figure size 640x480 with 1 Axes>"
      ]
     },
     "metadata": {},
     "output_type": "display_data"
    },
    {
     "data": {
      "image/png": "[encoded data removed]",
      "text/plain": [
       "<Figure size 640x480 with 1 Axes>"
      ]
     },
     "metadata": {},
     "output_type": "display_data"
    },
    {
     "data": {
      "image/png": "[encoded data removed]",
      "text/plain": [
       "<Figure size 640x480 with 1 Axes>"
      ]
     },
     "metadata": {},
     "output_type": "display_data"
    }
   ],
   "source": [
    "# Using the model parameters we saved we load them into a model to recreate the trained model\n",
    "model_r.load_state_dict(checkpoint_rotated['model_state_dict'])\n",
    "# Setting the model to evaluation mode\n",
    "model.eval()\n",
    "# Using the helper function plot the first five misclassified samples\n",
    "plot_mis_classified(model_r,validation_dataset)"
   ]
  },
  {
   "cell_type": "markdown",
   "id": "2abf6a78",
   "metadata": {
    "papermill": {
     "duration": 0.025675,
     "end_time": "2024-03-01T08:10:57.667355",
     "exception": false,
     "start_time": "2024-03-01T08:10:57.641680",
     "status": "completed"
    },
    "tags": []
   },
   "source": [
    "## Summary \n"
   ]
  },
  {
   "cell_type": "markdown",
   "id": "32279eaf",
   "metadata": {
    "papermill": {
     "duration": 0.025085,
     "end_time": "2024-03-01T08:10:57.719049",
     "exception": false,
     "start_time": "2024-03-01T08:10:57.693964",
     "status": "completed"
    },
    "tags": []
   },
   "source": [
    "As you can see in the two Cost and Accuracy vs Epoch Graph the model trained on rotated data performs much better on the rotated validation data, 79% vs 95%+. By creating and training on rotated data allows the model to learn from unique data and have increased exposure to real life situations because data is not always perfect or rotated correctly.\n"
   ]
  }
 ],
 "metadata": {
  "kaggle": {
   "accelerator": "none",
   "dataSources": [],
   "dockerImageVersionId": 30664,
   "isGpuEnabled": false,
   "isInternetEnabled": true,
   "language": "python",
   "sourceType": "notebook"
  },
  "kernelspec": {
   "display_name": "Python 3",
   "language": "python",
   "name": "python3"
  },
  "language_info": {
   "codemirror_mode": {
    "name": "ipython",
    "version": 3
   },
   "file_extension": ".py",
   "mimetype": "text/x-python",
   "name": "python",
   "nbconvert_exporter": "python",
   "pygments_lexer": "ipython3",
   "version": "3.10.13"
  },
  "papermill": {
   "default_parameters": {},
   "duration": 26.241459,
   "end_time": "2024-03-01T08:11:00.053329",
   "environment_variables": {},
   "exception": null,
   "input_path": "__notebook__.ipynb",
   "output_path": "__notebook__.ipynb",
   "parameters": {},
   "start_time": "2024-03-01T08:10:33.811870",
   "version": "2.5.0"
  }
 },
 "nbformat": 4,
 "nbformat_minor": 5
}
